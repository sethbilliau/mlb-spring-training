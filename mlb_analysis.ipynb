{
 "cells": [
  {
   "cell_type": "code",
   "execution_count": 1,
   "id": "a07883ad-b3e2-40c5-af9d-be006a4a3fe0",
   "metadata": {},
   "outputs": [],
   "source": [
    "from savant_data_downloader.savant_data_downloader import get_new_data\n",
    "import polars as pl\n",
    "from datetime import datetime, date\n",
    "import pybaseball as pb\n",
    "import pprint\n",
    "from utils import get_sheet_data, get_ABS_universe"
   ]
  },
  {
   "cell_type": "code",
   "execution_count": 2,
   "id": "439af328-e23d-4c9b-b0b9-d26c928da7fa",
   "metadata": {},
   "outputs": [],
   "source": [
    "abs_challenges_end_ab = pl.read_csv(\"data/abs_challenges_end_ab.csv\")"
   ]
  },
  {
   "cell_type": "code",
   "execution_count": 35,
   "id": "6899bd48-6c15-4334-96b4-c8fc8d1b92ce",
   "metadata": {},
   "outputs": [
    {
     "data": {
      "text/html": [
       "<div><style>\n",
       ".dataframe > thead > tr,\n",
       ".dataframe > tbody > tr {\n",
       "  text-align: right;\n",
       "  white-space: pre-wrap;\n",
       "}\n",
       "</style>\n",
       "<small>shape: (8, 17)</small><table border=\"1\" class=\"dataframe\"><thead><tr><th>abs_index</th><th>abs_successful</th><th>abs_type</th><th>abs_caller</th><th>game_date</th><th>batter_first_name</th><th>batter_last_name</th><th>pitcher_first_name</th><th>pitcher_last_name</th><th>home_team</th><th>away_team</th><th>inning</th><th>outs_when_up</th><th>balls</th><th>strikes</th><th>source</th><th>Contributor</th></tr><tr><td>i32</td><td>str</td><td>str</td><td>str</td><td>date</td><td>str</td><td>str</td><td>str</td><td>str</td><td>str</td><td>str</td><td>i8</td><td>i8</td><td>i8</td><td>i8</td><td>str</td><td>str</td></tr></thead><tbody><tr><td>0</td><td>&quot;yes&quot;</td><td>&quot;Strike To Ball&quot;</td><td>&quot;batter&quot;</td><td>2025-02-22</td><td>&quot;Everson&quot;</td><td>&quot;Pereira&quot;</td><td>&quot;Eric&quot;</td><td>&quot;Pardinho&quot;</td><td>&quot;TOR&quot;</td><td>&quot;NYY&quot;</td><td>6</td><td>2</td><td>3</td><td>2</td><td>&quot;https://www.espn.com/mlb/story…</td><td>&quot;Seth Billiau&quot;</td></tr><tr><td>1</td><td>&quot;yes&quot;</td><td>&quot;Ball To Strike&quot;</td><td>&quot;catcher&quot;</td><td>2025-02-21</td><td>&quot;Kyle&quot;</td><td>&quot;Farmer&quot;</td><td>&quot;Corbin&quot;</td><td>&quot;Burnes&quot;</td><td>&quot;AZ&quot;</td><td>&quot;COL&quot;</td><td>1</td><td>1</td><td>1</td><td>2</td><td>&quot;https://www.sportico.com/leagu…</td><td>&quot;Seth Billiau&quot;</td></tr><tr><td>2</td><td>&quot;yes&quot;</td><td>&quot;Ball To Strike&quot;</td><td>&quot;catcher&quot;</td><td>2025-02-20</td><td>&quot;Max&quot;</td><td>&quot;Muncy&quot;</td><td>&quot;Cody&quot;</td><td>&quot;Poteet&quot;</td><td>&quot;LAD&quot;</td><td>&quot;CHC&quot;</td><td>1</td><td>0</td><td>0</td><td>1</td><td>&quot;https://www.mlb.com/video/cubs…</td><td>&quot;Seth Billiau&quot;</td></tr><tr><td>3</td><td>&quot;yes&quot;</td><td>&quot;Strike To Ball&quot;</td><td>&quot;batter&quot;</td><td>2025-02-23</td><td>&quot;Andy&quot;</td><td>&quot;Pages&quot;</td><td>&quot;Manuel&quot;</td><td>&quot;Castro&quot;</td><td>&quot;LAD&quot;</td><td>&quot;SD&quot;</td><td>3</td><td>2</td><td>0</td><td>2</td><td>&quot;https://x.com/TalkingFriars/st…</td><td>&quot;Seth Billiau&quot;</td></tr><tr><td>4</td><td>&quot;yes&quot;</td><td>&quot;Ball To Strike&quot;</td><td>&quot;catcher&quot;</td><td>2025-02-25</td><td>&quot;Cole&quot;</td><td>&quot;Fontenelle&quot;</td><td>&quot;Yuki&quot;</td><td>&quot;Matsui&quot;</td><td>&quot;SD&quot;</td><td>&quot;LAA&quot;</td><td>5</td><td>0</td><td>1</td><td>1</td><td>&quot;https://x.com/TalkingFriars/st…</td><td>&quot;Seth Billiau&quot;</td></tr><tr><td>5</td><td>&quot;yes&quot;</td><td>&quot;Ball To Strike&quot;</td><td>&quot;catcher&quot;</td><td>2025-02-25</td><td>&quot;Rio&quot;</td><td>&quot;Foster&quot;</td><td>&quot;Jacob&quot;</td><td>&quot;Higginbotham&quot;</td><td>&quot;SD&quot;</td><td>&quot;LAA&quot;</td><td>8</td><td>0</td><td>3</td><td>2</td><td>&quot;https://x.com/TalkingFriars&quot;</td><td>&quot;Seth Billiau&quot;</td></tr><tr><td>6</td><td>&quot;no&quot;</td><td>&quot;Ball To Strike&quot;</td><td>&quot;catcher&quot;</td><td>2025-02-25</td><td>&quot;Carter&quot;</td><td>&quot;Kieboom&quot;</td><td>&quot;Omar&quot;</td><td>&quot;Cruz&quot;</td><td>&quot;SD&quot;</td><td>&quot;LAA&quot;</td><td>7</td><td>0</td><td>2</td><td>2</td><td>&quot;https://x.com/TalkingFriars/st…</td><td>&quot;Seth Billiau&quot;</td></tr><tr><td>7</td><td>&quot;no&quot;</td><td>&quot;Ball To Strike&quot;</td><td>&quot;catcher&quot;</td><td>2025-02-21</td><td>&quot;Jazz&quot;</td><td>&quot;Chisholm&quot;</td><td>&quot;Eric&quot;</td><td>&quot;Orze&quot;</td><td>&quot;NYY&quot;</td><td>&quot;TB&quot;</td><td>3</td><td>2</td><td>3</td><td>2</td><td>&quot;https://x.com/JomboyMedia/stat…</td><td>&quot;Seth Billiau&quot;</td></tr></tbody></table></div>"
      ],
      "text/plain": [
       "shape: (8, 17)\n",
       "┌───────────┬────────────┬────────────┬────────────┬───┬───────┬─────────┬────────────┬────────────┐\n",
       "│ abs_index ┆ abs_succes ┆ abs_type   ┆ abs_caller ┆ … ┆ balls ┆ strikes ┆ source     ┆ Contributo │\n",
       "│ ---       ┆ sful       ┆ ---        ┆ ---        ┆   ┆ ---   ┆ ---     ┆ ---        ┆ r          │\n",
       "│ i32       ┆ ---        ┆ str        ┆ str        ┆   ┆ i8    ┆ i8      ┆ str        ┆ ---        │\n",
       "│           ┆ str        ┆            ┆            ┆   ┆       ┆         ┆            ┆ str        │\n",
       "╞═══════════╪════════════╪════════════╪════════════╪═══╪═══════╪═════════╪════════════╪════════════╡\n",
       "│ 0         ┆ yes        ┆ Strike To  ┆ batter     ┆ … ┆ 3     ┆ 2       ┆ https://ww ┆ Seth       │\n",
       "│           ┆            ┆ Ball       ┆            ┆   ┆       ┆         ┆ w.espn.com ┆ Billiau    │\n",
       "│           ┆            ┆            ┆            ┆   ┆       ┆         ┆ /mlb/story ┆            │\n",
       "│           ┆            ┆            ┆            ┆   ┆       ┆         ┆ …          ┆            │\n",
       "│ 1         ┆ yes        ┆ Ball To    ┆ catcher    ┆ … ┆ 1     ┆ 2       ┆ https://ww ┆ Seth       │\n",
       "│           ┆            ┆ Strike     ┆            ┆   ┆       ┆         ┆ w.sportico ┆ Billiau    │\n",
       "│           ┆            ┆            ┆            ┆   ┆       ┆         ┆ .com/leagu ┆            │\n",
       "│           ┆            ┆            ┆            ┆   ┆       ┆         ┆ …          ┆            │\n",
       "│ 2         ┆ yes        ┆ Ball To    ┆ catcher    ┆ … ┆ 0     ┆ 1       ┆ https://ww ┆ Seth       │\n",
       "│           ┆            ┆ Strike     ┆            ┆   ┆       ┆         ┆ w.mlb.com/ ┆ Billiau    │\n",
       "│           ┆            ┆            ┆            ┆   ┆       ┆         ┆ video/cubs ┆            │\n",
       "│           ┆            ┆            ┆            ┆   ┆       ┆         ┆ …          ┆            │\n",
       "│ 3         ┆ yes        ┆ Strike To  ┆ batter     ┆ … ┆ 0     ┆ 2       ┆ https://x. ┆ Seth       │\n",
       "│           ┆            ┆ Ball       ┆            ┆   ┆       ┆         ┆ com/Talkin ┆ Billiau    │\n",
       "│           ┆            ┆            ┆            ┆   ┆       ┆         ┆ gFriars/st ┆            │\n",
       "│           ┆            ┆            ┆            ┆   ┆       ┆         ┆ …          ┆            │\n",
       "│ 4         ┆ yes        ┆ Ball To    ┆ catcher    ┆ … ┆ 1     ┆ 1       ┆ https://x. ┆ Seth       │\n",
       "│           ┆            ┆ Strike     ┆            ┆   ┆       ┆         ┆ com/Talkin ┆ Billiau    │\n",
       "│           ┆            ┆            ┆            ┆   ┆       ┆         ┆ gFriars/st ┆            │\n",
       "│           ┆            ┆            ┆            ┆   ┆       ┆         ┆ …          ┆            │\n",
       "│ 5         ┆ yes        ┆ Ball To    ┆ catcher    ┆ … ┆ 3     ┆ 2       ┆ https://x. ┆ Seth       │\n",
       "│           ┆            ┆ Strike     ┆            ┆   ┆       ┆         ┆ com/Talkin ┆ Billiau    │\n",
       "│           ┆            ┆            ┆            ┆   ┆       ┆         ┆ gFriars    ┆            │\n",
       "│ 6         ┆ no         ┆ Ball To    ┆ catcher    ┆ … ┆ 2     ┆ 2       ┆ https://x. ┆ Seth       │\n",
       "│           ┆            ┆ Strike     ┆            ┆   ┆       ┆         ┆ com/Talkin ┆ Billiau    │\n",
       "│           ┆            ┆            ┆            ┆   ┆       ┆         ┆ gFriars/st ┆            │\n",
       "│           ┆            ┆            ┆            ┆   ┆       ┆         ┆ …          ┆            │\n",
       "│ 7         ┆ no         ┆ Ball To    ┆ catcher    ┆ … ┆ 3     ┆ 2       ┆ https://x. ┆ Seth       │\n",
       "│           ┆            ┆ Strike     ┆            ┆   ┆       ┆         ┆ com/Jomboy ┆ Billiau    │\n",
       "│           ┆            ┆            ┆            ┆   ┆       ┆         ┆ Media/stat ┆            │\n",
       "│           ┆            ┆            ┆            ┆   ┆       ┆         ┆ …          ┆            │\n",
       "└───────────┴────────────┴────────────┴────────────┴───┴───────┴─────────┴────────────┴────────────┘"
      ]
     },
     "execution_count": 35,
     "metadata": {},
     "output_type": "execute_result"
    }
   ],
   "source": [
    "manual_data = get_sheet_data()\n",
    "manual_data"
   ]
  },
  {
   "cell_type": "code",
   "execution_count": 36,
   "id": "8f81aa23-f2ee-4376-b4c6-3e03c9b35db0",
   "metadata": {},
   "outputs": [
    {
     "name": "stdout",
     "output_type": "stream",
     "text": [
      "Today's date: 2025-03-02\n",
      "Formatted date: 2025-03-02\n"
     ]
    },
    {
     "name": "stderr",
     "output_type": "stream",
     "text": [
      "Fetching Statcast Data: 100%|███████████████████| 30/30 [00:00<00:00, 42.38it/s]\n"
     ]
    }
   ],
   "source": [
    "start_date = '2025-02-01'\n",
    "\n",
    "today = date.today()\n",
    "print(\"Today's date:\", today)\n",
    "\n",
    "# To format the date, you can use strftime()\n",
    "end_date = today.strftime(\"%Y-%m-%d\") # Year-month-day\n",
    "print(\"Formatted date:\", end_date)\n",
    "\n",
    "# Pull all spring training pitches\n",
    "data = get_new_data(start_date, end_date)\n",
    "\n",
    "ABS_universe = get_ABS_universe(data)"
   ]
  },
  {
   "cell_type": "code",
   "execution_count": 64,
   "id": "46220810-4194-4cee-b00a-444668cbc333",
   "metadata": {},
   "outputs": [
    {
     "data": {
      "text/html": [
       "<div><style>\n",
       ".dataframe > thead > tr,\n",
       ".dataframe > tbody > tr {\n",
       "  text-align: right;\n",
       "  white-space: pre-wrap;\n",
       "}\n",
       "</style>\n",
       "<small>shape: (8, 123)</small><table border=\"1\" class=\"dataframe\"><thead><tr><th>abs_index</th><th>abs_successful</th><th>abs_type</th><th>abs_caller</th><th>game_date</th><th>batter_first_name</th><th>batter_last_name</th><th>pitcher_first_name</th><th>pitcher_last_name</th><th>home_team</th><th>away_team</th><th>inning</th><th>outs_when_up</th><th>balls</th><th>strikes</th><th>source</th><th>Contributor</th><th>pitch_type</th><th>release_speed</th><th>release_pos_x</th><th>release_pos_z</th><th>player_name</th><th>batter</th><th>pitcher</th><th>events</th><th>description</th><th>spin_dir</th><th>spin_rate_deprecated</th><th>break_angle_deprecated</th><th>break_length_deprecated</th><th>zone</th><th>des</th><th>game_type</th><th>stand</th><th>p_throws</th><th>type</th><th>hit_location</th><th>&hellip;</th><th>pitch_name</th><th>home_score</th><th>away_score</th><th>bat_score</th><th>fld_score</th><th>post_away_score</th><th>post_home_score</th><th>post_bat_score</th><th>post_fld_score</th><th>if_fielding_alignment</th><th>of_fielding_alignment</th><th>spin_axis</th><th>delta_home_win_exp</th><th>delta_run_exp</th><th>bat_speed</th><th>swing_length</th><th>estimated_slg_using_speedangle</th><th>delta_pitcher_run_exp</th><th>hyper_speed</th><th>home_score_diff</th><th>bat_score_diff</th><th>home_win_exp</th><th>bat_win_exp</th><th>age_pit_legacy</th><th>age_bat_legacy</th><th>age_pit</th><th>age_bat</th><th>n_thruorder_pitcher</th><th>n_priorpa_thisgame_player_at_bat</th><th>pitcher_days_since_prev_game</th><th>batter_days_since_prev_game</th><th>pitcher_days_until_next_game</th><th>batter_days_until_next_game</th><th>api_break_z_with_gravity</th><th>api_break_x_arm</th><th>api_break_x_batter_in</th><th>arm_angle</th></tr><tr><td>i32</td><td>str</td><td>str</td><td>str</td><td>date</td><td>str</td><td>str</td><td>str</td><td>str</td><td>str</td><td>str</td><td>i8</td><td>i8</td><td>i8</td><td>i8</td><td>str</td><td>str</td><td>str</td><td>f64</td><td>f64</td><td>f64</td><td>str</td><td>i64</td><td>i64</td><td>str</td><td>str</td><td>i64</td><td>i64</td><td>i64</td><td>i64</td><td>i64</td><td>str</td><td>str</td><td>str</td><td>str</td><td>str</td><td>i64</td><td>&hellip;</td><td>str</td><td>i64</td><td>i64</td><td>i64</td><td>i64</td><td>i64</td><td>i64</td><td>i64</td><td>i64</td><td>str</td><td>str</td><td>i64</td><td>f64</td><td>i64</td><td>f64</td><td>f64</td><td>f64</td><td>i64</td><td>f64</td><td>i64</td><td>i64</td><td>f64</td><td>f64</td><td>i64</td><td>i64</td><td>i64</td><td>i64</td><td>i64</td><td>i64</td><td>i64</td><td>i64</td><td>i64</td><td>i64</td><td>f64</td><td>f64</td><td>f64</td><td>i64</td></tr></thead><tbody><tr><td>0</td><td>&quot;yes&quot;</td><td>&quot;Strike To Ball&quot;</td><td>&quot;batter&quot;</td><td>2025-02-22</td><td>&quot;Everson&quot;</td><td>&quot;Pereira&quot;</td><td>&quot;Eric&quot;</td><td>&quot;Pardinho&quot;</td><td>&quot;TOR&quot;</td><td>&quot;NYY&quot;</td><td>6</td><td>2</td><td>3</td><td>2</td><td>&quot;https://www.espn.com/mlb/story…</td><td>&quot;Seth Billiau&quot;</td><td>&quot;FF&quot;</td><td>93.1</td><td>-1.2</td><td>5.62</td><td>&quot;Pardinho, Eric&quot;</td><td>677592</td><td>672078</td><td>&quot;walk&quot;</td><td>&quot;ball&quot;</td><td>null</td><td>null</td><td>null</td><td>null</td><td>14</td><td>&quot;Everson Pereira walks.&quot;</td><td>&quot;S&quot;</td><td>&quot;R&quot;</td><td>&quot;R&quot;</td><td>&quot;B&quot;</td><td>null</td><td>&hellip;</td><td>&quot;4-Seam Fastball&quot;</td><td>4</td><td>0</td><td>0</td><td>4</td><td>0</td><td>4</td><td>0</td><td>4</td><td>&quot;Standard&quot;</td><td>&quot;Standard&quot;</td><td>218</td><td>-0.008</td><td>null</td><td>null</td><td>null</td><td>null</td><td>null</td><td>null</td><td>4</td><td>-4</td><td>0.951</td><td>0.049</td><td>24</td><td>24</td><td>24</td><td>24</td><td>1</td><td>2</td><td>null</td><td>null</td><td>null</td><td>null</td><td>1.04</td><td>0.67</td><td>0.67</td><td>null</td></tr><tr><td>1</td><td>&quot;yes&quot;</td><td>&quot;Ball To Strike&quot;</td><td>&quot;catcher&quot;</td><td>2025-02-21</td><td>&quot;Kyle&quot;</td><td>&quot;Farmer&quot;</td><td>&quot;Corbin&quot;</td><td>&quot;Burnes&quot;</td><td>&quot;AZ&quot;</td><td>&quot;COL&quot;</td><td>1</td><td>1</td><td>1</td><td>2</td><td>&quot;https://www.sportico.com/leagu…</td><td>&quot;Seth Billiau&quot;</td><td>&quot;FC&quot;</td><td>94.2</td><td>-0.79</td><td>5.98</td><td>&quot;Burnes, Corbin&quot;</td><td>571657</td><td>669203</td><td>&quot;strikeout&quot;</td><td>&quot;called_strike&quot;</td><td>null</td><td>null</td><td>null</td><td>null</td><td>9</td><td>&quot;Kyle Farmer called out on stri…</td><td>&quot;S&quot;</td><td>&quot;R&quot;</td><td>&quot;R&quot;</td><td>&quot;S&quot;</td><td>2</td><td>&hellip;</td><td>&quot;Cutter&quot;</td><td>0</td><td>0</td><td>0</td><td>0</td><td>0</td><td>0</td><td>0</td><td>0</td><td>&quot;Standard&quot;</td><td>&quot;Standard&quot;</td><td>194</td><td>0.015</td><td>null</td><td>null</td><td>null</td><td>null</td><td>null</td><td>null</td><td>0</td><td>0</td><td>0.522</td><td>0.478</td><td>30</td><td>34</td><td>31</td><td>35</td><td>1</td><td>0</td><td>null</td><td>null</td><td>null</td><td>null</td><td>1.47</td><td>-0.11</td><td>-0.11</td><td>null</td></tr><tr><td>2</td><td>&quot;yes&quot;</td><td>&quot;Ball To Strike&quot;</td><td>&quot;catcher&quot;</td><td>2025-02-20</td><td>&quot;Max&quot;</td><td>&quot;Muncy&quot;</td><td>&quot;Cody&quot;</td><td>&quot;Poteet&quot;</td><td>&quot;LAD&quot;</td><td>&quot;CHC&quot;</td><td>1</td><td>0</td><td>0</td><td>1</td><td>&quot;https://www.mlb.com/video/cubs…</td><td>&quot;Seth Billiau&quot;</td><td>&quot;FF&quot;</td><td>95.1</td><td>-1.18</td><td>6.32</td><td>&quot;Poteet, Cody&quot;</td><td>571970</td><td>547001</td><td>null</td><td>&quot;called_strike&quot;</td><td>null</td><td>null</td><td>null</td><td>null</td><td>9</td><td>&quot;Max Muncy called out on strike…</td><td>&quot;S&quot;</td><td>&quot;L&quot;</td><td>&quot;R&quot;</td><td>&quot;S&quot;</td><td>null</td><td>&hellip;</td><td>&quot;4-Seam Fastball&quot;</td><td>0</td><td>0</td><td>0</td><td>0</td><td>0</td><td>0</td><td>0</td><td>0</td><td>&quot;Strategic&quot;</td><td>&quot;Strategic&quot;</td><td>216</td><td>0.0</td><td>null</td><td>null</td><td>null</td><td>null</td><td>null</td><td>null</td><td>0</td><td>0</td><td>0.583</td><td>0.583</td><td>30</td><td>34</td><td>31</td><td>35</td><td>1</td><td>0</td><td>null</td><td>null</td><td>null</td><td>null</td><td>1.24</td><td>0.7</td><td>-0.7</td><td>null</td></tr><tr><td>3</td><td>&quot;yes&quot;</td><td>&quot;Strike To Ball&quot;</td><td>&quot;batter&quot;</td><td>2025-02-23</td><td>&quot;Andy&quot;</td><td>&quot;Pages&quot;</td><td>&quot;Manuel&quot;</td><td>&quot;Castro&quot;</td><td>&quot;LAD&quot;</td><td>&quot;SD&quot;</td><td>3</td><td>2</td><td>0</td><td>2</td><td>&quot;https://x.com/TalkingFriars/st…</td><td>&quot;Seth Billiau&quot;</td><td>&quot;SI&quot;</td><td>94.5</td><td>-1.09</td><td>6.1</td><td>&quot;Castro, Manuel&quot;</td><td>681624</td><td>701195</td><td>null</td><td>&quot;ball&quot;</td><td>null</td><td>null</td><td>null</td><td>null</td><td>12</td><td>&quot;Andy Pages called out on strik…</td><td>&quot;S&quot;</td><td>&quot;R&quot;</td><td>&quot;R&quot;</td><td>&quot;B&quot;</td><td>null</td><td>&hellip;</td><td>&quot;Sinker&quot;</td><td>3</td><td>2</td><td>3</td><td>2</td><td>2</td><td>3</td><td>3</td><td>2</td><td>&quot;Standard&quot;</td><td>&quot;Standard&quot;</td><td>221</td><td>0.0</td><td>null</td><td>null</td><td>null</td><td>null</td><td>null</td><td>null</td><td>1</td><td>1</td><td>0.693</td><td>0.693</td><td>23</td><td>24</td><td>23</td><td>25</td><td>1</td><td>1</td><td>null</td><td>null</td><td>null</td><td>null</td><td>1.3</td><td>1.16</td><td>1.16</td><td>null</td></tr><tr><td>4</td><td>&quot;yes&quot;</td><td>&quot;Ball To Strike&quot;</td><td>&quot;catcher&quot;</td><td>2025-02-25</td><td>&quot;Cole&quot;</td><td>&quot;Fontenelle&quot;</td><td>&quot;Yuki&quot;</td><td>&quot;Matsui&quot;</td><td>&quot;SD&quot;</td><td>&quot;LAA&quot;</td><td>5</td><td>0</td><td>1</td><td>1</td><td>&quot;https://x.com/TalkingFriars/st…</td><td>&quot;Seth Billiau&quot;</td><td>&quot;FF&quot;</td><td>90.9</td><td>2.07</td><td>6.14</td><td>&quot;Matsui, Yuki&quot;</td><td>694304</td><td>673513</td><td>null</td><td>&quot;called_strike&quot;</td><td>null</td><td>null</td><td>null</td><td>null</td><td>8</td><td>&quot;Cole Fontenelle grounds into a…</td><td>&quot;S&quot;</td><td>&quot;R&quot;</td><td>&quot;L&quot;</td><td>&quot;S&quot;</td><td>null</td><td>&hellip;</td><td>&quot;4-Seam Fastball&quot;</td><td>0</td><td>0</td><td>0</td><td>0</td><td>0</td><td>0</td><td>0</td><td>0</td><td>&quot;Standard&quot;</td><td>&quot;Standard&quot;</td><td>161</td><td>0.0</td><td>null</td><td>null</td><td>null</td><td>null</td><td>null</td><td>null</td><td>0</td><td>0</td><td>0.453</td><td>0.547</td><td>29</td><td>23</td><td>30</td><td>23</td><td>1</td><td>1</td><td>null</td><td>null</td><td>null</td><td>null</td><td>1.29</td><td>0.17</td><td>-0.17</td><td>null</td></tr><tr><td>5</td><td>&quot;yes&quot;</td><td>&quot;Ball To Strike&quot;</td><td>&quot;catcher&quot;</td><td>2025-02-25</td><td>&quot;Rio&quot;</td><td>&quot;Foster&quot;</td><td>&quot;Jacob&quot;</td><td>&quot;Higginbotham&quot;</td><td>&quot;SD&quot;</td><td>&quot;LAA&quot;</td><td>8</td><td>0</td><td>3</td><td>2</td><td>&quot;https://x.com/TalkingFriars&quot;</td><td>&quot;Seth Billiau&quot;</td><td>&quot;SL&quot;</td><td>83.3</td><td>0.94</td><td>5.84</td><td>&quot;Higginbotham, Jake&quot;</td><td>815306</td><td>663977</td><td>&quot;strikeout&quot;</td><td>&quot;called_strike&quot;</td><td>null</td><td>null</td><td>null</td><td>null</td><td>9</td><td>&quot;Angels challenged (pitch resul…</td><td>&quot;S&quot;</td><td>&quot;R&quot;</td><td>&quot;L&quot;</td><td>&quot;S&quot;</td><td>2</td><td>&hellip;</td><td>&quot;Slider&quot;</td><td>0</td><td>0</td><td>0</td><td>0</td><td>0</td><td>0</td><td>0</td><td>0</td><td>&quot;Strategic&quot;</td><td>&quot;Standard&quot;</td><td>302</td><td>0.093</td><td>null</td><td>null</td><td>null</td><td>null</td><td>null</td><td>null</td><td>0</td><td>0</td><td>0.231</td><td>0.769</td><td>29</td><td>22</td><td>29</td><td>22</td><td>1</td><td>0</td><td>null</td><td>null</td><td>null</td><td>null</td><td>3.26</td><td>-0.45</td><td>0.45</td><td>null</td></tr><tr><td>6</td><td>&quot;no&quot;</td><td>&quot;Ball To Strike&quot;</td><td>&quot;catcher&quot;</td><td>2025-02-25</td><td>&quot;Carter&quot;</td><td>&quot;Kieboom&quot;</td><td>&quot;Omar&quot;</td><td>&quot;Cruz&quot;</td><td>&quot;SD&quot;</td><td>&quot;LAA&quot;</td><td>7</td><td>0</td><td>2</td><td>2</td><td>&quot;https://x.com/TalkingFriars/st…</td><td>&quot;Seth Billiau&quot;</td><td>&quot;CH&quot;</td><td>81.3</td><td>1.19</td><td>6.15</td><td>&quot;Cruz, Omar&quot;</td><td>666198</td><td>678316</td><td>null</td><td>&quot;ball&quot;</td><td>null</td><td>null</td><td>null</td><td>null</td><td>13</td><td>&quot;Carter Kieboom singles on a gr…</td><td>&quot;S&quot;</td><td>&quot;R&quot;</td><td>&quot;L&quot;</td><td>&quot;B&quot;</td><td>null</td><td>&hellip;</td><td>&quot;Changeup&quot;</td><td>0</td><td>0</td><td>0</td><td>0</td><td>0</td><td>0</td><td>0</td><td>0</td><td>&quot;Standard&quot;</td><td>&quot;Standard&quot;</td><td>118</td><td>0.0</td><td>null</td><td>null</td><td>null</td><td>null</td><td>null</td><td>null</td><td>0</td><td>0</td><td>0.5</td><td>0.5</td><td>26</td><td>27</td><td>26</td><td>28</td><td>1</td><td>0</td><td>null</td><td>null</td><td>null</td><td>null</td><td>3.02</td><td>1.25</td><td>-1.25</td><td>null</td></tr><tr><td>7</td><td>&quot;no&quot;</td><td>&quot;Ball To Strike&quot;</td><td>&quot;catcher&quot;</td><td>2025-02-21</td><td>&quot;Jazz&quot;</td><td>&quot;Chisholm&quot;</td><td>&quot;Eric&quot;</td><td>&quot;Orze&quot;</td><td>&quot;NYY&quot;</td><td>&quot;TB&quot;</td><td>3</td><td>2</td><td>3</td><td>2</td><td>&quot;https://x.com/JomboyMedia/stat…</td><td>&quot;Seth Billiau&quot;</td><td>&quot;CH&quot;</td><td>83.3</td><td>-1.22</td><td>5.8</td><td>&quot;Orze, Eric&quot;</td><td>665862</td><td>679358</td><td>&quot;walk&quot;</td><td>&quot;ball&quot;</td><td>null</td><td>null</td><td>null</td><td>null</td><td>11</td><td>&quot;Rays challenged (pitch result)…</td><td>&quot;S&quot;</td><td>&quot;L&quot;</td><td>&quot;R&quot;</td><td>&quot;B&quot;</td><td>null</td><td>&hellip;</td><td>&quot;Changeup&quot;</td><td>2</td><td>0</td><td>2</td><td>0</td><td>0</td><td>2</td><td>2</td><td>0</td><td>&quot;Standard&quot;</td><td>&quot;Standard&quot;</td><td>251</td><td>0.008</td><td>null</td><td>null</td><td>null</td><td>null</td><td>null</td><td>null</td><td>2</td><td>2</td><td>0.746</td><td>0.746</td><td>27</td><td>27</td><td>28</td><td>27</td><td>1</td><td>1</td><td>null</td><td>null</td><td>null</td><td>null</td><td>3.54</td><td>1.14</td><td>-1.14</td><td>null</td></tr></tbody></table></div>"
      ],
      "text/plain": [
       "shape: (8, 123)\n",
       "┌───────────┬───────────┬───────────┬───────────┬───┬───────────┬───────────┬───────────┬──────────┐\n",
       "│ abs_index ┆ abs_succe ┆ abs_type  ┆ abs_calle ┆ … ┆ api_break ┆ api_break ┆ api_break ┆ arm_angl │\n",
       "│ ---       ┆ ssful     ┆ ---       ┆ r         ┆   ┆ _z_with_g ┆ _x_arm    ┆ _x_batter ┆ e        │\n",
       "│ i32       ┆ ---       ┆ str       ┆ ---       ┆   ┆ ravity    ┆ ---       ┆ _in       ┆ ---      │\n",
       "│           ┆ str       ┆           ┆ str       ┆   ┆ ---       ┆ f64       ┆ ---       ┆ i64      │\n",
       "│           ┆           ┆           ┆           ┆   ┆ f64       ┆           ┆ f64       ┆          │\n",
       "╞═══════════╪═══════════╪═══════════╪═══════════╪═══╪═══════════╪═══════════╪═══════════╪══════════╡\n",
       "│ 0         ┆ yes       ┆ Strike To ┆ batter    ┆ … ┆ 1.04      ┆ 0.67      ┆ 0.67      ┆ null     │\n",
       "│           ┆           ┆ Ball      ┆           ┆   ┆           ┆           ┆           ┆          │\n",
       "│ 1         ┆ yes       ┆ Ball To   ┆ catcher   ┆ … ┆ 1.47      ┆ -0.11     ┆ -0.11     ┆ null     │\n",
       "│           ┆           ┆ Strike    ┆           ┆   ┆           ┆           ┆           ┆          │\n",
       "│ 2         ┆ yes       ┆ Ball To   ┆ catcher   ┆ … ┆ 1.24      ┆ 0.7       ┆ -0.7      ┆ null     │\n",
       "│           ┆           ┆ Strike    ┆           ┆   ┆           ┆           ┆           ┆          │\n",
       "│ 3         ┆ yes       ┆ Strike To ┆ batter    ┆ … ┆ 1.3       ┆ 1.16      ┆ 1.16      ┆ null     │\n",
       "│           ┆           ┆ Ball      ┆           ┆   ┆           ┆           ┆           ┆          │\n",
       "│ 4         ┆ yes       ┆ Ball To   ┆ catcher   ┆ … ┆ 1.29      ┆ 0.17      ┆ -0.17     ┆ null     │\n",
       "│           ┆           ┆ Strike    ┆           ┆   ┆           ┆           ┆           ┆          │\n",
       "│ 5         ┆ yes       ┆ Ball To   ┆ catcher   ┆ … ┆ 3.26      ┆ -0.45     ┆ 0.45      ┆ null     │\n",
       "│           ┆           ┆ Strike    ┆           ┆   ┆           ┆           ┆           ┆          │\n",
       "│ 6         ┆ no        ┆ Ball To   ┆ catcher   ┆ … ┆ 3.02      ┆ 1.25      ┆ -1.25     ┆ null     │\n",
       "│           ┆           ┆ Strike    ┆           ┆   ┆           ┆           ┆           ┆          │\n",
       "│ 7         ┆ no        ┆ Ball To   ┆ catcher   ┆ … ┆ 3.54      ┆ 1.14      ┆ -1.14     ┆ null     │\n",
       "│           ┆           ┆ Strike    ┆           ┆   ┆           ┆           ┆           ┆          │\n",
       "└───────────┴───────────┴───────────┴───────────┴───┴───────────┴───────────┴───────────┴──────────┘"
      ]
     },
     "execution_count": 64,
     "metadata": {},
     "output_type": "execute_result"
    }
   ],
   "source": [
    "joined_data = manual_data.join(\n",
    "    ABS_universe, \n",
    "    ['game_date', 'inning', 'balls', 'strikes', 'outs_when_up', 'home_team', 'away_team'],\n",
    "    how=\"left\"\n",
    ")\n",
    "joined_data"
   ]
  },
  {
   "cell_type": "code",
   "execution_count": 82,
   "id": "42dd0cef-e4ce-4222-b68e-bd7a9a6a1f77",
   "metadata": {},
   "outputs": [
    {
     "data": {
      "text/html": [
       "<div><style>\n",
       ".dataframe > thead > tr,\n",
       ".dataframe > tbody > tr {\n",
       "  text-align: right;\n",
       "  white-space: pre-wrap;\n",
       "}\n",
       "</style>\n",
       "<small>shape: (8, 124)</small><table border=\"1\" class=\"dataframe\"><thead><tr><th>abs_index</th><th>abs_successful</th><th>abs_type</th><th>abs_caller</th><th>game_date</th><th>batter_first_name</th><th>batter_last_name</th><th>pitcher_first_name</th><th>pitcher_last_name</th><th>home_team</th><th>away_team</th><th>inning</th><th>outs_when_up</th><th>balls</th><th>strikes</th><th>source</th><th>Contributor</th><th>pitch_type</th><th>release_speed</th><th>release_pos_x</th><th>release_pos_z</th><th>player_name</th><th>batter</th><th>pitcher</th><th>events</th><th>description</th><th>spin_dir</th><th>spin_rate_deprecated</th><th>break_angle_deprecated</th><th>break_length_deprecated</th><th>zone</th><th>des</th><th>game_type</th><th>stand</th><th>p_throws</th><th>type</th><th>hit_location</th><th>&hellip;</th><th>home_score</th><th>away_score</th><th>bat_score</th><th>fld_score</th><th>post_away_score</th><th>post_home_score</th><th>post_bat_score</th><th>post_fld_score</th><th>if_fielding_alignment</th><th>of_fielding_alignment</th><th>spin_axis</th><th>delta_home_win_exp</th><th>delta_run_exp</th><th>bat_speed</th><th>swing_length</th><th>estimated_slg_using_speedangle</th><th>delta_pitcher_run_exp</th><th>hyper_speed</th><th>home_score_diff</th><th>bat_score_diff</th><th>home_win_exp</th><th>bat_win_exp</th><th>age_pit_legacy</th><th>age_bat_legacy</th><th>age_pit</th><th>age_bat</th><th>n_thruorder_pitcher</th><th>n_priorpa_thisgame_player_at_bat</th><th>pitcher_days_since_prev_game</th><th>batter_days_since_prev_game</th><th>pitcher_days_until_next_game</th><th>batter_days_until_next_game</th><th>api_break_z_with_gravity</th><th>api_break_x_arm</th><th>api_break_x_batter_in</th><th>arm_angle</th><th>color</th></tr><tr><td>i32</td><td>str</td><td>str</td><td>str</td><td>date</td><td>str</td><td>str</td><td>str</td><td>str</td><td>str</td><td>str</td><td>i8</td><td>i8</td><td>i8</td><td>i8</td><td>str</td><td>str</td><td>str</td><td>f64</td><td>f64</td><td>f64</td><td>str</td><td>i64</td><td>i64</td><td>str</td><td>str</td><td>i64</td><td>i64</td><td>i64</td><td>i64</td><td>i64</td><td>str</td><td>str</td><td>str</td><td>str</td><td>str</td><td>i64</td><td>&hellip;</td><td>i64</td><td>i64</td><td>i64</td><td>i64</td><td>i64</td><td>i64</td><td>i64</td><td>i64</td><td>str</td><td>str</td><td>i64</td><td>f64</td><td>i64</td><td>f64</td><td>f64</td><td>f64</td><td>i64</td><td>f64</td><td>i64</td><td>i64</td><td>f64</td><td>f64</td><td>i64</td><td>i64</td><td>i64</td><td>i64</td><td>i64</td><td>i64</td><td>i64</td><td>i64</td><td>i64</td><td>i64</td><td>f64</td><td>f64</td><td>f64</td><td>i64</td><td>str</td></tr></thead><tbody><tr><td>0</td><td>&quot;yes&quot;</td><td>&quot;Strike To Ball&quot;</td><td>&quot;batter&quot;</td><td>2025-02-22</td><td>&quot;Everson&quot;</td><td>&quot;Pereira&quot;</td><td>&quot;Eric&quot;</td><td>&quot;Pardinho&quot;</td><td>&quot;TOR&quot;</td><td>&quot;NYY&quot;</td><td>6</td><td>2</td><td>3</td><td>2</td><td>&quot;https://www.espn.com/mlb/story…</td><td>&quot;Seth Billiau&quot;</td><td>&quot;FF&quot;</td><td>93.1</td><td>-1.2</td><td>5.62</td><td>&quot;Pardinho, Eric&quot;</td><td>677592</td><td>672078</td><td>&quot;walk&quot;</td><td>&quot;ball&quot;</td><td>null</td><td>null</td><td>null</td><td>null</td><td>14</td><td>&quot;Everson Pereira walks.&quot;</td><td>&quot;S&quot;</td><td>&quot;R&quot;</td><td>&quot;R&quot;</td><td>&quot;B&quot;</td><td>null</td><td>&hellip;</td><td>4</td><td>0</td><td>0</td><td>4</td><td>0</td><td>4</td><td>0</td><td>4</td><td>&quot;Standard&quot;</td><td>&quot;Standard&quot;</td><td>218</td><td>-0.008</td><td>null</td><td>null</td><td>null</td><td>null</td><td>null</td><td>null</td><td>4</td><td>-4</td><td>0.951</td><td>0.049</td><td>24</td><td>24</td><td>24</td><td>24</td><td>1</td><td>2</td><td>null</td><td>null</td><td>null</td><td>null</td><td>1.04</td><td>0.67</td><td>0.67</td><td>null</td><td>&quot;blue&quot;</td></tr><tr><td>1</td><td>&quot;yes&quot;</td><td>&quot;Ball To Strike&quot;</td><td>&quot;catcher&quot;</td><td>2025-02-21</td><td>&quot;Kyle&quot;</td><td>&quot;Farmer&quot;</td><td>&quot;Corbin&quot;</td><td>&quot;Burnes&quot;</td><td>&quot;AZ&quot;</td><td>&quot;COL&quot;</td><td>1</td><td>1</td><td>1</td><td>2</td><td>&quot;https://www.sportico.com/leagu…</td><td>&quot;Seth Billiau&quot;</td><td>&quot;FC&quot;</td><td>94.2</td><td>-0.79</td><td>5.98</td><td>&quot;Burnes, Corbin&quot;</td><td>571657</td><td>669203</td><td>&quot;strikeout&quot;</td><td>&quot;called_strike&quot;</td><td>null</td><td>null</td><td>null</td><td>null</td><td>9</td><td>&quot;Kyle Farmer called out on stri…</td><td>&quot;S&quot;</td><td>&quot;R&quot;</td><td>&quot;R&quot;</td><td>&quot;S&quot;</td><td>2</td><td>&hellip;</td><td>0</td><td>0</td><td>0</td><td>0</td><td>0</td><td>0</td><td>0</td><td>0</td><td>&quot;Standard&quot;</td><td>&quot;Standard&quot;</td><td>194</td><td>0.015</td><td>null</td><td>null</td><td>null</td><td>null</td><td>null</td><td>null</td><td>0</td><td>0</td><td>0.522</td><td>0.478</td><td>30</td><td>34</td><td>31</td><td>35</td><td>1</td><td>0</td><td>null</td><td>null</td><td>null</td><td>null</td><td>1.47</td><td>-0.11</td><td>-0.11</td><td>null</td><td>&quot;red&quot;</td></tr><tr><td>2</td><td>&quot;yes&quot;</td><td>&quot;Ball To Strike&quot;</td><td>&quot;catcher&quot;</td><td>2025-02-20</td><td>&quot;Max&quot;</td><td>&quot;Muncy&quot;</td><td>&quot;Cody&quot;</td><td>&quot;Poteet&quot;</td><td>&quot;LAD&quot;</td><td>&quot;CHC&quot;</td><td>1</td><td>0</td><td>0</td><td>1</td><td>&quot;https://www.mlb.com/video/cubs…</td><td>&quot;Seth Billiau&quot;</td><td>&quot;FF&quot;</td><td>95.1</td><td>-1.18</td><td>6.32</td><td>&quot;Poteet, Cody&quot;</td><td>571970</td><td>547001</td><td>null</td><td>&quot;called_strike&quot;</td><td>null</td><td>null</td><td>null</td><td>null</td><td>9</td><td>&quot;Max Muncy called out on strike…</td><td>&quot;S&quot;</td><td>&quot;L&quot;</td><td>&quot;R&quot;</td><td>&quot;S&quot;</td><td>null</td><td>&hellip;</td><td>0</td><td>0</td><td>0</td><td>0</td><td>0</td><td>0</td><td>0</td><td>0</td><td>&quot;Strategic&quot;</td><td>&quot;Strategic&quot;</td><td>216</td><td>0.0</td><td>null</td><td>null</td><td>null</td><td>null</td><td>null</td><td>null</td><td>0</td><td>0</td><td>0.583</td><td>0.583</td><td>30</td><td>34</td><td>31</td><td>35</td><td>1</td><td>0</td><td>null</td><td>null</td><td>null</td><td>null</td><td>1.24</td><td>0.7</td><td>-0.7</td><td>null</td><td>&quot;red&quot;</td></tr><tr><td>3</td><td>&quot;yes&quot;</td><td>&quot;Strike To Ball&quot;</td><td>&quot;batter&quot;</td><td>2025-02-23</td><td>&quot;Andy&quot;</td><td>&quot;Pages&quot;</td><td>&quot;Manuel&quot;</td><td>&quot;Castro&quot;</td><td>&quot;LAD&quot;</td><td>&quot;SD&quot;</td><td>3</td><td>2</td><td>0</td><td>2</td><td>&quot;https://x.com/TalkingFriars/st…</td><td>&quot;Seth Billiau&quot;</td><td>&quot;SI&quot;</td><td>94.5</td><td>-1.09</td><td>6.1</td><td>&quot;Castro, Manuel&quot;</td><td>681624</td><td>701195</td><td>null</td><td>&quot;ball&quot;</td><td>null</td><td>null</td><td>null</td><td>null</td><td>12</td><td>&quot;Andy Pages called out on strik…</td><td>&quot;S&quot;</td><td>&quot;R&quot;</td><td>&quot;R&quot;</td><td>&quot;B&quot;</td><td>null</td><td>&hellip;</td><td>3</td><td>2</td><td>3</td><td>2</td><td>2</td><td>3</td><td>3</td><td>2</td><td>&quot;Standard&quot;</td><td>&quot;Standard&quot;</td><td>221</td><td>0.0</td><td>null</td><td>null</td><td>null</td><td>null</td><td>null</td><td>null</td><td>1</td><td>1</td><td>0.693</td><td>0.693</td><td>23</td><td>24</td><td>23</td><td>25</td><td>1</td><td>1</td><td>null</td><td>null</td><td>null</td><td>null</td><td>1.3</td><td>1.16</td><td>1.16</td><td>null</td><td>&quot;blue&quot;</td></tr><tr><td>4</td><td>&quot;yes&quot;</td><td>&quot;Ball To Strike&quot;</td><td>&quot;catcher&quot;</td><td>2025-02-25</td><td>&quot;Cole&quot;</td><td>&quot;Fontenelle&quot;</td><td>&quot;Yuki&quot;</td><td>&quot;Matsui&quot;</td><td>&quot;SD&quot;</td><td>&quot;LAA&quot;</td><td>5</td><td>0</td><td>1</td><td>1</td><td>&quot;https://x.com/TalkingFriars/st…</td><td>&quot;Seth Billiau&quot;</td><td>&quot;FF&quot;</td><td>90.9</td><td>2.07</td><td>6.14</td><td>&quot;Matsui, Yuki&quot;</td><td>694304</td><td>673513</td><td>null</td><td>&quot;called_strike&quot;</td><td>null</td><td>null</td><td>null</td><td>null</td><td>8</td><td>&quot;Cole Fontenelle grounds into a…</td><td>&quot;S&quot;</td><td>&quot;R&quot;</td><td>&quot;L&quot;</td><td>&quot;S&quot;</td><td>null</td><td>&hellip;</td><td>0</td><td>0</td><td>0</td><td>0</td><td>0</td><td>0</td><td>0</td><td>0</td><td>&quot;Standard&quot;</td><td>&quot;Standard&quot;</td><td>161</td><td>0.0</td><td>null</td><td>null</td><td>null</td><td>null</td><td>null</td><td>null</td><td>0</td><td>0</td><td>0.453</td><td>0.547</td><td>29</td><td>23</td><td>30</td><td>23</td><td>1</td><td>1</td><td>null</td><td>null</td><td>null</td><td>null</td><td>1.29</td><td>0.17</td><td>-0.17</td><td>null</td><td>&quot;red&quot;</td></tr><tr><td>5</td><td>&quot;yes&quot;</td><td>&quot;Ball To Strike&quot;</td><td>&quot;catcher&quot;</td><td>2025-02-25</td><td>&quot;Rio&quot;</td><td>&quot;Foster&quot;</td><td>&quot;Jacob&quot;</td><td>&quot;Higginbotham&quot;</td><td>&quot;SD&quot;</td><td>&quot;LAA&quot;</td><td>8</td><td>0</td><td>3</td><td>2</td><td>&quot;https://x.com/TalkingFriars&quot;</td><td>&quot;Seth Billiau&quot;</td><td>&quot;SL&quot;</td><td>83.3</td><td>0.94</td><td>5.84</td><td>&quot;Higginbotham, Jake&quot;</td><td>815306</td><td>663977</td><td>&quot;strikeout&quot;</td><td>&quot;called_strike&quot;</td><td>null</td><td>null</td><td>null</td><td>null</td><td>9</td><td>&quot;Angels challenged (pitch resul…</td><td>&quot;S&quot;</td><td>&quot;R&quot;</td><td>&quot;L&quot;</td><td>&quot;S&quot;</td><td>2</td><td>&hellip;</td><td>0</td><td>0</td><td>0</td><td>0</td><td>0</td><td>0</td><td>0</td><td>0</td><td>&quot;Strategic&quot;</td><td>&quot;Standard&quot;</td><td>302</td><td>0.093</td><td>null</td><td>null</td><td>null</td><td>null</td><td>null</td><td>null</td><td>0</td><td>0</td><td>0.231</td><td>0.769</td><td>29</td><td>22</td><td>29</td><td>22</td><td>1</td><td>0</td><td>null</td><td>null</td><td>null</td><td>null</td><td>3.26</td><td>-0.45</td><td>0.45</td><td>null</td><td>&quot;red&quot;</td></tr><tr><td>6</td><td>&quot;no&quot;</td><td>&quot;Ball To Strike&quot;</td><td>&quot;catcher&quot;</td><td>2025-02-25</td><td>&quot;Carter&quot;</td><td>&quot;Kieboom&quot;</td><td>&quot;Omar&quot;</td><td>&quot;Cruz&quot;</td><td>&quot;SD&quot;</td><td>&quot;LAA&quot;</td><td>7</td><td>0</td><td>2</td><td>2</td><td>&quot;https://x.com/TalkingFriars/st…</td><td>&quot;Seth Billiau&quot;</td><td>&quot;CH&quot;</td><td>81.3</td><td>1.19</td><td>6.15</td><td>&quot;Cruz, Omar&quot;</td><td>666198</td><td>678316</td><td>null</td><td>&quot;ball&quot;</td><td>null</td><td>null</td><td>null</td><td>null</td><td>13</td><td>&quot;Carter Kieboom singles on a gr…</td><td>&quot;S&quot;</td><td>&quot;R&quot;</td><td>&quot;L&quot;</td><td>&quot;B&quot;</td><td>null</td><td>&hellip;</td><td>0</td><td>0</td><td>0</td><td>0</td><td>0</td><td>0</td><td>0</td><td>0</td><td>&quot;Standard&quot;</td><td>&quot;Standard&quot;</td><td>118</td><td>0.0</td><td>null</td><td>null</td><td>null</td><td>null</td><td>null</td><td>null</td><td>0</td><td>0</td><td>0.5</td><td>0.5</td><td>26</td><td>27</td><td>26</td><td>28</td><td>1</td><td>0</td><td>null</td><td>null</td><td>null</td><td>null</td><td>3.02</td><td>1.25</td><td>-1.25</td><td>null</td><td>&quot;red&quot;</td></tr><tr><td>7</td><td>&quot;no&quot;</td><td>&quot;Ball To Strike&quot;</td><td>&quot;catcher&quot;</td><td>2025-02-21</td><td>&quot;Jazz&quot;</td><td>&quot;Chisholm&quot;</td><td>&quot;Eric&quot;</td><td>&quot;Orze&quot;</td><td>&quot;NYY&quot;</td><td>&quot;TB&quot;</td><td>3</td><td>2</td><td>3</td><td>2</td><td>&quot;https://x.com/JomboyMedia/stat…</td><td>&quot;Seth Billiau&quot;</td><td>&quot;CH&quot;</td><td>83.3</td><td>-1.22</td><td>5.8</td><td>&quot;Orze, Eric&quot;</td><td>665862</td><td>679358</td><td>&quot;walk&quot;</td><td>&quot;ball&quot;</td><td>null</td><td>null</td><td>null</td><td>null</td><td>11</td><td>&quot;Rays challenged (pitch result)…</td><td>&quot;S&quot;</td><td>&quot;L&quot;</td><td>&quot;R&quot;</td><td>&quot;B&quot;</td><td>null</td><td>&hellip;</td><td>2</td><td>0</td><td>2</td><td>0</td><td>0</td><td>2</td><td>2</td><td>0</td><td>&quot;Standard&quot;</td><td>&quot;Standard&quot;</td><td>251</td><td>0.008</td><td>null</td><td>null</td><td>null</td><td>null</td><td>null</td><td>null</td><td>2</td><td>2</td><td>0.746</td><td>0.746</td><td>27</td><td>27</td><td>28</td><td>27</td><td>1</td><td>1</td><td>null</td><td>null</td><td>null</td><td>null</td><td>3.54</td><td>1.14</td><td>-1.14</td><td>null</td><td>&quot;red&quot;</td></tr></tbody></table></div>"
      ],
      "text/plain": [
       "shape: (8, 124)\n",
       "┌───────────┬────────────┬────────────┬────────────┬───┬───────────┬───────────┬───────────┬───────┐\n",
       "│ abs_index ┆ abs_succes ┆ abs_type   ┆ abs_caller ┆ … ┆ api_break ┆ api_break ┆ arm_angle ┆ color │\n",
       "│ ---       ┆ sful       ┆ ---        ┆ ---        ┆   ┆ _x_arm    ┆ _x_batter ┆ ---       ┆ ---   │\n",
       "│ i32       ┆ ---        ┆ str        ┆ str        ┆   ┆ ---       ┆ _in       ┆ i64       ┆ str   │\n",
       "│           ┆ str        ┆            ┆            ┆   ┆ f64       ┆ ---       ┆           ┆       │\n",
       "│           ┆            ┆            ┆            ┆   ┆           ┆ f64       ┆           ┆       │\n",
       "╞═══════════╪════════════╪════════════╪════════════╪═══╪═══════════╪═══════════╪═══════════╪═══════╡\n",
       "│ 0         ┆ yes        ┆ Strike To  ┆ batter     ┆ … ┆ 0.67      ┆ 0.67      ┆ null      ┆ blue  │\n",
       "│           ┆            ┆ Ball       ┆            ┆   ┆           ┆           ┆           ┆       │\n",
       "│ 1         ┆ yes        ┆ Ball To    ┆ catcher    ┆ … ┆ -0.11     ┆ -0.11     ┆ null      ┆ red   │\n",
       "│           ┆            ┆ Strike     ┆            ┆   ┆           ┆           ┆           ┆       │\n",
       "│ 2         ┆ yes        ┆ Ball To    ┆ catcher    ┆ … ┆ 0.7       ┆ -0.7      ┆ null      ┆ red   │\n",
       "│           ┆            ┆ Strike     ┆            ┆   ┆           ┆           ┆           ┆       │\n",
       "│ 3         ┆ yes        ┆ Strike To  ┆ batter     ┆ … ┆ 1.16      ┆ 1.16      ┆ null      ┆ blue  │\n",
       "│           ┆            ┆ Ball       ┆            ┆   ┆           ┆           ┆           ┆       │\n",
       "│ 4         ┆ yes        ┆ Ball To    ┆ catcher    ┆ … ┆ 0.17      ┆ -0.17     ┆ null      ┆ red   │\n",
       "│           ┆            ┆ Strike     ┆            ┆   ┆           ┆           ┆           ┆       │\n",
       "│ 5         ┆ yes        ┆ Ball To    ┆ catcher    ┆ … ┆ -0.45     ┆ 0.45      ┆ null      ┆ red   │\n",
       "│           ┆            ┆ Strike     ┆            ┆   ┆           ┆           ┆           ┆       │\n",
       "│ 6         ┆ no         ┆ Ball To    ┆ catcher    ┆ … ┆ 1.25      ┆ -1.25     ┆ null      ┆ red   │\n",
       "│           ┆            ┆ Strike     ┆            ┆   ┆           ┆           ┆           ┆       │\n",
       "│ 7         ┆ no         ┆ Ball To    ┆ catcher    ┆ … ┆ 1.14      ┆ -1.14     ┆ null      ┆ red   │\n",
       "│           ┆            ┆ Strike     ┆            ┆   ┆           ┆           ┆           ┆       │\n",
       "└───────────┴────────────┴────────────┴────────────┴───┴───────────┴───────────┴───────────┴───────┘"
      ]
     },
     "execution_count": 82,
     "metadata": {},
     "output_type": "execute_result"
    }
   ],
   "source": [
    "joined_data = joined_data.with_columns(\n",
    "    pl.when(pl.col('abs_type').str.contains(\"Strike To Ball\")).then(pl.lit(\"blue\")).otherwise(pl.lit(\"red\")).alias('color')\n",
    ")\n",
    "joined_data"
   ]
  },
  {
   "cell_type": "code",
   "execution_count": 83,
   "id": "a8eb1f5c-7ae1-4c5a-a92b-4fa9754a04d9",
   "metadata": {},
   "outputs": [
    {
     "data": {
      "text/plain": [
       "(-2.0, 2.0)"
      ]
     },
     "execution_count": 83,
     "metadata": {},
     "output_type": "execute_result"
    }
   ],
   "source": [
    "#https://github.com/instant-replay-academy/MLB-PitchFx-Python/blob/master/GamedaySample.ipynb\n",
    "\n",
    "import matplotlib.pyplot as plt\n",
    "import matplotlib.patches as patches\n",
    "%matplotlib inline\n",
    "\n",
    "\"\"\"matplotlib.pyplot is a collection of command shell style functions that make matplotlib \n",
    "work like MATLAB. Each pyplot function makes some change to a figure: e.g., creates a figure, \n",
    "creates a plotting area in a figure, plots some lines in a plotting area, decorates the plot with labels, etc.\n",
    "Pyplot maintains state across calls.\"\"\"\n",
    "\n",
    "fig1 = plt.figure()\n",
    "ax1 = fig1.add_subplot(111, aspect='equal')\n",
    "\n",
    "platewidthInFeet = 17 / 12 # plate is 17 inches wide\n",
    "expandedPlateInFeet = 20 / 12 # add ball width (half on each side)\n",
    "szHeightInFeet = 3.5 - 1.5\n",
    "ballInFeet = 3 / 12\n",
    "halfBallInFeet = ballInFeet / 2\n",
    "\n",
    "# draw expanded zone: 3 inch ball (.25 ft) = 1.5 inches all the way around\n",
    "# ax1.add_patch(patches.Rectangle((expandedPlateInFeet/-2, 1.5 - halfBallInFeet), expandedPlateInFeet, szHeightInFeet + ballInFeet, color='lightblue'))\n",
    "\n",
    "# draw formal zone (plate only)\n",
    "ax1.add_patch(patches.Rectangle((platewidthInFeet/-2, 1.5), platewidthInFeet, szHeightInFeet))\n",
    "\n",
    "my_colors = {'Ball to Strike':'tab:red', 'Strike to Ball':'tab:blue'}\n",
    "# dray my pitch\n",
    "ax1.scatter(x=joined_data[\"plate_x\"], y=joined_data[\"plate_z\"], color=joined_data[\"color\"])\n",
    "\n",
    "plt.ylim(0, 5)\n",
    "plt.xlim(-2, 2)\n",
    "# plt.show()"
   ]
  },
  {
   "cell_type": "code",
   "execution_count": 84,
   "id": "c833b8e5-cd5b-4f15-81ba-835ad932cf91",
   "metadata": {},
   "outputs": [
    {
     "data": {
      "image/png": "[encoded data removed]",
      "text/plain": [
       "<Figure size 640x480 with 1 Axes>"
      ]
     },
     "metadata": {},
     "output_type": "display_data"
    }
   ],
   "source": [
    "plt.show()"
   ]
  },
  {
   "cell_type": "code",
   "execution_count": null,
   "id": "3e3ab05e-9bd7-46fa-9101-e64e9ab9bc31",
   "metadata": {},
   "outputs": [],
   "source": []
  }
 ],
 "metadata": {
  "kernelspec": {
   "display_name": "Python 3 (ipykernel)",
   "language": "python",
   "name": "python3"
  },
  "language_info": {
   "codemirror_mode": {
    "name": "ipython",
    "version": 3
   },
   "file_extension": ".py",
   "mimetype": "text/x-python",
   "name": "python",
   "nbconvert_exporter": "python",
   "pygments_lexer": "ipython3",
   "version": "3.12.2"
  }
 },
 "nbformat": 4,
 "nbformat_minor": 5
}
