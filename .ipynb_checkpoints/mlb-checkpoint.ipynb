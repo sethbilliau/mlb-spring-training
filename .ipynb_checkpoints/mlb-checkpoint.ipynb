{
 "cells": [
  {
   "cell_type": "code",
   "execution_count": 3,
   "metadata": {},
   "outputs": [
    {
     "name": "stdout",
     "output_type": "stream",
     "text": [
      "Requirement already satisfied: tqdm in /Users/sethbilliau/opt/anaconda3/envs/mlb/lib/python3.13/site-packages (4.67.1)\n",
      "Collecting polars\n",
      "  Downloading polars-1.23.0-cp39-abi3-macosx_10_12_x86_64.whl.metadata (14 kB)\n",
      "Requirement already satisfied: requests in /Users/sethbilliau/opt/anaconda3/envs/mlb/lib/python3.13/site-packages (2.32.3)\n",
      "Requirement already satisfied: charset_normalizer<4,>=2 in /Users/sethbilliau/opt/anaconda3/envs/mlb/lib/python3.13/site-packages (from requests) (3.4.1)\n",
      "Requirement already satisfied: idna<4,>=2.5 in /Users/sethbilliau/opt/anaconda3/envs/mlb/lib/python3.13/site-packages (from requests) (3.10)\n",
      "Requirement already satisfied: urllib3<3,>=1.21.1 in /Users/sethbilliau/opt/anaconda3/envs/mlb/lib/python3.13/site-packages (from requests) (1.26.15)\n",
      "Requirement already satisfied: certifi>=2017.4.17 in /Users/sethbilliau/opt/anaconda3/envs/mlb/lib/python3.13/site-packages (from requests) (2025.1.31)\n",
      "Downloading polars-1.23.0-cp39-abi3-macosx_10_12_x86_64.whl (33.7 MB)\n",
      "\u001b[2K   \u001b[90m━━━━━━━━━━━━━━━━━━━━━━━━━━━━━━━━━━━━━━━━\u001b[0m \u001b[32m33.7/33.7 MB\u001b[0m \u001b[31m6.9 MB/s\u001b[0m eta \u001b[36m0:00:00\u001b[0m00:01\u001b[0m00:01\u001b[0m\n",
      "\u001b[?25hInstalling collected packages: polars\n",
      "Successfully installed polars-1.23.0\n"
     ]
    }
   ],
   "source": [
    "!pip install tqdm polars requests"
   ]
  },
  {
   "cell_type": "code",
   "execution_count": 4,
   "metadata": {},
   "outputs": [],
   "source": [
    "from savant_data_downloader.savant_data_downloader import get_new_data"
   ]
  },
  {
   "cell_type": "code",
   "execution_count": 14,
   "metadata": {},
   "outputs": [
    {
     "name": "stderr",
     "output_type": "stream",
     "text": [
      "Fetching Statcast Data: 100%|██████████| 5/5 [00:10<00:00,  2.08s/it]\n"
     ]
    }
   ],
   "source": [
    "start_date = '2025-02-20'\n",
    "end_date = '2025-02-24'\n",
    "\n",
    "data = get_new_data(start_date, end_date)"
   ]
  },
  {
   "cell_type": "code",
   "execution_count": 12,
   "metadata": {},
   "outputs": [
    {
     "data": {
      "text/html": [
       "<div><style>\n",
       ".dataframe > thead > tr,\n",
       ".dataframe > tbody > tr {\n",
       "  text-align: right;\n",
       "  white-space: pre-wrap;\n",
       "}\n",
       "</style>\n",
       "<small>shape: (5, 113)</small><table border=\"1\" class=\"dataframe\"><thead><tr><th>pitch_type</th><th>game_date</th><th>release_speed</th><th>release_pos_x</th><th>release_pos_z</th><th>player_name</th><th>batter</th><th>pitcher</th><th>events</th><th>description</th><th>spin_dir</th><th>spin_rate_deprecated</th><th>break_angle_deprecated</th><th>break_length_deprecated</th><th>zone</th><th>des</th><th>game_type</th><th>stand</th><th>p_throws</th><th>home_team</th><th>away_team</th><th>type</th><th>hit_location</th><th>bb_type</th><th>balls</th><th>strikes</th><th>game_year</th><th>pfx_x</th><th>pfx_z</th><th>plate_x</th><th>plate_z</th><th>on_3b</th><th>on_2b</th><th>on_1b</th><th>outs_when_up</th><th>inning</th><th>inning_topbot</th><th>&hellip;</th><th>pitch_name</th><th>home_score</th><th>away_score</th><th>bat_score</th><th>fld_score</th><th>post_away_score</th><th>post_home_score</th><th>post_bat_score</th><th>post_fld_score</th><th>if_fielding_alignment</th><th>of_fielding_alignment</th><th>spin_axis</th><th>delta_home_win_exp</th><th>delta_run_exp</th><th>bat_speed</th><th>swing_length</th><th>estimated_slg_using_speedangle</th><th>delta_pitcher_run_exp</th><th>hyper_speed</th><th>home_score_diff</th><th>bat_score_diff</th><th>home_win_exp</th><th>bat_win_exp</th><th>age_pit_legacy</th><th>age_bat_legacy</th><th>age_pit</th><th>age_bat</th><th>n_thruorder_pitcher</th><th>n_priorpa_thisgame_player_at_bat</th><th>pitcher_days_since_prev_game</th><th>batter_days_since_prev_game</th><th>pitcher_days_until_next_game</th><th>batter_days_until_next_game</th><th>api_break_z_with_gravity</th><th>api_break_x_arm</th><th>api_break_x_batter_in</th><th>arm_angle</th></tr><tr><td>str</td><td>date</td><td>f64</td><td>f64</td><td>f64</td><td>str</td><td>i64</td><td>i64</td><td>str</td><td>str</td><td>i64</td><td>i64</td><td>i64</td><td>i64</td><td>i64</td><td>str</td><td>str</td><td>str</td><td>str</td><td>str</td><td>str</td><td>str</td><td>i64</td><td>str</td><td>i64</td><td>i64</td><td>i64</td><td>f64</td><td>f64</td><td>f64</td><td>f64</td><td>i64</td><td>i64</td><td>i64</td><td>i64</td><td>i64</td><td>str</td><td>&hellip;</td><td>str</td><td>i64</td><td>i64</td><td>i64</td><td>i64</td><td>i64</td><td>i64</td><td>i64</td><td>i64</td><td>str</td><td>str</td><td>i64</td><td>f64</td><td>i64</td><td>f64</td><td>f64</td><td>f64</td><td>i64</td><td>f64</td><td>i64</td><td>i64</td><td>f64</td><td>f64</td><td>i64</td><td>i64</td><td>i64</td><td>i64</td><td>i64</td><td>i64</td><td>i64</td><td>i64</td><td>i64</td><td>i64</td><td>f64</td><td>f64</td><td>f64</td><td>i64</td></tr></thead><tbody><tr><td>&quot;CH&quot;</td><td>2025-02-23</td><td>85.4</td><td>-2.87</td><td>5.92</td><td>&quot;Brnovich, Kyle&quot;</td><td>682192</td><td>686599</td><td>&quot;strikeout&quot;</td><td>&quot;foul_tip&quot;</td><td>null</td><td>null</td><td>null</td><td>null</td><td>14</td><td>&quot;Paul McIntosh strikes out on a…</td><td>&quot;S&quot;</td><td>&quot;R&quot;</td><td>&quot;R&quot;</td><td>&quot;PHI&quot;</td><td>&quot;BAL&quot;</td><td>&quot;S&quot;</td><td>2</td><td>null</td><td>2</td><td>2</td><td>2025</td><td>-1.49</td><td>0.83</td><td>0.11</td><td>1.37</td><td>null</td><td>null</td><td>805249</td><td>2</td><td>9</td><td>&quot;Bot&quot;</td><td>&hellip;</td><td>&quot;Changeup&quot;</td><td>3</td><td>7</td><td>3</td><td>7</td><td>7</td><td>3</td><td>3</td><td>7</td><td>null</td><td>null</td><td>null</td><td>-0.004</td><td>null</td><td>null</td><td>null</td><td>null</td><td>null</td><td>null</td><td>-4</td><td>-4</td><td>0.004</td><td>0.004</td><td>27</td><td>27</td><td>28</td><td>28</td><td>1</td><td>1</td><td>null</td><td>null</td><td>null</td><td>null</td><td>2.31</td><td>1.49</td><td>1.49</td><td>null</td></tr><tr><td>&quot;SL&quot;</td><td>2025-02-23</td><td>83.1</td><td>-2.86</td><td>5.97</td><td>&quot;Brnovich, Kyle&quot;</td><td>682192</td><td>686599</td><td>null</td><td>&quot;ball&quot;</td><td>null</td><td>null</td><td>null</td><td>null</td><td>14</td><td>&quot;Paul McIntosh strikes out on a…</td><td>&quot;S&quot;</td><td>&quot;R&quot;</td><td>&quot;R&quot;</td><td>&quot;PHI&quot;</td><td>&quot;BAL&quot;</td><td>&quot;B&quot;</td><td>null</td><td>null</td><td>1</td><td>2</td><td>2025</td><td>0.47</td><td>-0.11</td><td>0.89</td><td>1.4</td><td>null</td><td>null</td><td>805249</td><td>2</td><td>9</td><td>&quot;Bot&quot;</td><td>&hellip;</td><td>&quot;Slider&quot;</td><td>3</td><td>7</td><td>3</td><td>7</td><td>7</td><td>3</td><td>3</td><td>7</td><td>null</td><td>null</td><td>null</td><td>0.0</td><td>null</td><td>null</td><td>null</td><td>null</td><td>null</td><td>null</td><td>-4</td><td>-4</td><td>0.004</td><td>0.004</td><td>27</td><td>27</td><td>28</td><td>28</td><td>1</td><td>1</td><td>null</td><td>null</td><td>null</td><td>null</td><td>3.43</td><td>-0.47</td><td>-0.47</td><td>null</td></tr><tr><td>null</td><td>2025-02-23</td><td>null</td><td>null</td><td>null</td><td>&quot;Rodríguez, Yariel&quot;</td><td>701350</td><td>684320</td><td>&quot;field_out&quot;</td><td>&quot;hit_into_play&quot;</td><td>null</td><td>null</td><td>null</td><td>null</td><td>null</td><td>&quot;Roman Anthony lines out to lef…</td><td>&quot;S&quot;</td><td>&quot;L&quot;</td><td>&quot;R&quot;</td><td>&quot;BOS&quot;</td><td>&quot;TOR&quot;</td><td>&quot;X&quot;</td><td>7</td><td>&quot;line_drive&quot;</td><td>3</td><td>1</td><td>2025</td><td>null</td><td>null</td><td>null</td><td>null</td><td>null</td><td>681987</td><td>null</td><td>1</td><td>2</td><td>&quot;Bot&quot;</td><td>&hellip;</td><td>null</td><td>1</td><td>0</td><td>1</td><td>0</td><td>0</td><td>1</td><td>1</td><td>0</td><td>null</td><td>null</td><td>null</td><td>-0.03</td><td>null</td><td>null</td><td>null</td><td>null</td><td>null</td><td>null</td><td>1</td><td>1</td><td>0.677</td><td>0.677</td><td>28</td><td>21</td><td>28</td><td>21</td><td>1</td><td>1</td><td>null</td><td>null</td><td>null</td><td>null</td><td>null</td><td>null</td><td>null</td><td>null</td></tr><tr><td>&quot;SL&quot;</td><td>2025-02-23</td><td>83.2</td><td>-2.72</td><td>6.01</td><td>&quot;Brnovich, Kyle&quot;</td><td>682192</td><td>686599</td><td>null</td><td>&quot;swinging_strike&quot;</td><td>null</td><td>null</td><td>null</td><td>null</td><td>14</td><td>&quot;Paul McIntosh strikes out on a…</td><td>&quot;S&quot;</td><td>&quot;R&quot;</td><td>&quot;R&quot;</td><td>&quot;PHI&quot;</td><td>&quot;BAL&quot;</td><td>&quot;S&quot;</td><td>null</td><td>null</td><td>1</td><td>1</td><td>2025</td><td>0.6</td><td>0.02</td><td>0.65</td><td>0.96</td><td>null</td><td>null</td><td>805249</td><td>2</td><td>9</td><td>&quot;Bot&quot;</td><td>&hellip;</td><td>&quot;Slider&quot;</td><td>3</td><td>7</td><td>3</td><td>7</td><td>7</td><td>3</td><td>3</td><td>7</td><td>null</td><td>null</td><td>null</td><td>0.0</td><td>null</td><td>null</td><td>null</td><td>null</td><td>null</td><td>null</td><td>-4</td><td>-4</td><td>0.004</td><td>0.004</td><td>27</td><td>27</td><td>28</td><td>28</td><td>1</td><td>1</td><td>null</td><td>null</td><td>null</td><td>null</td><td>3.28</td><td>-0.6</td><td>-0.6</td><td>null</td></tr><tr><td>&quot;FF&quot;</td><td>2025-02-23</td><td>91.5</td><td>-1.25</td><td>6.09</td><td>&quot;Phillips, Tyler&quot;</td><td>679631</td><td>663969</td><td>&quot;field_out&quot;</td><td>&quot;hit_into_play&quot;</td><td>null</td><td>null</td><td>null</td><td>null</td><td>2</td><td>&quot;Terrin Vavra flies out to left…</td><td>&quot;S&quot;</td><td>&quot;L&quot;</td><td>&quot;R&quot;</td><td>&quot;PHI&quot;</td><td>&quot;BAL&quot;</td><td>&quot;X&quot;</td><td>7</td><td>&quot;fly_ball&quot;</td><td>1</td><td>1</td><td>2025</td><td>0.05</td><td>0.73</td><td>0.25</td><td>2.95</td><td>null</td><td>null</td><td>null</td><td>2</td><td>2</td><td>&quot;Top&quot;</td><td>&hellip;</td><td>&quot;4-Seam Fastball&quot;</td><td>0</td><td>3</td><td>3</td><td>0</td><td>3</td><td>0</td><td>3</td><td>0</td><td>null</td><td>null</td><td>null</td><td>0.007</td><td>null</td><td>null</td><td>null</td><td>0.124</td><td>null</td><td>88.0</td><td>-3</td><td>3</td><td>0.234</td><td>0.766</td><td>27</td><td>28</td><td>28</td><td>28</td><td>2</td><td>1</td><td>null</td><td>null</td><td>null</td><td>null</td><td>2.02</td><td>-0.05</td><td>0.05</td><td>null</td></tr></tbody></table></div>"
      ],
      "text/plain": [
       "shape: (5, 113)\n",
       "┌───────────┬───────────┬───────────┬───────────┬───┬───────────┬───────────┬───────────┬──────────┐\n",
       "│ pitch_typ ┆ game_date ┆ release_s ┆ release_p ┆ … ┆ api_break ┆ api_break ┆ api_break ┆ arm_angl │\n",
       "│ e         ┆ ---       ┆ peed      ┆ os_x      ┆   ┆ _z_with_g ┆ _x_arm    ┆ _x_batter ┆ e        │\n",
       "│ ---       ┆ date      ┆ ---       ┆ ---       ┆   ┆ ravity    ┆ ---       ┆ _in       ┆ ---      │\n",
       "│ str       ┆           ┆ f64       ┆ f64       ┆   ┆ ---       ┆ f64       ┆ ---       ┆ i64      │\n",
       "│           ┆           ┆           ┆           ┆   ┆ f64       ┆           ┆ f64       ┆          │\n",
       "╞═══════════╪═══════════╪═══════════╪═══════════╪═══╪═══════════╪═══════════╪═══════════╪══════════╡\n",
       "│ CH        ┆ 2025-02-2 ┆ 85.4      ┆ -2.87     ┆ … ┆ 2.31      ┆ 1.49      ┆ 1.49      ┆ null     │\n",
       "│           ┆ 3         ┆           ┆           ┆   ┆           ┆           ┆           ┆          │\n",
       "│ SL        ┆ 2025-02-2 ┆ 83.1      ┆ -2.86     ┆ … ┆ 3.43      ┆ -0.47     ┆ -0.47     ┆ null     │\n",
       "│           ┆ 3         ┆           ┆           ┆   ┆           ┆           ┆           ┆          │\n",
       "│ null      ┆ 2025-02-2 ┆ null      ┆ null      ┆ … ┆ null      ┆ null      ┆ null      ┆ null     │\n",
       "│           ┆ 3         ┆           ┆           ┆   ┆           ┆           ┆           ┆          │\n",
       "│ SL        ┆ 2025-02-2 ┆ 83.2      ┆ -2.72     ┆ … ┆ 3.28      ┆ -0.6      ┆ -0.6      ┆ null     │\n",
       "│           ┆ 3         ┆           ┆           ┆   ┆           ┆           ┆           ┆          │\n",
       "│ FF        ┆ 2025-02-2 ┆ 91.5      ┆ -1.25     ┆ … ┆ 2.02      ┆ -0.05     ┆ 0.05      ┆ null     │\n",
       "│           ┆ 3         ┆           ┆           ┆   ┆           ┆           ┆           ┆          │\n",
       "└───────────┴───────────┴───────────┴───────────┴───┴───────────┴───────────┴───────────┴──────────┘"
      ]
     },
     "execution_count": 12,
     "metadata": {},
     "output_type": "execute_result"
    }
   ],
   "source": [
    "data.head()"
   ]
  },
  {
   "cell_type": "code",
   "execution_count": 19,
   "metadata": {},
   "outputs": [
    {
     "data": {
      "text/html": [
       "<div><style>\n",
       ".dataframe > thead > tr,\n",
       ".dataframe > tbody > tr {\n",
       "  text-align: right;\n",
       "  white-space: pre-wrap;\n",
       "}\n",
       "</style>\n",
       "<small>shape: (29,)</small><table border=\"1\" class=\"dataframe\"><thead><tr><th>home_team</th></tr><tr><td>str</td></tr></thead><tbody><tr><td>&quot;CIN&quot;</td></tr><tr><td>&quot;SEA&quot;</td></tr><tr><td>&quot;PHI&quot;</td></tr><tr><td>&quot;BAL&quot;</td></tr><tr><td>&quot;DET&quot;</td></tr><tr><td>&hellip;</td></tr><tr><td>&quot;KC&quot;</td></tr><tr><td>&quot;CHC&quot;</td></tr><tr><td>&quot;MIA&quot;</td></tr><tr><td>&quot;AZ&quot;</td></tr><tr><td>&quot;TOR&quot;</td></tr></tbody></table></div>"
      ],
      "text/plain": [
       "shape: (29,)\n",
       "Series: 'home_team' [str]\n",
       "[\n",
       "\t\"CIN\"\n",
       "\t\"SEA\"\n",
       "\t\"PHI\"\n",
       "\t\"BAL\"\n",
       "\t\"DET\"\n",
       "\t…\n",
       "\t\"KC\"\n",
       "\t\"CHC\"\n",
       "\t\"MIA\"\n",
       "\t\"AZ\"\n",
       "\t\"TOR\"\n",
       "]"
      ]
     },
     "execution_count": 19,
     "metadata": {},
     "output_type": "execute_result"
    }
   ],
   "source": [
    "data.select('home_team').to_series().unique()"
   ]
  },
  {
   "cell_type": "code",
   "execution_count": null,
   "metadata": {},
   "outputs": [],
   "source": [
    "# Which Teams have the ABS review \n",
    "# ESPN Says it's these home teams\n",
    "## https://www.espn.com/mlb/story/_/id/43911443/spring-training-games-feature-automated-ball-strike-challenge-system \n",
    "['SEA', 'SDP']"
   ]
  }
 ],
 "metadata": {
  "kernelspec": {
   "display_name": "mlb",
   "language": "python",
   "name": "python3"
  },
  "language_info": {
   "codemirror_mode": {
    "name": "ipython",
    "version": 3
   },
   "file_extension": ".py",
   "mimetype": "text/x-python",
   "name": "python",
   "nbconvert_exporter": "python",
   "pygments_lexer": "ipython3",
   "version": "3.13.2"
  }
 },
 "nbformat": 4,
 "nbformat_minor": 2
}
