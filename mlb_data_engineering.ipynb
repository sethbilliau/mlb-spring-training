{
 "cells": [
  {
   "cell_type": "code",
   "execution_count": 3,
   "metadata": {},
   "outputs": [],
   "source": [
    "from savant_data_downloader.savant_data_downloader import get_new_data\n",
    "import polars as pl\n",
    "from datetime import datetime, date\n",
    "import pybaseball as pb\n",
    "import pprint"
   ]
  },
  {
   "cell_type": "code",
   "execution_count": 7,
   "metadata": {},
   "outputs": [
    {
     "name": "stdout",
     "output_type": "stream",
     "text": [
      "Today's date: 2025-03-02\n",
      "Formatted date: 2025-03-02\n"
     ]
    },
    {
     "name": "stderr",
     "output_type": "stream",
     "text": [
      "Fetching Statcast Data: 100%|███████████████████| 30/30 [00:15<00:00,  1.90it/s]\n"
     ]
    }
   ],
   "source": [
    "start_date = '2025-02-01'\n",
    "\n",
    "today = date.today()\n",
    "print(\"Today's date:\", today)\n",
    "\n",
    "# To format the date, you can use strftime()\n",
    "end_date = today.strftime(\"%Y-%m-%d\") # Year-month-day\n",
    "print(\"Formatted date:\", formatted_date)\n",
    "\n",
    "# Pull all spring training pitches\n",
    "data = get_new_data(start_date, end_date)"
   ]
  },
  {
   "cell_type": "code",
   "execution_count": 8,
   "metadata": {},
   "outputs": [
    {
     "data": {
      "text/plain": [
       "(34015, 113)"
      ]
     },
     "execution_count": 8,
     "metadata": {},
     "output_type": "execute_result"
    }
   ],
   "source": [
    "data.shape"
   ]
  },
  {
   "cell_type": "code",
   "execution_count": 9,
   "metadata": {},
   "outputs": [
    {
     "data": {
      "text/html": [
       "<div><style>\n",
       ".dataframe > thead > tr,\n",
       ".dataframe > tbody > tr {\n",
       "  text-align: right;\n",
       "  white-space: pre-wrap;\n",
       "}\n",
       "</style>\n",
       "<small>shape: (5, 113)</small><table border=\"1\" class=\"dataframe\"><thead><tr><th>pitch_type</th><th>game_date</th><th>release_speed</th><th>release_pos_x</th><th>release_pos_z</th><th>player_name</th><th>batter</th><th>pitcher</th><th>events</th><th>description</th><th>spin_dir</th><th>spin_rate_deprecated</th><th>break_angle_deprecated</th><th>break_length_deprecated</th><th>zone</th><th>des</th><th>game_type</th><th>stand</th><th>p_throws</th><th>home_team</th><th>away_team</th><th>type</th><th>hit_location</th><th>bb_type</th><th>balls</th><th>strikes</th><th>game_year</th><th>pfx_x</th><th>pfx_z</th><th>plate_x</th><th>plate_z</th><th>on_3b</th><th>on_2b</th><th>on_1b</th><th>outs_when_up</th><th>inning</th><th>inning_topbot</th><th>&hellip;</th><th>pitch_name</th><th>home_score</th><th>away_score</th><th>bat_score</th><th>fld_score</th><th>post_away_score</th><th>post_home_score</th><th>post_bat_score</th><th>post_fld_score</th><th>if_fielding_alignment</th><th>of_fielding_alignment</th><th>spin_axis</th><th>delta_home_win_exp</th><th>delta_run_exp</th><th>bat_speed</th><th>swing_length</th><th>estimated_slg_using_speedangle</th><th>delta_pitcher_run_exp</th><th>hyper_speed</th><th>home_score_diff</th><th>bat_score_diff</th><th>home_win_exp</th><th>bat_win_exp</th><th>age_pit_legacy</th><th>age_bat_legacy</th><th>age_pit</th><th>age_bat</th><th>n_thruorder_pitcher</th><th>n_priorpa_thisgame_player_at_bat</th><th>pitcher_days_since_prev_game</th><th>batter_days_since_prev_game</th><th>pitcher_days_until_next_game</th><th>batter_days_until_next_game</th><th>api_break_z_with_gravity</th><th>api_break_x_arm</th><th>api_break_x_batter_in</th><th>arm_angle</th></tr><tr><td>str</td><td>date</td><td>f64</td><td>f64</td><td>f64</td><td>str</td><td>i64</td><td>i64</td><td>str</td><td>str</td><td>i64</td><td>i64</td><td>i64</td><td>i64</td><td>i64</td><td>str</td><td>str</td><td>str</td><td>str</td><td>str</td><td>str</td><td>str</td><td>i64</td><td>str</td><td>i64</td><td>i64</td><td>i64</td><td>f64</td><td>f64</td><td>f64</td><td>f64</td><td>i64</td><td>i64</td><td>i64</td><td>i64</td><td>i64</td><td>str</td><td>&hellip;</td><td>str</td><td>i64</td><td>i64</td><td>i64</td><td>i64</td><td>i64</td><td>i64</td><td>i64</td><td>i64</td><td>str</td><td>str</td><td>i64</td><td>f64</td><td>i64</td><td>f64</td><td>f64</td><td>f64</td><td>i64</td><td>f64</td><td>i64</td><td>i64</td><td>f64</td><td>f64</td><td>i64</td><td>i64</td><td>i64</td><td>i64</td><td>i64</td><td>i64</td><td>i64</td><td>i64</td><td>i64</td><td>i64</td><td>f64</td><td>f64</td><td>f64</td><td>i64</td></tr></thead><tbody><tr><td>&quot;CH&quot;</td><td>2025-02-20</td><td>87.6</td><td>-1.79</td><td>6.03</td><td>&quot;Poteet, Cody&quot;</td><td>687221</td><td>547001</td><td>&quot;walk&quot;</td><td>&quot;ball&quot;</td><td>null</td><td>null</td><td>null</td><td>null</td><td>11</td><td>&quot;Dalton Rushing walks.&quot;</td><td>&quot;S&quot;</td><td>&quot;L&quot;</td><td>&quot;R&quot;</td><td>&quot;LAD&quot;</td><td>&quot;CHC&quot;</td><td>&quot;B&quot;</td><td>null</td><td>null</td><td>3</td><td>2</td><td>2025</td><td>-1.05</td><td>0.24</td><td>-2.39</td><td>4.3</td><td>676439</td><td>null</td><td>null</td><td>1</td><td>2</td><td>&quot;Bot&quot;</td><td>&hellip;</td><td>&quot;Changeup&quot;</td><td>3</td><td>0</td><td>3</td><td>0</td><td>0</td><td>3</td><td>3</td><td>0</td><td>&quot;Strategic&quot;</td><td>&quot;Standard&quot;</td><td>238</td><td>0.005</td><td>null</td><td>null</td><td>null</td><td>null</td><td>null</td><td>null</td><td>3</td><td>3</td><td>0.858</td><td>0.858</td><td>30</td><td>24</td><td>31</td><td>24</td><td>1</td><td>0</td><td>null</td><td>null</td><td>null</td><td>null</td><td>2.71</td><td>1.05</td><td>-1.05</td><td>null</td></tr><tr><td>&quot;CH&quot;</td><td>2025-02-20</td><td>88.4</td><td>-1.67</td><td>6.05</td><td>&quot;Poteet, Cody&quot;</td><td>687221</td><td>547001</td><td>null</td><td>&quot;ball&quot;</td><td>null</td><td>null</td><td>null</td><td>null</td><td>11</td><td>&quot;Dalton Rushing walks.&quot;</td><td>&quot;S&quot;</td><td>&quot;L&quot;</td><td>&quot;R&quot;</td><td>&quot;LAD&quot;</td><td>&quot;CHC&quot;</td><td>&quot;B&quot;</td><td>null</td><td>null</td><td>2</td><td>2</td><td>2025</td><td>-1.22</td><td>0.28</td><td>-2.76</td><td>3.53</td><td>676439</td><td>null</td><td>null</td><td>1</td><td>2</td><td>&quot;Bot&quot;</td><td>&hellip;</td><td>&quot;Changeup&quot;</td><td>3</td><td>0</td><td>3</td><td>0</td><td>0</td><td>3</td><td>3</td><td>0</td><td>&quot;Strategic&quot;</td><td>&quot;Standard&quot;</td><td>235</td><td>0.0</td><td>null</td><td>null</td><td>null</td><td>null</td><td>null</td><td>null</td><td>3</td><td>3</td><td>0.858</td><td>0.858</td><td>30</td><td>24</td><td>31</td><td>24</td><td>1</td><td>0</td><td>null</td><td>null</td><td>null</td><td>null</td><td>2.64</td><td>1.22</td><td>-1.22</td><td>null</td></tr><tr><td>&quot;FF&quot;</td><td>2025-02-20</td><td>94.8</td><td>-1.22</td><td>6.28</td><td>&quot;Poteet, Cody&quot;</td><td>687221</td><td>547001</td><td>null</td><td>&quot;ball&quot;</td><td>null</td><td>null</td><td>null</td><td>null</td><td>11</td><td>&quot;Dalton Rushing walks.&quot;</td><td>&quot;S&quot;</td><td>&quot;L&quot;</td><td>&quot;R&quot;</td><td>&quot;LAD&quot;</td><td>&quot;CHC&quot;</td><td>&quot;B&quot;</td><td>null</td><td>null</td><td>1</td><td>2</td><td>2025</td><td>-0.66</td><td>1.35</td><td>-0.13</td><td>4.67</td><td>676439</td><td>null</td><td>null</td><td>1</td><td>2</td><td>&quot;Bot&quot;</td><td>&hellip;</td><td>&quot;4-Seam Fastball&quot;</td><td>3</td><td>0</td><td>3</td><td>0</td><td>0</td><td>3</td><td>3</td><td>0</td><td>&quot;Strategic&quot;</td><td>&quot;Standard&quot;</td><td>218</td><td>0.0</td><td>null</td><td>null</td><td>null</td><td>null</td><td>null</td><td>null</td><td>3</td><td>3</td><td>0.858</td><td>0.858</td><td>30</td><td>24</td><td>31</td><td>24</td><td>1</td><td>0</td><td>null</td><td>null</td><td>null</td><td>null</td><td>1.2</td><td>0.66</td><td>-0.66</td><td>null</td></tr><tr><td>&quot;CH&quot;</td><td>2025-02-20</td><td>90.1</td><td>-1.6</td><td>6.03</td><td>&quot;Poteet, Cody&quot;</td><td>687221</td><td>547001</td><td>null</td><td>&quot;ball&quot;</td><td>null</td><td>null</td><td>null</td><td>null</td><td>14</td><td>&quot;Dalton Rushing walks.&quot;</td><td>&quot;S&quot;</td><td>&quot;L&quot;</td><td>&quot;R&quot;</td><td>&quot;LAD&quot;</td><td>&quot;CHC&quot;</td><td>&quot;B&quot;</td><td>null</td><td>null</td><td>0</td><td>2</td><td>2025</td><td>-1.06</td><td>0.35</td><td>1.1</td><td>0.09</td><td>623520</td><td>676439</td><td>null</td><td>1</td><td>2</td><td>&quot;Bot&quot;</td><td>&hellip;</td><td>&quot;Changeup&quot;</td><td>2</td><td>0</td><td>2</td><td>0</td><td>0</td><td>3</td><td>3</td><td>0</td><td>&quot;Strategic&quot;</td><td>&quot;Standard&quot;</td><td>245</td><td>0.044</td><td>null</td><td>null</td><td>null</td><td>null</td><td>null</td><td>null</td><td>2</td><td>2</td><td>0.814</td><td>0.814</td><td>30</td><td>24</td><td>31</td><td>24</td><td>1</td><td>0</td><td>null</td><td>null</td><td>null</td><td>null</td><td>2.47</td><td>1.06</td><td>-1.06</td><td>null</td></tr><tr><td>&quot;CH&quot;</td><td>2025-02-20</td><td>89.0</td><td>-1.75</td><td>6.0</td><td>&quot;Poteet, Cody&quot;</td><td>687221</td><td>547001</td><td>null</td><td>&quot;swinging_strike&quot;</td><td>null</td><td>null</td><td>null</td><td>null</td><td>7</td><td>&quot;Dalton Rushing walks.&quot;</td><td>&quot;S&quot;</td><td>&quot;L&quot;</td><td>&quot;R&quot;</td><td>&quot;LAD&quot;</td><td>&quot;CHC&quot;</td><td>&quot;S&quot;</td><td>null</td><td>null</td><td>0</td><td>1</td><td>2025</td><td>-1.26</td><td>0.13</td><td>-0.52</td><td>1.55</td><td>623520</td><td>676439</td><td>null</td><td>1</td><td>2</td><td>&quot;Bot&quot;</td><td>&hellip;</td><td>&quot;Changeup&quot;</td><td>2</td><td>0</td><td>2</td><td>0</td><td>0</td><td>2</td><td>2</td><td>0</td><td>&quot;Strategic&quot;</td><td>&quot;Standard&quot;</td><td>244</td><td>0.0</td><td>null</td><td>null</td><td>null</td><td>null</td><td>null</td><td>null</td><td>2</td><td>2</td><td>0.814</td><td>0.814</td><td>30</td><td>24</td><td>31</td><td>24</td><td>1</td><td>0</td><td>null</td><td>null</td><td>null</td><td>null</td><td>2.76</td><td>1.26</td><td>-1.26</td><td>null</td></tr></tbody></table></div>"
      ],
      "text/plain": [
       "shape: (5, 113)\n",
       "┌───────────┬───────────┬───────────┬───────────┬───┬───────────┬───────────┬───────────┬──────────┐\n",
       "│ pitch_typ ┆ game_date ┆ release_s ┆ release_p ┆ … ┆ api_break ┆ api_break ┆ api_break ┆ arm_angl │\n",
       "│ e         ┆ ---       ┆ peed      ┆ os_x      ┆   ┆ _z_with_g ┆ _x_arm    ┆ _x_batter ┆ e        │\n",
       "│ ---       ┆ date      ┆ ---       ┆ ---       ┆   ┆ ravity    ┆ ---       ┆ _in       ┆ ---      │\n",
       "│ str       ┆           ┆ f64       ┆ f64       ┆   ┆ ---       ┆ f64       ┆ ---       ┆ i64      │\n",
       "│           ┆           ┆           ┆           ┆   ┆ f64       ┆           ┆ f64       ┆          │\n",
       "╞═══════════╪═══════════╪═══════════╪═══════════╪═══╪═══════════╪═══════════╪═══════════╪══════════╡\n",
       "│ CH        ┆ 2025-02-2 ┆ 87.6      ┆ -1.79     ┆ … ┆ 2.71      ┆ 1.05      ┆ -1.05     ┆ null     │\n",
       "│           ┆ 0         ┆           ┆           ┆   ┆           ┆           ┆           ┆          │\n",
       "│ CH        ┆ 2025-02-2 ┆ 88.4      ┆ -1.67     ┆ … ┆ 2.64      ┆ 1.22      ┆ -1.22     ┆ null     │\n",
       "│           ┆ 0         ┆           ┆           ┆   ┆           ┆           ┆           ┆          │\n",
       "│ FF        ┆ 2025-02-2 ┆ 94.8      ┆ -1.22     ┆ … ┆ 1.2       ┆ 0.66      ┆ -0.66     ┆ null     │\n",
       "│           ┆ 0         ┆           ┆           ┆   ┆           ┆           ┆           ┆          │\n",
       "│ CH        ┆ 2025-02-2 ┆ 90.1      ┆ -1.6      ┆ … ┆ 2.47      ┆ 1.06      ┆ -1.06     ┆ null     │\n",
       "│           ┆ 0         ┆           ┆           ┆   ┆           ┆           ┆           ┆          │\n",
       "│ CH        ┆ 2025-02-2 ┆ 89.0      ┆ -1.75     ┆ … ┆ 2.76      ┆ 1.26      ┆ -1.26     ┆ null     │\n",
       "│           ┆ 0         ┆           ┆           ┆   ┆           ┆           ┆           ┆          │\n",
       "└───────────┴───────────┴───────────┴───────────┴───┴───────────┴───────────┴───────────┴──────────┘"
      ]
     },
     "execution_count": 9,
     "metadata": {},
     "output_type": "execute_result"
    }
   ],
   "source": [
    "data.head()"
   ]
  },
  {
   "cell_type": "markdown",
   "metadata": {},
   "source": [
    "# Which Teams have the ABS review?\n",
    "ESPN Says it's these home teams: [link](https://www.espn.com/mlb/story/_/id/43911443/spring-training-games-feature-automated-ball-strike-challenge-system)\n"
   ]
  },
  {
   "cell_type": "code",
   "execution_count": 31,
   "metadata": {},
   "outputs": [],
   "source": [
    "AZ_home_teams = ['SEA', 'SD', 'CWS', 'LAD', 'KC', 'TEX', 'CIN', 'CLE', 'COL', 'AZ']\n",
    "FL_home_teams = ['TOR', 'DET', 'NYY', 'PIT', 'PHI', 'NYM', 'STL', 'MIA']\n",
    "ABS_home_teams = AZ_home_teams + FL_home_teams"
   ]
  },
  {
   "cell_type": "markdown",
   "metadata": {},
   "source": [
    "Filter Data to only games where relevant home teams exist"
   ]
  },
  {
   "cell_type": "code",
   "execution_count": 59,
   "metadata": {},
   "outputs": [],
   "source": [
    "abs_relevant_pitches = data.filter(\n",
    "    pl.col('home_team').is_in(ABS_home_teams)\n",
    ")"
   ]
  },
  {
   "cell_type": "code",
   "execution_count": 44,
   "metadata": {},
   "outputs": [
    {
     "data": {
      "text/plain": [
       "(22877, 113)"
      ]
     },
     "execution_count": 44,
     "metadata": {},
     "output_type": "execute_result"
    }
   ],
   "source": [
    "abs_relevant_pitches.shape"
   ]
  },
  {
   "cell_type": "markdown",
   "metadata": {},
   "source": [
    "Okay, that filtered out some pitches, but not a ton. Let's start by seeing if there's anything in these data that can help me determine if the pitch was challenged. "
   ]
  },
  {
   "cell_type": "code",
   "execution_count": 45,
   "metadata": {},
   "outputs": [
    {
     "name": "stdout",
     "output_type": "stream",
     "text": [
      "foul_tip\n",
      "foul\n",
      "hit_into_play\n",
      "called_strike\n",
      "blocked_ball\n",
      "swinging_strike_blocked\n",
      "ball\n",
      "hit_by_pitch\n",
      "foul_bunt\n",
      "missed_bunt\n",
      "swinging_strike\n"
     ]
    }
   ],
   "source": [
    "all_outcomes = abs_relevant_pitches.select('description').to_series().unique()\n",
    "for a in all_outcomes:\n",
    "    print(a)"
   ]
  },
  {
   "cell_type": "markdown",
   "metadata": {},
   "source": [
    "Sadly, there's no 'challenged' label here, but I can do some more filtering here. You can only challenge called strikes or balls. "
   ]
  },
  {
   "cell_type": "code",
   "execution_count": 46,
   "metadata": {},
   "outputs": [],
   "source": [
    "abs_relevant_pitches = abs_relevant_pitches.filter(\n",
    "    pl.col('description').is_in(['ball', 'called_strike'])\n",
    ")"
   ]
  },
  {
   "cell_type": "code",
   "execution_count": 47,
   "metadata": {},
   "outputs": [
    {
     "data": {
      "text/html": [
       "<div><style>\n",
       ".dataframe > thead > tr,\n",
       ".dataframe > tbody > tr {\n",
       "  text-align: right;\n",
       "  white-space: pre-wrap;\n",
       "}\n",
       "</style>\n",
       "<small>shape: (5, 113)</small><table border=\"1\" class=\"dataframe\"><thead><tr><th>pitch_type</th><th>game_date</th><th>release_speed</th><th>release_pos_x</th><th>release_pos_z</th><th>player_name</th><th>batter</th><th>pitcher</th><th>events</th><th>description</th><th>spin_dir</th><th>spin_rate_deprecated</th><th>break_angle_deprecated</th><th>break_length_deprecated</th><th>zone</th><th>des</th><th>game_type</th><th>stand</th><th>p_throws</th><th>home_team</th><th>away_team</th><th>type</th><th>hit_location</th><th>bb_type</th><th>balls</th><th>strikes</th><th>game_year</th><th>pfx_x</th><th>pfx_z</th><th>plate_x</th><th>plate_z</th><th>on_3b</th><th>on_2b</th><th>on_1b</th><th>outs_when_up</th><th>inning</th><th>inning_topbot</th><th>&hellip;</th><th>pitch_name</th><th>home_score</th><th>away_score</th><th>bat_score</th><th>fld_score</th><th>post_away_score</th><th>post_home_score</th><th>post_bat_score</th><th>post_fld_score</th><th>if_fielding_alignment</th><th>of_fielding_alignment</th><th>spin_axis</th><th>delta_home_win_exp</th><th>delta_run_exp</th><th>bat_speed</th><th>swing_length</th><th>estimated_slg_using_speedangle</th><th>delta_pitcher_run_exp</th><th>hyper_speed</th><th>home_score_diff</th><th>bat_score_diff</th><th>home_win_exp</th><th>bat_win_exp</th><th>age_pit_legacy</th><th>age_bat_legacy</th><th>age_pit</th><th>age_bat</th><th>n_thruorder_pitcher</th><th>n_priorpa_thisgame_player_at_bat</th><th>pitcher_days_since_prev_game</th><th>batter_days_since_prev_game</th><th>pitcher_days_until_next_game</th><th>batter_days_until_next_game</th><th>api_break_z_with_gravity</th><th>api_break_x_arm</th><th>api_break_x_batter_in</th><th>arm_angle</th></tr><tr><td>str</td><td>date</td><td>f64</td><td>f64</td><td>f64</td><td>str</td><td>i64</td><td>i64</td><td>str</td><td>str</td><td>i64</td><td>i64</td><td>i64</td><td>i64</td><td>i64</td><td>str</td><td>str</td><td>str</td><td>str</td><td>str</td><td>str</td><td>str</td><td>i64</td><td>str</td><td>i64</td><td>i64</td><td>i64</td><td>f64</td><td>f64</td><td>f64</td><td>f64</td><td>i64</td><td>i64</td><td>i64</td><td>i64</td><td>i64</td><td>str</td><td>&hellip;</td><td>str</td><td>i64</td><td>i64</td><td>i64</td><td>i64</td><td>i64</td><td>i64</td><td>i64</td><td>i64</td><td>str</td><td>str</td><td>i64</td><td>f64</td><td>i64</td><td>f64</td><td>f64</td><td>f64</td><td>i64</td><td>f64</td><td>i64</td><td>i64</td><td>f64</td><td>f64</td><td>i64</td><td>i64</td><td>i64</td><td>i64</td><td>i64</td><td>i64</td><td>i64</td><td>i64</td><td>i64</td><td>i64</td><td>f64</td><td>f64</td><td>f64</td><td>i64</td></tr></thead><tbody><tr><td>&quot;CH&quot;</td><td>2025-02-20</td><td>87.6</td><td>-1.79</td><td>6.03</td><td>&quot;Poteet, Cody&quot;</td><td>687221</td><td>547001</td><td>&quot;walk&quot;</td><td>&quot;ball&quot;</td><td>null</td><td>null</td><td>null</td><td>null</td><td>11</td><td>&quot;Dalton Rushing walks.&quot;</td><td>&quot;S&quot;</td><td>&quot;L&quot;</td><td>&quot;R&quot;</td><td>&quot;LAD&quot;</td><td>&quot;CHC&quot;</td><td>&quot;B&quot;</td><td>null</td><td>null</td><td>3</td><td>2</td><td>2025</td><td>-1.05</td><td>0.24</td><td>-2.39</td><td>4.3</td><td>676439</td><td>null</td><td>null</td><td>1</td><td>2</td><td>&quot;Bot&quot;</td><td>&hellip;</td><td>&quot;Changeup&quot;</td><td>3</td><td>0</td><td>3</td><td>0</td><td>0</td><td>3</td><td>3</td><td>0</td><td>&quot;Strategic&quot;</td><td>&quot;Standard&quot;</td><td>238</td><td>0.005</td><td>null</td><td>null</td><td>null</td><td>null</td><td>null</td><td>null</td><td>3</td><td>3</td><td>0.858</td><td>0.858</td><td>30</td><td>24</td><td>31</td><td>24</td><td>1</td><td>0</td><td>null</td><td>null</td><td>null</td><td>null</td><td>2.71</td><td>1.05</td><td>-1.05</td><td>null</td></tr><tr><td>&quot;CH&quot;</td><td>2025-02-20</td><td>88.4</td><td>-1.67</td><td>6.05</td><td>&quot;Poteet, Cody&quot;</td><td>687221</td><td>547001</td><td>null</td><td>&quot;ball&quot;</td><td>null</td><td>null</td><td>null</td><td>null</td><td>11</td><td>&quot;Dalton Rushing walks.&quot;</td><td>&quot;S&quot;</td><td>&quot;L&quot;</td><td>&quot;R&quot;</td><td>&quot;LAD&quot;</td><td>&quot;CHC&quot;</td><td>&quot;B&quot;</td><td>null</td><td>null</td><td>2</td><td>2</td><td>2025</td><td>-1.22</td><td>0.28</td><td>-2.76</td><td>3.53</td><td>676439</td><td>null</td><td>null</td><td>1</td><td>2</td><td>&quot;Bot&quot;</td><td>&hellip;</td><td>&quot;Changeup&quot;</td><td>3</td><td>0</td><td>3</td><td>0</td><td>0</td><td>3</td><td>3</td><td>0</td><td>&quot;Strategic&quot;</td><td>&quot;Standard&quot;</td><td>235</td><td>0.0</td><td>null</td><td>null</td><td>null</td><td>null</td><td>null</td><td>null</td><td>3</td><td>3</td><td>0.858</td><td>0.858</td><td>30</td><td>24</td><td>31</td><td>24</td><td>1</td><td>0</td><td>null</td><td>null</td><td>null</td><td>null</td><td>2.64</td><td>1.22</td><td>-1.22</td><td>null</td></tr><tr><td>&quot;FF&quot;</td><td>2025-02-20</td><td>94.8</td><td>-1.22</td><td>6.28</td><td>&quot;Poteet, Cody&quot;</td><td>687221</td><td>547001</td><td>null</td><td>&quot;ball&quot;</td><td>null</td><td>null</td><td>null</td><td>null</td><td>11</td><td>&quot;Dalton Rushing walks.&quot;</td><td>&quot;S&quot;</td><td>&quot;L&quot;</td><td>&quot;R&quot;</td><td>&quot;LAD&quot;</td><td>&quot;CHC&quot;</td><td>&quot;B&quot;</td><td>null</td><td>null</td><td>1</td><td>2</td><td>2025</td><td>-0.66</td><td>1.35</td><td>-0.13</td><td>4.67</td><td>676439</td><td>null</td><td>null</td><td>1</td><td>2</td><td>&quot;Bot&quot;</td><td>&hellip;</td><td>&quot;4-Seam Fastball&quot;</td><td>3</td><td>0</td><td>3</td><td>0</td><td>0</td><td>3</td><td>3</td><td>0</td><td>&quot;Strategic&quot;</td><td>&quot;Standard&quot;</td><td>218</td><td>0.0</td><td>null</td><td>null</td><td>null</td><td>null</td><td>null</td><td>null</td><td>3</td><td>3</td><td>0.858</td><td>0.858</td><td>30</td><td>24</td><td>31</td><td>24</td><td>1</td><td>0</td><td>null</td><td>null</td><td>null</td><td>null</td><td>1.2</td><td>0.66</td><td>-0.66</td><td>null</td></tr><tr><td>&quot;CH&quot;</td><td>2025-02-20</td><td>90.1</td><td>-1.6</td><td>6.03</td><td>&quot;Poteet, Cody&quot;</td><td>687221</td><td>547001</td><td>null</td><td>&quot;ball&quot;</td><td>null</td><td>null</td><td>null</td><td>null</td><td>14</td><td>&quot;Dalton Rushing walks.&quot;</td><td>&quot;S&quot;</td><td>&quot;L&quot;</td><td>&quot;R&quot;</td><td>&quot;LAD&quot;</td><td>&quot;CHC&quot;</td><td>&quot;B&quot;</td><td>null</td><td>null</td><td>0</td><td>2</td><td>2025</td><td>-1.06</td><td>0.35</td><td>1.1</td><td>0.09</td><td>623520</td><td>676439</td><td>null</td><td>1</td><td>2</td><td>&quot;Bot&quot;</td><td>&hellip;</td><td>&quot;Changeup&quot;</td><td>2</td><td>0</td><td>2</td><td>0</td><td>0</td><td>3</td><td>3</td><td>0</td><td>&quot;Strategic&quot;</td><td>&quot;Standard&quot;</td><td>245</td><td>0.044</td><td>null</td><td>null</td><td>null</td><td>null</td><td>null</td><td>null</td><td>2</td><td>2</td><td>0.814</td><td>0.814</td><td>30</td><td>24</td><td>31</td><td>24</td><td>1</td><td>0</td><td>null</td><td>null</td><td>null</td><td>null</td><td>2.47</td><td>1.06</td><td>-1.06</td><td>null</td></tr><tr><td>&quot;FF&quot;</td><td>2025-02-20</td><td>94.2</td><td>-1.34</td><td>6.33</td><td>&quot;Poteet, Cody&quot;</td><td>808975</td><td>547001</td><td>null</td><td>&quot;ball&quot;</td><td>null</td><td>null</td><td>null</td><td>null</td><td>11</td><td>&quot;Hyeseong Kim grounds out softl…</td><td>&quot;S&quot;</td><td>&quot;L&quot;</td><td>&quot;R&quot;</td><td>&quot;LAD&quot;</td><td>&quot;CHC&quot;</td><td>&quot;B&quot;</td><td>null</td><td>null</td><td>2</td><td>2</td><td>2025</td><td>-0.64</td><td>1.26</td><td>-0.84</td><td>3.8</td><td>623520</td><td>676439</td><td>null</td><td>0</td><td>2</td><td>&quot;Bot&quot;</td><td>&hellip;</td><td>&quot;4-Seam Fastball&quot;</td><td>2</td><td>0</td><td>2</td><td>0</td><td>0</td><td>2</td><td>2</td><td>0</td><td>&quot;Strategic&quot;</td><td>&quot;Standard&quot;</td><td>218</td><td>0.0</td><td>null</td><td>null</td><td>null</td><td>null</td><td>null</td><td>null</td><td>2</td><td>2</td><td>0.849</td><td>0.849</td><td>30</td><td>26</td><td>31</td><td>26</td><td>1</td><td>0</td><td>null</td><td>null</td><td>null</td><td>null</td><td>1.29</td><td>0.64</td><td>-0.64</td><td>null</td></tr></tbody></table></div>"
      ],
      "text/plain": [
       "shape: (5, 113)\n",
       "┌───────────┬───────────┬───────────┬───────────┬───┬───────────┬───────────┬───────────┬──────────┐\n",
       "│ pitch_typ ┆ game_date ┆ release_s ┆ release_p ┆ … ┆ api_break ┆ api_break ┆ api_break ┆ arm_angl │\n",
       "│ e         ┆ ---       ┆ peed      ┆ os_x      ┆   ┆ _z_with_g ┆ _x_arm    ┆ _x_batter ┆ e        │\n",
       "│ ---       ┆ date      ┆ ---       ┆ ---       ┆   ┆ ravity    ┆ ---       ┆ _in       ┆ ---      │\n",
       "│ str       ┆           ┆ f64       ┆ f64       ┆   ┆ ---       ┆ f64       ┆ ---       ┆ i64      │\n",
       "│           ┆           ┆           ┆           ┆   ┆ f64       ┆           ┆ f64       ┆          │\n",
       "╞═══════════╪═══════════╪═══════════╪═══════════╪═══╪═══════════╪═══════════╪═══════════╪══════════╡\n",
       "│ CH        ┆ 2025-02-2 ┆ 87.6      ┆ -1.79     ┆ … ┆ 2.71      ┆ 1.05      ┆ -1.05     ┆ null     │\n",
       "│           ┆ 0         ┆           ┆           ┆   ┆           ┆           ┆           ┆          │\n",
       "│ CH        ┆ 2025-02-2 ┆ 88.4      ┆ -1.67     ┆ … ┆ 2.64      ┆ 1.22      ┆ -1.22     ┆ null     │\n",
       "│           ┆ 0         ┆           ┆           ┆   ┆           ┆           ┆           ┆          │\n",
       "│ FF        ┆ 2025-02-2 ┆ 94.8      ┆ -1.22     ┆ … ┆ 1.2       ┆ 0.66      ┆ -0.66     ┆ null     │\n",
       "│           ┆ 0         ┆           ┆           ┆   ┆           ┆           ┆           ┆          │\n",
       "│ CH        ┆ 2025-02-2 ┆ 90.1      ┆ -1.6      ┆ … ┆ 2.47      ┆ 1.06      ┆ -1.06     ┆ null     │\n",
       "│           ┆ 0         ┆           ┆           ┆   ┆           ┆           ┆           ┆          │\n",
       "│ FF        ┆ 2025-02-2 ┆ 94.2      ┆ -1.34     ┆ … ┆ 1.29      ┆ 0.64      ┆ -0.64     ┆ null     │\n",
       "│           ┆ 0         ┆           ┆           ┆   ┆           ┆           ┆           ┆          │\n",
       "└───────────┴───────────┴───────────┴───────────┴───┴───────────┴───────────┴───────────┴──────────┘"
      ]
     },
     "execution_count": 47,
     "metadata": {},
     "output_type": "execute_result"
    }
   ],
   "source": [
    "abs_relevant_pitches.head()"
   ]
  },
  {
   "cell_type": "markdown",
   "metadata": {},
   "source": [
    "# Get all ABS Challenges from the description\n",
    "\n"
   ]
  },
  {
   "cell_type": "code",
   "execution_count": 58,
   "metadata": {},
   "outputs": [],
   "source": [
    "# Filter to challenged pitches\n",
    "abs_challenges_end_ab = abs_relevant_pitches.filter(\n",
    "    pl.col('des').str.contains_any(['challenge'])\n",
    ")\n",
    "\n",
    "# Filter to successful challenged pitches that end an at bat\n",
    "abs_challenges_end_ab = abs_challenges_end_ab.group_by(\"des\", maintain_order=True).last()\n",
    "abs_challenges_end_ab.write_csv(\"data/abs_challenges_end_ab.csv\")"
   ]
  },
  {
   "cell_type": "code",
   "execution_count": 57,
   "metadata": {},
   "outputs": [],
   "source": []
  },
  {
   "cell_type": "markdown",
   "metadata": {},
   "source": [
    "# Everson Pereira\n",
    "\n",
    "Here's a pretty good universe of pitches that could be challenged. Let's start by manually grabbing a few games with challenged pitches and go from there. \n",
    "\n",
    "The rules say that:\n",
    "- During the spring, each team will be given two challenges per game and will retain successful challenges.\n",
    "\n",
    "The Yankees are always in the news, so let's start with them. https://www.espn.com/mlb/story/_/id/43973088/new-york-yankees-use-abs-challenge-system-keep-inning-alive \n",
    "\n",
    "This article says that: \n",
    "- On Feb 22, 2025\n",
    "- The Yankees used an ABS challenge successfully\n",
    "- Batter: Everson Pereira\n",
    "- Away Team: New York Yankees\n",
    "- Home Team: Toronto Blue Jays\n",
    "- Top of the 6th inning, 2 outs, full count\n",
    "- Pitch: Last pitch of the AB, caused him to walk"
   ]
  },
  {
   "cell_type": "code",
   "execution_count": 18,
   "metadata": {},
   "outputs": [
    {
     "name": "stdout",
     "output_type": "stream",
     "text": [
      "Gathering player lookup table. This may take a moment.\n"
     ]
    },
    {
     "data": {
      "text/plain": [
       "np.int64(677592)"
      ]
     },
     "execution_count": 18,
     "metadata": {},
     "output_type": "execute_result"
    }
   ],
   "source": [
    "everson_pereira = pb.playerid_lookup('pereira', 'everson')\n",
    "everson_pereira.key_mlbam[0]"
   ]
  },
  {
   "cell_type": "code",
   "execution_count": 19,
   "metadata": {},
   "outputs": [],
   "source": [
    "pereira_challenge = abs_relevant_pitches.filter(\n",
    "    (pl.col('batter')==everson_pereira.key_mlbam[0]) &\n",
    "    (pl.col('game_date')==datetime.strptime(\"2025-02-22\", '%Y-%m-%d').date()) &\n",
    "    (pl.col('away_team')==\"NYY\") &\n",
    "    (pl.col('home_team')==\"TOR\") &\n",
    "    (pl.col('inning')==6)\n",
    ")\n",
    "\n",
    "# Get last pitch of AB\n",
    "pitch_challenged_pereira = pereira_challenge.filter(\n",
    "    pl.col('pitch_number')==pl.max('pitch_number')\n",
    ")"
   ]
  },
  {
   "cell_type": "code",
   "execution_count": 20,
   "metadata": {},
   "outputs": [
    {
     "data": {
      "text/html": [
       "<div><style>\n",
       ".dataframe > thead > tr,\n",
       ".dataframe > tbody > tr {\n",
       "  text-align: right;\n",
       "  white-space: pre-wrap;\n",
       "}\n",
       "</style>\n",
       "<small>shape: (6, 113)</small><table border=\"1\" class=\"dataframe\"><thead><tr><th>pitch_type</th><th>game_date</th><th>release_speed</th><th>release_pos_x</th><th>release_pos_z</th><th>player_name</th><th>batter</th><th>pitcher</th><th>events</th><th>description</th><th>spin_dir</th><th>spin_rate_deprecated</th><th>break_angle_deprecated</th><th>break_length_deprecated</th><th>zone</th><th>des</th><th>game_type</th><th>stand</th><th>p_throws</th><th>home_team</th><th>away_team</th><th>type</th><th>hit_location</th><th>bb_type</th><th>balls</th><th>strikes</th><th>game_year</th><th>pfx_x</th><th>pfx_z</th><th>plate_x</th><th>plate_z</th><th>on_3b</th><th>on_2b</th><th>on_1b</th><th>outs_when_up</th><th>inning</th><th>inning_topbot</th><th>&hellip;</th><th>pitch_name</th><th>home_score</th><th>away_score</th><th>bat_score</th><th>fld_score</th><th>post_away_score</th><th>post_home_score</th><th>post_bat_score</th><th>post_fld_score</th><th>if_fielding_alignment</th><th>of_fielding_alignment</th><th>spin_axis</th><th>delta_home_win_exp</th><th>delta_run_exp</th><th>bat_speed</th><th>swing_length</th><th>estimated_slg_using_speedangle</th><th>delta_pitcher_run_exp</th><th>hyper_speed</th><th>home_score_diff</th><th>bat_score_diff</th><th>home_win_exp</th><th>bat_win_exp</th><th>age_pit_legacy</th><th>age_bat_legacy</th><th>age_pit</th><th>age_bat</th><th>n_thruorder_pitcher</th><th>n_priorpa_thisgame_player_at_bat</th><th>pitcher_days_since_prev_game</th><th>batter_days_since_prev_game</th><th>pitcher_days_until_next_game</th><th>batter_days_until_next_game</th><th>api_break_z_with_gravity</th><th>api_break_x_arm</th><th>api_break_x_batter_in</th><th>arm_angle</th></tr><tr><td>str</td><td>date</td><td>f64</td><td>f64</td><td>f64</td><td>str</td><td>i64</td><td>i64</td><td>str</td><td>str</td><td>i64</td><td>i64</td><td>i64</td><td>i64</td><td>i64</td><td>str</td><td>str</td><td>str</td><td>str</td><td>str</td><td>str</td><td>str</td><td>i64</td><td>str</td><td>i64</td><td>i64</td><td>i64</td><td>f64</td><td>f64</td><td>f64</td><td>f64</td><td>i64</td><td>i64</td><td>i64</td><td>i64</td><td>i64</td><td>str</td><td>&hellip;</td><td>str</td><td>i64</td><td>i64</td><td>i64</td><td>i64</td><td>i64</td><td>i64</td><td>i64</td><td>i64</td><td>str</td><td>str</td><td>i64</td><td>f64</td><td>i64</td><td>f64</td><td>f64</td><td>f64</td><td>i64</td><td>f64</td><td>i64</td><td>i64</td><td>f64</td><td>f64</td><td>i64</td><td>i64</td><td>i64</td><td>i64</td><td>i64</td><td>i64</td><td>i64</td><td>i64</td><td>i64</td><td>i64</td><td>f64</td><td>f64</td><td>f64</td><td>i64</td></tr></thead><tbody><tr><td>&quot;FF&quot;</td><td>2025-02-22</td><td>93.1</td><td>-1.2</td><td>5.62</td><td>&quot;Pardinho, Eric&quot;</td><td>677592</td><td>672078</td><td>&quot;walk&quot;</td><td>&quot;ball&quot;</td><td>null</td><td>null</td><td>null</td><td>null</td><td>14</td><td>&quot;Everson Pereira walks.&quot;</td><td>&quot;S&quot;</td><td>&quot;R&quot;</td><td>&quot;R&quot;</td><td>&quot;TOR&quot;</td><td>&quot;NYY&quot;</td><td>&quot;B&quot;</td><td>null</td><td>null</td><td>3</td><td>2</td><td>2025</td><td>-0.67</td><td>1.61</td><td>0.84</td><td>1.63</td><td>null</td><td>null</td><td>null</td><td>2</td><td>6</td><td>&quot;Top&quot;</td><td>&hellip;</td><td>&quot;4-Seam Fastball&quot;</td><td>4</td><td>0</td><td>0</td><td>4</td><td>0</td><td>4</td><td>0</td><td>4</td><td>&quot;Standard&quot;</td><td>&quot;Standard&quot;</td><td>218</td><td>-0.008</td><td>null</td><td>null</td><td>null</td><td>null</td><td>null</td><td>null</td><td>4</td><td>-4</td><td>0.951</td><td>0.049</td><td>24</td><td>24</td><td>24</td><td>24</td><td>1</td><td>2</td><td>null</td><td>null</td><td>null</td><td>null</td><td>1.04</td><td>0.67</td><td>0.67</td><td>null</td></tr><tr><td>&quot;FS&quot;</td><td>2025-02-22</td><td>85.4</td><td>-1.34</td><td>5.62</td><td>&quot;Pardinho, Eric&quot;</td><td>677592</td><td>672078</td><td>null</td><td>&quot;ball&quot;</td><td>null</td><td>null</td><td>null</td><td>null</td><td>11</td><td>&quot;Everson Pereira walks.&quot;</td><td>&quot;S&quot;</td><td>&quot;R&quot;</td><td>&quot;R&quot;</td><td>&quot;TOR&quot;</td><td>&quot;NYY&quot;</td><td>&quot;B&quot;</td><td>null</td><td>null</td><td>2</td><td>2</td><td>2025</td><td>-1.19</td><td>-0.11</td><td>-0.99</td><td>4.71</td><td>null</td><td>null</td><td>null</td><td>2</td><td>6</td><td>&quot;Top&quot;</td><td>&hellip;</td><td>&quot;Split-Finger&quot;</td><td>4</td><td>0</td><td>0</td><td>4</td><td>0</td><td>4</td><td>0</td><td>4</td><td>&quot;Standard&quot;</td><td>&quot;Standard&quot;</td><td>239</td><td>0.0</td><td>null</td><td>null</td><td>null</td><td>null</td><td>null</td><td>null</td><td>4</td><td>-4</td><td>0.951</td><td>0.049</td><td>24</td><td>24</td><td>24</td><td>24</td><td>1</td><td>2</td><td>null</td><td>null</td><td>null</td><td>null</td><td>3.27</td><td>1.19</td><td>1.19</td><td>null</td></tr><tr><td>&quot;SL&quot;</td><td>2025-02-22</td><td>87.0</td><td>-1.34</td><td>5.61</td><td>&quot;Pardinho, Eric&quot;</td><td>677592</td><td>672078</td><td>null</td><td>&quot;called_strike&quot;</td><td>null</td><td>null</td><td>null</td><td>null</td><td>9</td><td>&quot;Everson Pereira walks.&quot;</td><td>&quot;S&quot;</td><td>&quot;R&quot;</td><td>&quot;R&quot;</td><td>&quot;TOR&quot;</td><td>&quot;NYY&quot;</td><td>&quot;S&quot;</td><td>null</td><td>null</td><td>2</td><td>1</td><td>2025</td><td>-0.53</td><td>0.46</td><td>0.72</td><td>1.66</td><td>null</td><td>null</td><td>null</td><td>2</td><td>6</td><td>&quot;Top&quot;</td><td>&hellip;</td><td>&quot;Slider&quot;</td><td>4</td><td>0</td><td>0</td><td>4</td><td>0</td><td>4</td><td>0</td><td>4</td><td>&quot;Standard&quot;</td><td>&quot;Standard&quot;</td><td>224</td><td>0.0</td><td>null</td><td>null</td><td>null</td><td>null</td><td>null</td><td>null</td><td>4</td><td>-4</td><td>0.951</td><td>0.049</td><td>24</td><td>24</td><td>24</td><td>24</td><td>1</td><td>2</td><td>null</td><td>null</td><td>null</td><td>null</td><td>2.55</td><td>0.53</td><td>0.53</td><td>null</td></tr><tr><td>&quot;SL&quot;</td><td>2025-02-22</td><td>86.8</td><td>-1.36</td><td>5.61</td><td>&quot;Pardinho, Eric&quot;</td><td>677592</td><td>672078</td><td>null</td><td>&quot;called_strike&quot;</td><td>null</td><td>null</td><td>null</td><td>null</td><td>9</td><td>&quot;Everson Pereira walks.&quot;</td><td>&quot;S&quot;</td><td>&quot;R&quot;</td><td>&quot;R&quot;</td><td>&quot;TOR&quot;</td><td>&quot;NYY&quot;</td><td>&quot;S&quot;</td><td>null</td><td>null</td><td>2</td><td>0</td><td>2025</td><td>-0.61</td><td>0.32</td><td>0.58</td><td>1.58</td><td>null</td><td>null</td><td>null</td><td>2</td><td>6</td><td>&quot;Top&quot;</td><td>&hellip;</td><td>&quot;Slider&quot;</td><td>4</td><td>0</td><td>0</td><td>4</td><td>0</td><td>4</td><td>0</td><td>4</td><td>&quot;Standard&quot;</td><td>&quot;Standard&quot;</td><td>232</td><td>0.0</td><td>null</td><td>null</td><td>null</td><td>null</td><td>null</td><td>null</td><td>4</td><td>-4</td><td>0.951</td><td>0.049</td><td>24</td><td>24</td><td>24</td><td>24</td><td>1</td><td>2</td><td>null</td><td>null</td><td>null</td><td>null</td><td>2.72</td><td>0.61</td><td>0.61</td><td>null</td></tr><tr><td>&quot;FF&quot;</td><td>2025-02-22</td><td>94.2</td><td>-1.2</td><td>5.69</td><td>&quot;Pardinho, Eric&quot;</td><td>677592</td><td>672078</td><td>null</td><td>&quot;ball&quot;</td><td>null</td><td>null</td><td>null</td><td>null</td><td>11</td><td>&quot;Everson Pereira walks.&quot;</td><td>&quot;S&quot;</td><td>&quot;R&quot;</td><td>&quot;R&quot;</td><td>&quot;TOR&quot;</td><td>&quot;NYY&quot;</td><td>&quot;B&quot;</td><td>null</td><td>null</td><td>1</td><td>0</td><td>2025</td><td>-0.58</td><td>1.55</td><td>-0.18</td><td>3.9</td><td>null</td><td>null</td><td>null</td><td>2</td><td>6</td><td>&quot;Top&quot;</td><td>&hellip;</td><td>&quot;4-Seam Fastball&quot;</td><td>4</td><td>0</td><td>0</td><td>4</td><td>0</td><td>4</td><td>0</td><td>4</td><td>&quot;Standard&quot;</td><td>&quot;Standard&quot;</td><td>217</td><td>0.0</td><td>null</td><td>null</td><td>null</td><td>null</td><td>null</td><td>null</td><td>4</td><td>-4</td><td>0.951</td><td>0.049</td><td>24</td><td>24</td><td>24</td><td>24</td><td>1</td><td>2</td><td>null</td><td>null</td><td>null</td><td>null</td><td>1.03</td><td>0.58</td><td>0.58</td><td>null</td></tr><tr><td>&quot;FF&quot;</td><td>2025-02-22</td><td>93.8</td><td>-1.12</td><td>5.71</td><td>&quot;Pardinho, Eric&quot;</td><td>677592</td><td>672078</td><td>null</td><td>&quot;ball&quot;</td><td>null</td><td>null</td><td>null</td><td>null</td><td>12</td><td>&quot;Everson Pereira walks.&quot;</td><td>&quot;S&quot;</td><td>&quot;R&quot;</td><td>&quot;R&quot;</td><td>&quot;TOR&quot;</td><td>&quot;NYY&quot;</td><td>&quot;B&quot;</td><td>null</td><td>null</td><td>0</td><td>0</td><td>2025</td><td>-0.69</td><td>1.61</td><td>0.86</td><td>4.18</td><td>null</td><td>null</td><td>null</td><td>2</td><td>6</td><td>&quot;Top&quot;</td><td>&hellip;</td><td>&quot;4-Seam Fastball&quot;</td><td>4</td><td>0</td><td>0</td><td>4</td><td>0</td><td>4</td><td>0</td><td>4</td><td>&quot;Standard&quot;</td><td>&quot;Standard&quot;</td><td>217</td><td>0.0</td><td>null</td><td>null</td><td>null</td><td>null</td><td>null</td><td>null</td><td>4</td><td>-4</td><td>0.951</td><td>0.049</td><td>24</td><td>24</td><td>24</td><td>24</td><td>1</td><td>2</td><td>null</td><td>null</td><td>null</td><td>null</td><td>1.0</td><td>0.69</td><td>0.69</td><td>null</td></tr></tbody></table></div>"
      ],
      "text/plain": [
       "shape: (6, 113)\n",
       "┌───────────┬───────────┬───────────┬───────────┬───┬───────────┬───────────┬───────────┬──────────┐\n",
       "│ pitch_typ ┆ game_date ┆ release_s ┆ release_p ┆ … ┆ api_break ┆ api_break ┆ api_break ┆ arm_angl │\n",
       "│ e         ┆ ---       ┆ peed      ┆ os_x      ┆   ┆ _z_with_g ┆ _x_arm    ┆ _x_batter ┆ e        │\n",
       "│ ---       ┆ date      ┆ ---       ┆ ---       ┆   ┆ ravity    ┆ ---       ┆ _in       ┆ ---      │\n",
       "│ str       ┆           ┆ f64       ┆ f64       ┆   ┆ ---       ┆ f64       ┆ ---       ┆ i64      │\n",
       "│           ┆           ┆           ┆           ┆   ┆ f64       ┆           ┆ f64       ┆          │\n",
       "╞═══════════╪═══════════╪═══════════╪═══════════╪═══╪═══════════╪═══════════╪═══════════╪══════════╡\n",
       "│ FF        ┆ 2025-02-2 ┆ 93.1      ┆ -1.2      ┆ … ┆ 1.04      ┆ 0.67      ┆ 0.67      ┆ null     │\n",
       "│           ┆ 2         ┆           ┆           ┆   ┆           ┆           ┆           ┆          │\n",
       "│ FS        ┆ 2025-02-2 ┆ 85.4      ┆ -1.34     ┆ … ┆ 3.27      ┆ 1.19      ┆ 1.19      ┆ null     │\n",
       "│           ┆ 2         ┆           ┆           ┆   ┆           ┆           ┆           ┆          │\n",
       "│ SL        ┆ 2025-02-2 ┆ 87.0      ┆ -1.34     ┆ … ┆ 2.55      ┆ 0.53      ┆ 0.53      ┆ null     │\n",
       "│           ┆ 2         ┆           ┆           ┆   ┆           ┆           ┆           ┆          │\n",
       "│ SL        ┆ 2025-02-2 ┆ 86.8      ┆ -1.36     ┆ … ┆ 2.72      ┆ 0.61      ┆ 0.61      ┆ null     │\n",
       "│           ┆ 2         ┆           ┆           ┆   ┆           ┆           ┆           ┆          │\n",
       "│ FF        ┆ 2025-02-2 ┆ 94.2      ┆ -1.2      ┆ … ┆ 1.03      ┆ 0.58      ┆ 0.58      ┆ null     │\n",
       "│           ┆ 2         ┆           ┆           ┆   ┆           ┆           ┆           ┆          │\n",
       "│ FF        ┆ 2025-02-2 ┆ 93.8      ┆ -1.12     ┆ … ┆ 1.0       ┆ 0.69      ┆ 0.69      ┆ null     │\n",
       "│           ┆ 2         ┆           ┆           ┆   ┆           ┆           ┆           ┆          │\n",
       "└───────────┴───────────┴───────────┴───────────┴───┴───────────┴───────────┴───────────┴──────────┘"
      ]
     },
     "execution_count": 20,
     "metadata": {},
     "output_type": "execute_result"
    }
   ],
   "source": [
    "pereira_challenge"
   ]
  },
  {
   "cell_type": "code",
   "execution_count": 21,
   "metadata": {},
   "outputs": [
    {
     "data": {
      "text/html": [
       "<div><style>\n",
       ".dataframe > thead > tr,\n",
       ".dataframe > tbody > tr {\n",
       "  text-align: right;\n",
       "  white-space: pre-wrap;\n",
       "}\n",
       "</style>\n",
       "<small>shape: (1, 113)</small><table border=\"1\" class=\"dataframe\"><thead><tr><th>pitch_type</th><th>game_date</th><th>release_speed</th><th>release_pos_x</th><th>release_pos_z</th><th>player_name</th><th>batter</th><th>pitcher</th><th>events</th><th>description</th><th>spin_dir</th><th>spin_rate_deprecated</th><th>break_angle_deprecated</th><th>break_length_deprecated</th><th>zone</th><th>des</th><th>game_type</th><th>stand</th><th>p_throws</th><th>home_team</th><th>away_team</th><th>type</th><th>hit_location</th><th>bb_type</th><th>balls</th><th>strikes</th><th>game_year</th><th>pfx_x</th><th>pfx_z</th><th>plate_x</th><th>plate_z</th><th>on_3b</th><th>on_2b</th><th>on_1b</th><th>outs_when_up</th><th>inning</th><th>inning_topbot</th><th>&hellip;</th><th>pitch_name</th><th>home_score</th><th>away_score</th><th>bat_score</th><th>fld_score</th><th>post_away_score</th><th>post_home_score</th><th>post_bat_score</th><th>post_fld_score</th><th>if_fielding_alignment</th><th>of_fielding_alignment</th><th>spin_axis</th><th>delta_home_win_exp</th><th>delta_run_exp</th><th>bat_speed</th><th>swing_length</th><th>estimated_slg_using_speedangle</th><th>delta_pitcher_run_exp</th><th>hyper_speed</th><th>home_score_diff</th><th>bat_score_diff</th><th>home_win_exp</th><th>bat_win_exp</th><th>age_pit_legacy</th><th>age_bat_legacy</th><th>age_pit</th><th>age_bat</th><th>n_thruorder_pitcher</th><th>n_priorpa_thisgame_player_at_bat</th><th>pitcher_days_since_prev_game</th><th>batter_days_since_prev_game</th><th>pitcher_days_until_next_game</th><th>batter_days_until_next_game</th><th>api_break_z_with_gravity</th><th>api_break_x_arm</th><th>api_break_x_batter_in</th><th>arm_angle</th></tr><tr><td>str</td><td>date</td><td>f64</td><td>f64</td><td>f64</td><td>str</td><td>i64</td><td>i64</td><td>str</td><td>str</td><td>i64</td><td>i64</td><td>i64</td><td>i64</td><td>i64</td><td>str</td><td>str</td><td>str</td><td>str</td><td>str</td><td>str</td><td>str</td><td>i64</td><td>str</td><td>i64</td><td>i64</td><td>i64</td><td>f64</td><td>f64</td><td>f64</td><td>f64</td><td>i64</td><td>i64</td><td>i64</td><td>i64</td><td>i64</td><td>str</td><td>&hellip;</td><td>str</td><td>i64</td><td>i64</td><td>i64</td><td>i64</td><td>i64</td><td>i64</td><td>i64</td><td>i64</td><td>str</td><td>str</td><td>i64</td><td>f64</td><td>i64</td><td>f64</td><td>f64</td><td>f64</td><td>i64</td><td>f64</td><td>i64</td><td>i64</td><td>f64</td><td>f64</td><td>i64</td><td>i64</td><td>i64</td><td>i64</td><td>i64</td><td>i64</td><td>i64</td><td>i64</td><td>i64</td><td>i64</td><td>f64</td><td>f64</td><td>f64</td><td>i64</td></tr></thead><tbody><tr><td>&quot;FF&quot;</td><td>2025-02-22</td><td>93.1</td><td>-1.2</td><td>5.62</td><td>&quot;Pardinho, Eric&quot;</td><td>677592</td><td>672078</td><td>&quot;walk&quot;</td><td>&quot;ball&quot;</td><td>null</td><td>null</td><td>null</td><td>null</td><td>14</td><td>&quot;Everson Pereira walks.&quot;</td><td>&quot;S&quot;</td><td>&quot;R&quot;</td><td>&quot;R&quot;</td><td>&quot;TOR&quot;</td><td>&quot;NYY&quot;</td><td>&quot;B&quot;</td><td>null</td><td>null</td><td>3</td><td>2</td><td>2025</td><td>-0.67</td><td>1.61</td><td>0.84</td><td>1.63</td><td>null</td><td>null</td><td>null</td><td>2</td><td>6</td><td>&quot;Top&quot;</td><td>&hellip;</td><td>&quot;4-Seam Fastball&quot;</td><td>4</td><td>0</td><td>0</td><td>4</td><td>0</td><td>4</td><td>0</td><td>4</td><td>&quot;Standard&quot;</td><td>&quot;Standard&quot;</td><td>218</td><td>-0.008</td><td>null</td><td>null</td><td>null</td><td>null</td><td>null</td><td>null</td><td>4</td><td>-4</td><td>0.951</td><td>0.049</td><td>24</td><td>24</td><td>24</td><td>24</td><td>1</td><td>2</td><td>null</td><td>null</td><td>null</td><td>null</td><td>1.04</td><td>0.67</td><td>0.67</td><td>null</td></tr></tbody></table></div>"
      ],
      "text/plain": [
       "shape: (1, 113)\n",
       "┌───────────┬───────────┬───────────┬───────────┬───┬───────────┬───────────┬───────────┬──────────┐\n",
       "│ pitch_typ ┆ game_date ┆ release_s ┆ release_p ┆ … ┆ api_break ┆ api_break ┆ api_break ┆ arm_angl │\n",
       "│ e         ┆ ---       ┆ peed      ┆ os_x      ┆   ┆ _z_with_g ┆ _x_arm    ┆ _x_batter ┆ e        │\n",
       "│ ---       ┆ date      ┆ ---       ┆ ---       ┆   ┆ ravity    ┆ ---       ┆ _in       ┆ ---      │\n",
       "│ str       ┆           ┆ f64       ┆ f64       ┆   ┆ ---       ┆ f64       ┆ ---       ┆ i64      │\n",
       "│           ┆           ┆           ┆           ┆   ┆ f64       ┆           ┆ f64       ┆          │\n",
       "╞═══════════╪═══════════╪═══════════╪═══════════╪═══╪═══════════╪═══════════╪═══════════╪══════════╡\n",
       "│ FF        ┆ 2025-02-2 ┆ 93.1      ┆ -1.2      ┆ … ┆ 1.04      ┆ 0.67      ┆ 0.67      ┆ null     │\n",
       "│           ┆ 2         ┆           ┆           ┆   ┆           ┆           ┆           ┆          │\n",
       "└───────────┴───────────┴───────────┴───────────┴───┴───────────┴───────────┴───────────┴──────────┘"
      ]
     },
     "execution_count": 21,
     "metadata": {},
     "output_type": "execute_result"
    }
   ],
   "source": [
    "pitch_challenged_pereira"
   ]
  },
  {
   "cell_type": "code",
   "execution_count": 22,
   "metadata": {},
   "outputs": [
    {
     "data": {
      "text/html": [
       "<div><style>\n",
       ".dataframe > thead > tr,\n",
       ".dataframe > tbody > tr {\n",
       "  text-align: right;\n",
       "  white-space: pre-wrap;\n",
       "}\n",
       "</style>\n",
       "<small>shape: (1, 113)</small><table border=\"1\" class=\"dataframe\"><thead><tr><th>pitch_type</th><th>game_date</th><th>release_speed</th><th>release_pos_x</th><th>release_pos_z</th><th>player_name</th><th>batter</th><th>pitcher</th><th>events</th><th>description</th><th>spin_dir</th><th>spin_rate_deprecated</th><th>break_angle_deprecated</th><th>break_length_deprecated</th><th>zone</th><th>des</th><th>game_type</th><th>stand</th><th>p_throws</th><th>home_team</th><th>away_team</th><th>type</th><th>hit_location</th><th>bb_type</th><th>balls</th><th>strikes</th><th>game_year</th><th>pfx_x</th><th>pfx_z</th><th>plate_x</th><th>plate_z</th><th>on_3b</th><th>on_2b</th><th>on_1b</th><th>outs_when_up</th><th>inning</th><th>inning_topbot</th><th>&hellip;</th><th>pitch_name</th><th>home_score</th><th>away_score</th><th>bat_score</th><th>fld_score</th><th>post_away_score</th><th>post_home_score</th><th>post_bat_score</th><th>post_fld_score</th><th>if_fielding_alignment</th><th>of_fielding_alignment</th><th>spin_axis</th><th>delta_home_win_exp</th><th>delta_run_exp</th><th>bat_speed</th><th>swing_length</th><th>estimated_slg_using_speedangle</th><th>delta_pitcher_run_exp</th><th>hyper_speed</th><th>home_score_diff</th><th>bat_score_diff</th><th>home_win_exp</th><th>bat_win_exp</th><th>age_pit_legacy</th><th>age_bat_legacy</th><th>age_pit</th><th>age_bat</th><th>n_thruorder_pitcher</th><th>n_priorpa_thisgame_player_at_bat</th><th>pitcher_days_since_prev_game</th><th>batter_days_since_prev_game</th><th>pitcher_days_until_next_game</th><th>batter_days_until_next_game</th><th>api_break_z_with_gravity</th><th>api_break_x_arm</th><th>api_break_x_batter_in</th><th>arm_angle</th></tr><tr><td>str</td><td>date</td><td>f64</td><td>f64</td><td>f64</td><td>str</td><td>i64</td><td>i64</td><td>str</td><td>str</td><td>i64</td><td>i64</td><td>i64</td><td>i64</td><td>i64</td><td>str</td><td>str</td><td>str</td><td>str</td><td>str</td><td>str</td><td>str</td><td>i64</td><td>str</td><td>i64</td><td>i64</td><td>i64</td><td>f64</td><td>f64</td><td>f64</td><td>f64</td><td>i64</td><td>i64</td><td>i64</td><td>i64</td><td>i64</td><td>str</td><td>&hellip;</td><td>str</td><td>i64</td><td>i64</td><td>i64</td><td>i64</td><td>i64</td><td>i64</td><td>i64</td><td>i64</td><td>str</td><td>str</td><td>i64</td><td>f64</td><td>i64</td><td>f64</td><td>f64</td><td>f64</td><td>i64</td><td>f64</td><td>i64</td><td>i64</td><td>f64</td><td>f64</td><td>i64</td><td>i64</td><td>i64</td><td>i64</td><td>i64</td><td>i64</td><td>i64</td><td>i64</td><td>i64</td><td>i64</td><td>f64</td><td>f64</td><td>f64</td><td>i64</td></tr></thead><tbody><tr><td>&quot;FF&quot;</td><td>2025-02-22</td><td>93.1</td><td>-1.2</td><td>5.62</td><td>&quot;Pardinho, Eric&quot;</td><td>677592</td><td>672078</td><td>&quot;walk&quot;</td><td>&quot;ball&quot;</td><td>null</td><td>null</td><td>null</td><td>null</td><td>14</td><td>&quot;Everson Pereira walks.&quot;</td><td>&quot;S&quot;</td><td>&quot;R&quot;</td><td>&quot;R&quot;</td><td>&quot;TOR&quot;</td><td>&quot;NYY&quot;</td><td>&quot;B&quot;</td><td>null</td><td>null</td><td>3</td><td>2</td><td>2025</td><td>-0.67</td><td>1.61</td><td>0.84</td><td>1.63</td><td>null</td><td>null</td><td>null</td><td>2</td><td>6</td><td>&quot;Top&quot;</td><td>&hellip;</td><td>&quot;4-Seam Fastball&quot;</td><td>4</td><td>0</td><td>0</td><td>4</td><td>0</td><td>4</td><td>0</td><td>4</td><td>&quot;Standard&quot;</td><td>&quot;Standard&quot;</td><td>218</td><td>-0.008</td><td>null</td><td>null</td><td>null</td><td>null</td><td>null</td><td>null</td><td>4</td><td>-4</td><td>0.951</td><td>0.049</td><td>24</td><td>24</td><td>24</td><td>24</td><td>1</td><td>2</td><td>null</td><td>null</td><td>null</td><td>null</td><td>1.04</td><td>0.67</td><td>0.67</td><td>null</td></tr></tbody></table></div>"
      ],
      "text/plain": [
       "shape: (1, 113)\n",
       "┌───────────┬───────────┬───────────┬───────────┬───┬───────────┬───────────┬───────────┬──────────┐\n",
       "│ pitch_typ ┆ game_date ┆ release_s ┆ release_p ┆ … ┆ api_break ┆ api_break ┆ api_break ┆ arm_angl │\n",
       "│ e         ┆ ---       ┆ peed      ┆ os_x      ┆   ┆ _z_with_g ┆ _x_arm    ┆ _x_batter ┆ e        │\n",
       "│ ---       ┆ date      ┆ ---       ┆ ---       ┆   ┆ ravity    ┆ ---       ┆ _in       ┆ ---      │\n",
       "│ str       ┆           ┆ f64       ┆ f64       ┆   ┆ ---       ┆ f64       ┆ ---       ┆ i64      │\n",
       "│           ┆           ┆           ┆           ┆   ┆ f64       ┆           ┆ f64       ┆          │\n",
       "╞═══════════╪═══════════╪═══════════╪═══════════╪═══╪═══════════╪═══════════╪═══════════╪══════════╡\n",
       "│ FF        ┆ 2025-02-2 ┆ 93.1      ┆ -1.2      ┆ … ┆ 1.04      ┆ 0.67      ┆ 0.67      ┆ null     │\n",
       "│           ┆ 2         ┆           ┆           ┆   ┆           ┆           ┆           ┆          │\n",
       "└───────────┴───────────┴───────────┴───────────┴───┴───────────┴───────────┴───────────┴──────────┘"
      ]
     },
     "execution_count": 22,
     "metadata": {},
     "output_type": "execute_result"
    }
   ],
   "source": [
    "pitch_challenged_pereira"
   ]
  },
  {
   "cell_type": "code",
   "execution_count": 24,
   "metadata": {},
   "outputs": [],
   "source": [
    "# import polars as pl\n",
    "# import matplotlib.pyplot as plt\n",
    "\n",
    "# # Assuming your DataFrame is named 'df' and has columns 'x' and 'y'\n",
    "# plt.scatter(pitch_challenged_pereira[\"plate_x\"], pitch_challenged_pereira[\"plate_z\"])\n",
    "# plt.xlabel(\"horizontal\")\n",
    "# plt.ylabel(\"vertical\")\n",
    "# plt.title(\"Scatter plot of x vs y\")\n",
    "# plt.show()"
   ]
  },
  {
   "cell_type": "code",
   "execution_count": 25,
   "metadata": {},
   "outputs": [
    {
     "data": {
      "text/plain": [
       "(-2.0, 2.0)"
      ]
     },
     "execution_count": 25,
     "metadata": {},
     "output_type": "execute_result"
    }
   ],
   "source": [
    "#https://github.com/instant-replay-academy/MLB-PitchFx-Python/blob/master/GamedaySample.ipynb\n",
    "\n",
    "import matplotlib.pyplot as plt\n",
    "import matplotlib.patches as patches\n",
    "%matplotlib inline\n",
    "\n",
    "\"\"\"matplotlib.pyplot is a collection of command shell style functions that make matplotlib \n",
    "work like MATLAB. Each pyplot function makes some change to a figure: e.g., creates a figure, \n",
    "creates a plotting area in a figure, plots some lines in a plotting area, decorates the plot with labels, etc.\n",
    "Pyplot maintains state across calls.\"\"\"\n",
    "\n",
    "fig1 = plt.figure()\n",
    "ax1 = fig1.add_subplot(111, aspect='equal')\n",
    "\n",
    "platewidthInFeet = 17 / 12 # plate is 17 inches wide\n",
    "expandedPlateInFeet = 20 / 12 # add ball width (half on each side)\n",
    "szHeightInFeet = 3.5 - 1.5\n",
    "ballInFeet = 3 / 12\n",
    "halfBallInFeet = ballInFeet / 2\n",
    "\n",
    "# draw expanded zone: 3 inch ball (.25 ft) = 1.5 inches all the way around\n",
    "# ax1.add_patch(patches.Rectangle((expandedPlateInFeet/-2, 1.5 - halfBallInFeet), expandedPlateInFeet, szHeightInFeet + ballInFeet, color='lightblue'))\n",
    "\n",
    "# draw formal zone (plate only)\n",
    "ax1.add_patch(patches.Rectangle((platewidthInFeet/-2, 1.5), platewidthInFeet, szHeightInFeet))\n",
    "\n",
    "# dray my pitch\n",
    "ax1.scatter(pitch_challenged_pereira[\"plate_x\"], pitch_challenged_pereira[\"plate_z\"], color='red')\n",
    "\n",
    "plt.ylim(0, 5)\n",
    "plt.xlim(-2, 2)\n"
   ]
  },
  {
   "cell_type": "code",
   "execution_count": 26,
   "metadata": {},
   "outputs": [
    {
     "data": {
      "image/png": "[encoded data removed]",
      "text/plain": [
       "<Figure size 640x480 with 1 Axes>"
      ]
     },
     "metadata": {},
     "output_type": "display_data"
    }
   ],
   "source": [
    "plt.show()"
   ]
  },
  {
   "cell_type": "markdown",
   "metadata": {},
   "source": [
    "# Pull in Sheet with ABS data"
   ]
  },
  {
   "cell_type": "code",
   "execution_count": 27,
   "metadata": {},
   "outputs": [],
   "source": [
    "# See above - we've created an API key in a file called 'apikey', \n",
    "# in the same directory as this notebook\n",
    "filename = 'apikey'\n",
    "def get_file_contents(filename):\n",
    "    \"\"\" Given a filename,\n",
    "        return the contents of that file\n",
    "    \"\"\"\n",
    "    try:\n",
    "        with open(filename, 'r') as f:\n",
    "            # It's assumed our file contains a single line,\n",
    "            # with our API key\n",
    "            return f.read().strip()\n",
    "    except FileNotFoundError:\n",
    "        print(\"'%s' file not found\" % filename)\n",
    "api_key = get_file_contents(filename)\n",
    "# print(\"Our API key is: %s\" % (api_key))"
   ]
  },
  {
   "cell_type": "code",
   "execution_count": 28,
   "metadata": {},
   "outputs": [
    {
     "name": "stdout",
     "output_type": "stream",
     "text": [
      "{'majorDimension': 'ROWS',\n",
      " 'range': \"'2025'!A1:Z1000\",\n",
      " 'values': [['abs_index',\n",
      "             'abs_successful',\n",
      "             'abs_type',\n",
      "             'abs_caller',\n",
      "             'game_date',\n",
      "             'batter_first_name',\n",
      "             'batter_last_name',\n",
      "             'pitcher_first_name',\n",
      "             'pitcher_last_name',\n",
      "             'home_team',\n",
      "             'away_team',\n",
      "             'inning',\n",
      "             'outs_when_up',\n",
      "             'balls',\n",
      "             'strikes',\n",
      "             'source',\n",
      "             'Contributor'],\n",
      "            ['0',\n",
      "             'yes',\n",
      "             'Strike To Ball',\n",
      "             'batter',\n",
      "             '2025-02-22',\n",
      "             'Everson',\n",
      "             'Pereira',\n",
      "             'Eric',\n",
      "             'Pardinho',\n",
      "             'TOR',\n",
      "             'NYY',\n",
      "             '6',\n",
      "             '2',\n",
      "             '3',\n",
      "             '2',\n",
      "             'https://www.espn.com/mlb/story/_/id/43973088/new-york-yankees-use-abs-challenge-system-keep-inning-alive',\n",
      "             'Seth Billiau'],\n",
      "            ['1',\n",
      "             'yes',\n",
      "             'Ball To Strike',\n",
      "             'catcher',\n",
      "             '2025-02-21',\n",
      "             'Kyle',\n",
      "             'Farmer',\n",
      "             'Corbin',\n",
      "             'Burnes',\n",
      "             'AZ',\n",
      "             'COL',\n",
      "             '1',\n",
      "             '1',\n",
      "             '1',\n",
      "             '2',\n",
      "             'https://www.sportico.com/leagues/baseball/2025/automated-ball-strike-system-mlb-spring-training-1234829558/',\n",
      "             'Seth Billiau'],\n",
      "            ['2',\n",
      "             'yes',\n",
      "             'Ball To Strike',\n",
      "             'catcher',\n",
      "             '2025-02-20',\n",
      "             'Max',\n",
      "             'Muncy',\n",
      "             'Cody',\n",
      "             'Poteet',\n",
      "             'LAD',\n",
      "             'CHC',\n",
      "             '1',\n",
      "             '0',\n",
      "             '0',\n",
      "             '1',\n",
      "             'https://www.mlb.com/video/cubs-challenge-pitch-get-strike-on-overturned-call',\n",
      "             'Seth Billiau'],\n",
      "            ['3',\n",
      "             'yes',\n",
      "             'Strike To Ball',\n",
      "             'batter',\n",
      "             '2025-02-23',\n",
      "             'Andy',\n",
      "             'Pages',\n",
      "             'Manuel',\n",
      "             'Castro',\n",
      "             'LAD',\n",
      "             'SD',\n",
      "             '3',\n",
      "             '2',\n",
      "             '0',\n",
      "             '2',\n",
      "             'https://x.com/TalkingFriars/status/1893769446382063708?ref_src=twsrc%5Etfw%7Ctwcamp%5Etweetembed%7Ctwterm%5E1893769446382063708%7Ctwgr%5E0ef9a1f113f973384fdd33a769f8a9479c1c7094%7Ctwcon%5Es1_&ref_url=https%3A%2F%2Fwww.si.com%2Fmlb%2Fmlb-abs-challenge-bad-calls',\n",
      "             'Seth Billiau'],\n",
      "            ['4',\n",
      "             'yes',\n",
      "             'Ball To Strike',\n",
      "             'catcher',\n",
      "             '2025-02-25',\n",
      "             'Cole',\n",
      "             'Fontenelle',\n",
      "             'Yuki',\n",
      "             'Matsui',\n",
      "             'SD',\n",
      "             'LAA',\n",
      "             '5',\n",
      "             '0',\n",
      "             '1',\n",
      "             '1',\n",
      "             'https://x.com/TalkingFriars/status/1894497062034837970',\n",
      "             'Seth Billiau'],\n",
      "            ['5',\n",
      "             'yes',\n",
      "             'Ball To Strike',\n",
      "             'catcher',\n",
      "             '2025-02-25',\n",
      "             'Rio',\n",
      "             'Foster',\n",
      "             'Jacob',\n",
      "             'Higginbotham',\n",
      "             'SD',\n",
      "             'LAA',\n",
      "             '8',\n",
      "             '0',\n",
      "             '3',\n",
      "             '2',\n",
      "             'https://x.com/TalkingFriars',\n",
      "             'Seth Billiau'],\n",
      "            ['6',\n",
      "             'no',\n",
      "             'Ball To Strike',\n",
      "             'catcher',\n",
      "             '2025-02-25',\n",
      "             'Carter',\n",
      "             'Kieboom',\n",
      "             'Omar',\n",
      "             'Cruz',\n",
      "             'SD',\n",
      "             'LAA',\n",
      "             '7',\n",
      "             '0',\n",
      "             '2',\n",
      "             '2',\n",
      "             'https://x.com/TalkingFriars/status/1894504520048320638',\n",
      "             'Seth Billiau'],\n",
      "            ['7',\n",
      "             'no',\n",
      "             'Ball To Strike',\n",
      "             'catcher',\n",
      "             '2025-02-23',\n",
      "             'Jazz',\n",
      "             'Chisholm',\n",
      "             'Eric',\n",
      "             'Orze',\n",
      "             'TB',\n",
      "             'NYY',\n",
      "             '3',\n",
      "             '2',\n",
      "             '3',\n",
      "             '2',\n",
      "             'https://x.com/JomboyMedia/status/1894191023468802415',\n",
      "             'Seth Billiau']]}\n"
     ]
    }
   ],
   "source": [
    "# https://medium.com/@techworldthink/accessing-google-sheet-data-with-python-a-practical-guide-using-the-google-sheets-api-dc57759d387a\n",
    "\n",
    "import requests\n",
    "\n",
    "def get_google_sheet_data(spreadsheet_id,sheet_name, api_key):\n",
    "    # Construct the URL for the Google Sheets API\n",
    "    url = f'https://sheets.googleapis.com/v4/spreadsheets/{spreadsheet_id}/values/{sheet_name}!A1:Z?alt=json&key={api_key}'\n",
    "\n",
    "    try:\n",
    "        # Make a GET request to retrieve data from the Google Sheets API\n",
    "        response = requests.get(url)\n",
    "        response.raise_for_status()  # Raise an exception for HTTP errors\n",
    "\n",
    "        # Parse the JSON response\n",
    "        data = response.json()\n",
    "        return data\n",
    "\n",
    "    except requests.exceptions.RequestException as e:\n",
    "        # Handle any errors that occur during the request\n",
    "        print(f\"An error occurred: {e}\")\n",
    "        return None\n",
    "\n",
    "\n",
    "# configurations\n",
    "spreadsheet_id = '11VW8sm80ezLvvxBL-tJeAtRQZsreRzDkr3KcSP17f8A'\n",
    "sheet_name = \"2025\"\n",
    "\n",
    "sheet_data = get_google_sheet_data(spreadsheet_id, sheet_name, api_key)\n",
    "\n",
    "if sheet_data:\n",
    "    pprint.pprint(sheet_data)\n",
    "else:\n",
    "    print(\"Failed to fetch data from Google Sheets API.\")\n",
    "\n",
    "\n",
    "# Grab data from the excel sheet and construct a polars dataframe. \n",
    "sheet_2025 = sheet_data[\"values\"]\n",
    "abs_challenges = pl.DataFrame(sheet_2025[1:len(sheet_2025)], \n",
    "                              schema = {key:str for key in sheet_2025[0]},\n",
    "                              orient=\"row\")\n",
    "# By default, all columns come in as str types, so cast numerical columns as appropriate\n",
    "abs_challenges = abs_challenges.with_columns(\n",
    "    pl.col(\"abs_index\").cast(pl.Int32),\n",
    "    pl.col(\"inning\").cast(pl.Int8),\n",
    "    pl.col(\"balls\").cast(pl.Int8),\n",
    "    pl.col(\"strikes\").cast(pl.Int8),\n",
    "    pl.col(\"outs_when_up\").cast(pl.Int8),\n",
    "    pl.col(\"game_date\").cast(pl.Date)\n",
    ")"
   ]
  },
  {
   "cell_type": "code",
   "execution_count": null,
   "metadata": {},
   "outputs": [],
   "source": []
  },
  {
   "cell_type": "code",
   "execution_count": 29,
   "metadata": {},
   "outputs": [],
   "source": []
  },
  {
   "cell_type": "code",
   "execution_count": 30,
   "metadata": {},
   "outputs": [
    {
     "data": {
      "text/html": [
       "<div><style>\n",
       ".dataframe > thead > tr,\n",
       ".dataframe > tbody > tr {\n",
       "  text-align: right;\n",
       "  white-space: pre-wrap;\n",
       "}\n",
       "</style>\n",
       "<small>shape: (8, 17)</small><table border=\"1\" class=\"dataframe\"><thead><tr><th>abs_index</th><th>abs_successful</th><th>abs_type</th><th>abs_caller</th><th>game_date</th><th>batter_first_name</th><th>batter_last_name</th><th>pitcher_first_name</th><th>pitcher_last_name</th><th>home_team</th><th>away_team</th><th>inning</th><th>outs_when_up</th><th>balls</th><th>strikes</th><th>source</th><th>Contributor</th></tr><tr><td>i32</td><td>str</td><td>str</td><td>str</td><td>date</td><td>str</td><td>str</td><td>str</td><td>str</td><td>str</td><td>str</td><td>i8</td><td>i8</td><td>i8</td><td>i8</td><td>str</td><td>str</td></tr></thead><tbody><tr><td>0</td><td>&quot;yes&quot;</td><td>&quot;Strike To Ball&quot;</td><td>&quot;batter&quot;</td><td>2025-02-22</td><td>&quot;Everson&quot;</td><td>&quot;Pereira&quot;</td><td>&quot;Eric&quot;</td><td>&quot;Pardinho&quot;</td><td>&quot;TOR&quot;</td><td>&quot;NYY&quot;</td><td>6</td><td>2</td><td>3</td><td>2</td><td>&quot;https://www.espn.com/mlb/story…</td><td>&quot;Seth Billiau&quot;</td></tr><tr><td>1</td><td>&quot;yes&quot;</td><td>&quot;Ball To Strike&quot;</td><td>&quot;catcher&quot;</td><td>2025-02-21</td><td>&quot;Kyle&quot;</td><td>&quot;Farmer&quot;</td><td>&quot;Corbin&quot;</td><td>&quot;Burnes&quot;</td><td>&quot;AZ&quot;</td><td>&quot;COL&quot;</td><td>1</td><td>1</td><td>1</td><td>2</td><td>&quot;https://www.sportico.com/leagu…</td><td>&quot;Seth Billiau&quot;</td></tr><tr><td>2</td><td>&quot;yes&quot;</td><td>&quot;Ball To Strike&quot;</td><td>&quot;catcher&quot;</td><td>2025-02-20</td><td>&quot;Max&quot;</td><td>&quot;Muncy&quot;</td><td>&quot;Cody&quot;</td><td>&quot;Poteet&quot;</td><td>&quot;LAD&quot;</td><td>&quot;CHC&quot;</td><td>1</td><td>0</td><td>0</td><td>1</td><td>&quot;https://www.mlb.com/video/cubs…</td><td>&quot;Seth Billiau&quot;</td></tr><tr><td>3</td><td>&quot;yes&quot;</td><td>&quot;Strike To Ball&quot;</td><td>&quot;batter&quot;</td><td>2025-02-23</td><td>&quot;Andy&quot;</td><td>&quot;Pages&quot;</td><td>&quot;Manuel&quot;</td><td>&quot;Castro&quot;</td><td>&quot;LAD&quot;</td><td>&quot;SD&quot;</td><td>3</td><td>2</td><td>0</td><td>2</td><td>&quot;https://x.com/TalkingFriars/st…</td><td>&quot;Seth Billiau&quot;</td></tr><tr><td>4</td><td>&quot;yes&quot;</td><td>&quot;Ball To Strike&quot;</td><td>&quot;catcher&quot;</td><td>2025-02-25</td><td>&quot;Cole&quot;</td><td>&quot;Fontenelle&quot;</td><td>&quot;Yuki&quot;</td><td>&quot;Matsui&quot;</td><td>&quot;SD&quot;</td><td>&quot;LAA&quot;</td><td>5</td><td>0</td><td>1</td><td>1</td><td>&quot;https://x.com/TalkingFriars/st…</td><td>&quot;Seth Billiau&quot;</td></tr><tr><td>5</td><td>&quot;yes&quot;</td><td>&quot;Ball To Strike&quot;</td><td>&quot;catcher&quot;</td><td>2025-02-25</td><td>&quot;Rio&quot;</td><td>&quot;Foster&quot;</td><td>&quot;Jacob&quot;</td><td>&quot;Higginbotham&quot;</td><td>&quot;SD&quot;</td><td>&quot;LAA&quot;</td><td>8</td><td>0</td><td>3</td><td>2</td><td>&quot;https://x.com/TalkingFriars&quot;</td><td>&quot;Seth Billiau&quot;</td></tr><tr><td>6</td><td>&quot;no&quot;</td><td>&quot;Ball To Strike&quot;</td><td>&quot;catcher&quot;</td><td>2025-02-25</td><td>&quot;Carter&quot;</td><td>&quot;Kieboom&quot;</td><td>&quot;Omar&quot;</td><td>&quot;Cruz&quot;</td><td>&quot;SD&quot;</td><td>&quot;LAA&quot;</td><td>7</td><td>0</td><td>2</td><td>2</td><td>&quot;https://x.com/TalkingFriars/st…</td><td>&quot;Seth Billiau&quot;</td></tr><tr><td>7</td><td>&quot;no&quot;</td><td>&quot;Ball To Strike&quot;</td><td>&quot;catcher&quot;</td><td>2025-02-23</td><td>&quot;Jazz&quot;</td><td>&quot;Chisholm&quot;</td><td>&quot;Eric&quot;</td><td>&quot;Orze&quot;</td><td>&quot;TB&quot;</td><td>&quot;NYY&quot;</td><td>3</td><td>2</td><td>3</td><td>2</td><td>&quot;https://x.com/JomboyMedia/stat…</td><td>&quot;Seth Billiau&quot;</td></tr></tbody></table></div>"
      ],
      "text/plain": [
       "shape: (8, 17)\n",
       "┌───────────┬────────────┬────────────┬────────────┬───┬───────┬─────────┬────────────┬────────────┐\n",
       "│ abs_index ┆ abs_succes ┆ abs_type   ┆ abs_caller ┆ … ┆ balls ┆ strikes ┆ source     ┆ Contributo │\n",
       "│ ---       ┆ sful       ┆ ---        ┆ ---        ┆   ┆ ---   ┆ ---     ┆ ---        ┆ r          │\n",
       "│ i32       ┆ ---        ┆ str        ┆ str        ┆   ┆ i8    ┆ i8      ┆ str        ┆ ---        │\n",
       "│           ┆ str        ┆            ┆            ┆   ┆       ┆         ┆            ┆ str        │\n",
       "╞═══════════╪════════════╪════════════╪════════════╪═══╪═══════╪═════════╪════════════╪════════════╡\n",
       "│ 0         ┆ yes        ┆ Strike To  ┆ batter     ┆ … ┆ 3     ┆ 2       ┆ https://ww ┆ Seth       │\n",
       "│           ┆            ┆ Ball       ┆            ┆   ┆       ┆         ┆ w.espn.com ┆ Billiau    │\n",
       "│           ┆            ┆            ┆            ┆   ┆       ┆         ┆ /mlb/story ┆            │\n",
       "│           ┆            ┆            ┆            ┆   ┆       ┆         ┆ …          ┆            │\n",
       "│ 1         ┆ yes        ┆ Ball To    ┆ catcher    ┆ … ┆ 1     ┆ 2       ┆ https://ww ┆ Seth       │\n",
       "│           ┆            ┆ Strike     ┆            ┆   ┆       ┆         ┆ w.sportico ┆ Billiau    │\n",
       "│           ┆            ┆            ┆            ┆   ┆       ┆         ┆ .com/leagu ┆            │\n",
       "│           ┆            ┆            ┆            ┆   ┆       ┆         ┆ …          ┆            │\n",
       "│ 2         ┆ yes        ┆ Ball To    ┆ catcher    ┆ … ┆ 0     ┆ 1       ┆ https://ww ┆ Seth       │\n",
       "│           ┆            ┆ Strike     ┆            ┆   ┆       ┆         ┆ w.mlb.com/ ┆ Billiau    │\n",
       "│           ┆            ┆            ┆            ┆   ┆       ┆         ┆ video/cubs ┆            │\n",
       "│           ┆            ┆            ┆            ┆   ┆       ┆         ┆ …          ┆            │\n",
       "│ 3         ┆ yes        ┆ Strike To  ┆ batter     ┆ … ┆ 0     ┆ 2       ┆ https://x. ┆ Seth       │\n",
       "│           ┆            ┆ Ball       ┆            ┆   ┆       ┆         ┆ com/Talkin ┆ Billiau    │\n",
       "│           ┆            ┆            ┆            ┆   ┆       ┆         ┆ gFriars/st ┆            │\n",
       "│           ┆            ┆            ┆            ┆   ┆       ┆         ┆ …          ┆            │\n",
       "│ 4         ┆ yes        ┆ Ball To    ┆ catcher    ┆ … ┆ 1     ┆ 1       ┆ https://x. ┆ Seth       │\n",
       "│           ┆            ┆ Strike     ┆            ┆   ┆       ┆         ┆ com/Talkin ┆ Billiau    │\n",
       "│           ┆            ┆            ┆            ┆   ┆       ┆         ┆ gFriars/st ┆            │\n",
       "│           ┆            ┆            ┆            ┆   ┆       ┆         ┆ …          ┆            │\n",
       "│ 5         ┆ yes        ┆ Ball To    ┆ catcher    ┆ … ┆ 3     ┆ 2       ┆ https://x. ┆ Seth       │\n",
       "│           ┆            ┆ Strike     ┆            ┆   ┆       ┆         ┆ com/Talkin ┆ Billiau    │\n",
       "│           ┆            ┆            ┆            ┆   ┆       ┆         ┆ gFriars    ┆            │\n",
       "│ 6         ┆ no         ┆ Ball To    ┆ catcher    ┆ … ┆ 2     ┆ 2       ┆ https://x. ┆ Seth       │\n",
       "│           ┆            ┆ Strike     ┆            ┆   ┆       ┆         ┆ com/Talkin ┆ Billiau    │\n",
       "│           ┆            ┆            ┆            ┆   ┆       ┆         ┆ gFriars/st ┆            │\n",
       "│           ┆            ┆            ┆            ┆   ┆       ┆         ┆ …          ┆            │\n",
       "│ 7         ┆ no         ┆ Ball To    ┆ catcher    ┆ … ┆ 3     ┆ 2       ┆ https://x. ┆ Seth       │\n",
       "│           ┆            ┆ Strike     ┆            ┆   ┆       ┆         ┆ com/Jomboy ┆ Billiau    │\n",
       "│           ┆            ┆            ┆            ┆   ┆       ┆         ┆ Media/stat ┆            │\n",
       "│           ┆            ┆            ┆            ┆   ┆       ┆         ┆ …          ┆            │\n",
       "└───────────┴────────────┴────────────┴────────────┴───┴───────┴─────────┴────────────┴────────────┘"
      ]
     },
     "execution_count": 30,
     "metadata": {},
     "output_type": "execute_result"
    }
   ],
   "source": [
    "abs_challenges"
   ]
  },
  {
   "cell_type": "code",
   "execution_count": null,
   "metadata": {},
   "outputs": [],
   "source": []
  }
 ],
 "metadata": {
  "kernelspec": {
   "display_name": "Python 3 (ipykernel)",
   "language": "python",
   "name": "python3"
  },
  "language_info": {
   "codemirror_mode": {
    "name": "ipython",
    "version": 3
   },
   "file_extension": ".py",
   "mimetype": "text/x-python",
   "name": "python",
   "nbconvert_exporter": "python",
   "pygments_lexer": "ipython3",
   "version": "3.12.2"
  }
 },
 "nbformat": 4,
 "nbformat_minor": 4
}
