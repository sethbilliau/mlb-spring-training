{
 "cells": [
  {
   "cell_type": "code",
   "execution_count": null,
   "metadata": {},
   "outputs": [],
   "source": []
  },
  {
   "cell_type": "code",
   "execution_count": 65,
   "metadata": {},
   "outputs": [],
   "source": [
    "from savant_data_downloader.savant_data_downloader import get_new_data\n",
    "import polars as pl\n",
    "from datetime import datetime\n",
    "import pybaseball as pb"
   ]
  },
  {
   "cell_type": "code",
   "execution_count": 17,
   "metadata": {},
   "outputs": [
    {
     "name": "stderr",
     "output_type": "stream",
     "text": [
      "Fetching Statcast Data: 100%|███████████████████| 24/24 [00:00<00:00, 30.89it/s]\n"
     ]
    }
   ],
   "source": [
    "start_date = '2025-02-01'\n",
    "end_date = '2025-02-24'\n",
    "\n",
    "# Pull all spring training pitches\n",
    "data = get_new_data(start_date, end_date)"
   ]
  },
  {
   "cell_type": "code",
   "execution_count": 19,
   "metadata": {},
   "outputs": [
    {
     "data": {
      "text/plain": [
       "(10559, 113)"
      ]
     },
     "execution_count": 19,
     "metadata": {},
     "output_type": "execute_result"
    }
   ],
   "source": [
    "data.shape"
   ]
  },
  {
   "cell_type": "code",
   "execution_count": 60,
   "metadata": {},
   "outputs": [
    {
     "data": {
      "text/html": [
       "<div><style>\n",
       ".dataframe > thead > tr,\n",
       ".dataframe > tbody > tr {\n",
       "  text-align: right;\n",
       "  white-space: pre-wrap;\n",
       "}\n",
       "</style>\n",
       "<small>shape: (5, 113)</small><table border=\"1\" class=\"dataframe\"><thead><tr><th>pitch_type</th><th>game_date</th><th>release_speed</th><th>release_pos_x</th><th>release_pos_z</th><th>player_name</th><th>batter</th><th>pitcher</th><th>events</th><th>description</th><th>spin_dir</th><th>spin_rate_deprecated</th><th>break_angle_deprecated</th><th>break_length_deprecated</th><th>zone</th><th>des</th><th>game_type</th><th>stand</th><th>p_throws</th><th>home_team</th><th>away_team</th><th>type</th><th>hit_location</th><th>bb_type</th><th>balls</th><th>strikes</th><th>game_year</th><th>pfx_x</th><th>pfx_z</th><th>plate_x</th><th>plate_z</th><th>on_3b</th><th>on_2b</th><th>on_1b</th><th>outs_when_up</th><th>inning</th><th>inning_topbot</th><th>&hellip;</th><th>pitch_name</th><th>home_score</th><th>away_score</th><th>bat_score</th><th>fld_score</th><th>post_away_score</th><th>post_home_score</th><th>post_bat_score</th><th>post_fld_score</th><th>if_fielding_alignment</th><th>of_fielding_alignment</th><th>spin_axis</th><th>delta_home_win_exp</th><th>delta_run_exp</th><th>bat_speed</th><th>swing_length</th><th>estimated_slg_using_speedangle</th><th>delta_pitcher_run_exp</th><th>hyper_speed</th><th>home_score_diff</th><th>bat_score_diff</th><th>home_win_exp</th><th>bat_win_exp</th><th>age_pit_legacy</th><th>age_bat_legacy</th><th>age_pit</th><th>age_bat</th><th>n_thruorder_pitcher</th><th>n_priorpa_thisgame_player_at_bat</th><th>pitcher_days_since_prev_game</th><th>batter_days_since_prev_game</th><th>pitcher_days_until_next_game</th><th>batter_days_until_next_game</th><th>api_break_z_with_gravity</th><th>api_break_x_arm</th><th>api_break_x_batter_in</th><th>arm_angle</th></tr><tr><td>str</td><td>date</td><td>f64</td><td>f64</td><td>f64</td><td>str</td><td>i64</td><td>i64</td><td>str</td><td>str</td><td>i64</td><td>i64</td><td>i64</td><td>i64</td><td>i64</td><td>str</td><td>str</td><td>str</td><td>str</td><td>str</td><td>str</td><td>str</td><td>i64</td><td>str</td><td>i64</td><td>i64</td><td>i64</td><td>f64</td><td>f64</td><td>f64</td><td>f64</td><td>i64</td><td>i64</td><td>i64</td><td>i64</td><td>i64</td><td>str</td><td>&hellip;</td><td>str</td><td>i64</td><td>i64</td><td>i64</td><td>i64</td><td>i64</td><td>i64</td><td>i64</td><td>i64</td><td>str</td><td>str</td><td>i64</td><td>f64</td><td>i64</td><td>f64</td><td>f64</td><td>f64</td><td>i64</td><td>f64</td><td>i64</td><td>i64</td><td>f64</td><td>f64</td><td>i64</td><td>i64</td><td>i64</td><td>i64</td><td>i64</td><td>i64</td><td>i64</td><td>i64</td><td>i64</td><td>i64</td><td>f64</td><td>f64</td><td>f64</td><td>i64</td></tr></thead><tbody><tr><td>&quot;CH&quot;</td><td>2025-02-20</td><td>87.6</td><td>-1.79</td><td>6.03</td><td>&quot;Poteet, Cody&quot;</td><td>687221</td><td>547001</td><td>&quot;walk&quot;</td><td>&quot;ball&quot;</td><td>null</td><td>null</td><td>null</td><td>null</td><td>11</td><td>&quot;Dalton Rushing walks.&quot;</td><td>&quot;S&quot;</td><td>&quot;L&quot;</td><td>&quot;R&quot;</td><td>&quot;LAD&quot;</td><td>&quot;CHC&quot;</td><td>&quot;B&quot;</td><td>null</td><td>null</td><td>3</td><td>2</td><td>2025</td><td>-1.05</td><td>0.24</td><td>-2.39</td><td>4.3</td><td>676439</td><td>null</td><td>null</td><td>1</td><td>2</td><td>&quot;Bot&quot;</td><td>&hellip;</td><td>&quot;Changeup&quot;</td><td>3</td><td>0</td><td>3</td><td>0</td><td>0</td><td>3</td><td>3</td><td>0</td><td>&quot;Strategic&quot;</td><td>&quot;Standard&quot;</td><td>238</td><td>0.005</td><td>null</td><td>null</td><td>null</td><td>null</td><td>null</td><td>null</td><td>3</td><td>3</td><td>0.858</td><td>0.858</td><td>30</td><td>24</td><td>31</td><td>24</td><td>1</td><td>0</td><td>null</td><td>null</td><td>null</td><td>null</td><td>2.71</td><td>1.05</td><td>-1.05</td><td>null</td></tr><tr><td>&quot;CH&quot;</td><td>2025-02-20</td><td>88.4</td><td>-1.67</td><td>6.05</td><td>&quot;Poteet, Cody&quot;</td><td>687221</td><td>547001</td><td>null</td><td>&quot;ball&quot;</td><td>null</td><td>null</td><td>null</td><td>null</td><td>11</td><td>&quot;Dalton Rushing walks.&quot;</td><td>&quot;S&quot;</td><td>&quot;L&quot;</td><td>&quot;R&quot;</td><td>&quot;LAD&quot;</td><td>&quot;CHC&quot;</td><td>&quot;B&quot;</td><td>null</td><td>null</td><td>2</td><td>2</td><td>2025</td><td>-1.22</td><td>0.28</td><td>-2.76</td><td>3.53</td><td>676439</td><td>null</td><td>null</td><td>1</td><td>2</td><td>&quot;Bot&quot;</td><td>&hellip;</td><td>&quot;Changeup&quot;</td><td>3</td><td>0</td><td>3</td><td>0</td><td>0</td><td>3</td><td>3</td><td>0</td><td>&quot;Strategic&quot;</td><td>&quot;Standard&quot;</td><td>235</td><td>0.0</td><td>null</td><td>null</td><td>null</td><td>null</td><td>null</td><td>null</td><td>3</td><td>3</td><td>0.858</td><td>0.858</td><td>30</td><td>24</td><td>31</td><td>24</td><td>1</td><td>0</td><td>null</td><td>null</td><td>null</td><td>null</td><td>2.64</td><td>1.22</td><td>-1.22</td><td>null</td></tr><tr><td>&quot;FF&quot;</td><td>2025-02-20</td><td>94.8</td><td>-1.22</td><td>6.28</td><td>&quot;Poteet, Cody&quot;</td><td>687221</td><td>547001</td><td>null</td><td>&quot;ball&quot;</td><td>null</td><td>null</td><td>null</td><td>null</td><td>11</td><td>&quot;Dalton Rushing walks.&quot;</td><td>&quot;S&quot;</td><td>&quot;L&quot;</td><td>&quot;R&quot;</td><td>&quot;LAD&quot;</td><td>&quot;CHC&quot;</td><td>&quot;B&quot;</td><td>null</td><td>null</td><td>1</td><td>2</td><td>2025</td><td>-0.66</td><td>1.35</td><td>-0.13</td><td>4.67</td><td>676439</td><td>null</td><td>null</td><td>1</td><td>2</td><td>&quot;Bot&quot;</td><td>&hellip;</td><td>&quot;4-Seam Fastball&quot;</td><td>3</td><td>0</td><td>3</td><td>0</td><td>0</td><td>3</td><td>3</td><td>0</td><td>&quot;Strategic&quot;</td><td>&quot;Standard&quot;</td><td>218</td><td>0.0</td><td>null</td><td>null</td><td>null</td><td>null</td><td>null</td><td>null</td><td>3</td><td>3</td><td>0.858</td><td>0.858</td><td>30</td><td>24</td><td>31</td><td>24</td><td>1</td><td>0</td><td>null</td><td>null</td><td>null</td><td>null</td><td>1.2</td><td>0.66</td><td>-0.66</td><td>null</td></tr><tr><td>&quot;CH&quot;</td><td>2025-02-20</td><td>90.1</td><td>-1.6</td><td>6.03</td><td>&quot;Poteet, Cody&quot;</td><td>687221</td><td>547001</td><td>null</td><td>&quot;ball&quot;</td><td>null</td><td>null</td><td>null</td><td>null</td><td>14</td><td>&quot;Dalton Rushing walks.&quot;</td><td>&quot;S&quot;</td><td>&quot;L&quot;</td><td>&quot;R&quot;</td><td>&quot;LAD&quot;</td><td>&quot;CHC&quot;</td><td>&quot;B&quot;</td><td>null</td><td>null</td><td>0</td><td>2</td><td>2025</td><td>-1.06</td><td>0.35</td><td>1.1</td><td>0.09</td><td>623520</td><td>676439</td><td>null</td><td>1</td><td>2</td><td>&quot;Bot&quot;</td><td>&hellip;</td><td>&quot;Changeup&quot;</td><td>2</td><td>0</td><td>2</td><td>0</td><td>0</td><td>3</td><td>3</td><td>0</td><td>&quot;Strategic&quot;</td><td>&quot;Standard&quot;</td><td>245</td><td>0.044</td><td>null</td><td>null</td><td>null</td><td>null</td><td>null</td><td>null</td><td>2</td><td>2</td><td>0.814</td><td>0.814</td><td>30</td><td>24</td><td>31</td><td>24</td><td>1</td><td>0</td><td>null</td><td>null</td><td>null</td><td>null</td><td>2.47</td><td>1.06</td><td>-1.06</td><td>null</td></tr><tr><td>&quot;CH&quot;</td><td>2025-02-20</td><td>89.0</td><td>-1.75</td><td>6.0</td><td>&quot;Poteet, Cody&quot;</td><td>687221</td><td>547001</td><td>null</td><td>&quot;swinging_strike&quot;</td><td>null</td><td>null</td><td>null</td><td>null</td><td>7</td><td>&quot;Dalton Rushing walks.&quot;</td><td>&quot;S&quot;</td><td>&quot;L&quot;</td><td>&quot;R&quot;</td><td>&quot;LAD&quot;</td><td>&quot;CHC&quot;</td><td>&quot;S&quot;</td><td>null</td><td>null</td><td>0</td><td>1</td><td>2025</td><td>-1.26</td><td>0.13</td><td>-0.52</td><td>1.55</td><td>623520</td><td>676439</td><td>null</td><td>1</td><td>2</td><td>&quot;Bot&quot;</td><td>&hellip;</td><td>&quot;Changeup&quot;</td><td>2</td><td>0</td><td>2</td><td>0</td><td>0</td><td>2</td><td>2</td><td>0</td><td>&quot;Strategic&quot;</td><td>&quot;Standard&quot;</td><td>244</td><td>0.0</td><td>null</td><td>null</td><td>null</td><td>null</td><td>null</td><td>null</td><td>2</td><td>2</td><td>0.814</td><td>0.814</td><td>30</td><td>24</td><td>31</td><td>24</td><td>1</td><td>0</td><td>null</td><td>null</td><td>null</td><td>null</td><td>2.76</td><td>1.26</td><td>-1.26</td><td>null</td></tr></tbody></table></div>"
      ],
      "text/plain": [
       "shape: (5, 113)\n",
       "┌───────────┬───────────┬───────────┬───────────┬───┬───────────┬───────────┬───────────┬──────────┐\n",
       "│ pitch_typ ┆ game_date ┆ release_s ┆ release_p ┆ … ┆ api_break ┆ api_break ┆ api_break ┆ arm_angl │\n",
       "│ e         ┆ ---       ┆ peed      ┆ os_x      ┆   ┆ _z_with_g ┆ _x_arm    ┆ _x_batter ┆ e        │\n",
       "│ ---       ┆ date      ┆ ---       ┆ ---       ┆   ┆ ravity    ┆ ---       ┆ _in       ┆ ---      │\n",
       "│ str       ┆           ┆ f64       ┆ f64       ┆   ┆ ---       ┆ f64       ┆ ---       ┆ i64      │\n",
       "│           ┆           ┆           ┆           ┆   ┆ f64       ┆           ┆ f64       ┆          │\n",
       "╞═══════════╪═══════════╪═══════════╪═══════════╪═══╪═══════════╪═══════════╪═══════════╪══════════╡\n",
       "│ CH        ┆ 2025-02-2 ┆ 87.6      ┆ -1.79     ┆ … ┆ 2.71      ┆ 1.05      ┆ -1.05     ┆ null     │\n",
       "│           ┆ 0         ┆           ┆           ┆   ┆           ┆           ┆           ┆          │\n",
       "│ CH        ┆ 2025-02-2 ┆ 88.4      ┆ -1.67     ┆ … ┆ 2.64      ┆ 1.22      ┆ -1.22     ┆ null     │\n",
       "│           ┆ 0         ┆           ┆           ┆   ┆           ┆           ┆           ┆          │\n",
       "│ FF        ┆ 2025-02-2 ┆ 94.8      ┆ -1.22     ┆ … ┆ 1.2       ┆ 0.66      ┆ -0.66     ┆ null     │\n",
       "│           ┆ 0         ┆           ┆           ┆   ┆           ┆           ┆           ┆          │\n",
       "│ CH        ┆ 2025-02-2 ┆ 90.1      ┆ -1.6      ┆ … ┆ 2.47      ┆ 1.06      ┆ -1.06     ┆ null     │\n",
       "│           ┆ 0         ┆           ┆           ┆   ┆           ┆           ┆           ┆          │\n",
       "│ CH        ┆ 2025-02-2 ┆ 89.0      ┆ -1.75     ┆ … ┆ 2.76      ┆ 1.26      ┆ -1.26     ┆ null     │\n",
       "│           ┆ 0         ┆           ┆           ┆   ┆           ┆           ┆           ┆          │\n",
       "└───────────┴───────────┴───────────┴───────────┴───┴───────────┴───────────┴───────────┴──────────┘"
      ]
     },
     "execution_count": 60,
     "metadata": {},
     "output_type": "execute_result"
    }
   ],
   "source": [
    "data.head()"
   ]
  },
  {
   "cell_type": "code",
   "execution_count": 61,
   "metadata": {},
   "outputs": [
    {
     "data": {
      "text/plain": [
       "['pitch_type',\n",
       " 'game_date',\n",
       " 'release_speed',\n",
       " 'release_pos_x',\n",
       " 'release_pos_z',\n",
       " 'player_name',\n",
       " 'batter',\n",
       " 'pitcher',\n",
       " 'events',\n",
       " 'description',\n",
       " 'spin_dir',\n",
       " 'spin_rate_deprecated',\n",
       " 'break_angle_deprecated',\n",
       " 'break_length_deprecated',\n",
       " 'zone',\n",
       " 'des',\n",
       " 'game_type',\n",
       " 'stand',\n",
       " 'p_throws',\n",
       " 'home_team',\n",
       " 'away_team',\n",
       " 'type',\n",
       " 'hit_location',\n",
       " 'bb_type',\n",
       " 'balls',\n",
       " 'strikes',\n",
       " 'game_year',\n",
       " 'pfx_x',\n",
       " 'pfx_z',\n",
       " 'plate_x',\n",
       " 'plate_z',\n",
       " 'on_3b',\n",
       " 'on_2b',\n",
       " 'on_1b',\n",
       " 'outs_when_up',\n",
       " 'inning',\n",
       " 'inning_topbot',\n",
       " 'hc_x',\n",
       " 'hc_y',\n",
       " 'tfs_deprecated',\n",
       " 'tfs_zulu_deprecated',\n",
       " 'umpire',\n",
       " 'sv_id',\n",
       " 'vx0',\n",
       " 'vy0',\n",
       " 'vz0',\n",
       " 'ax',\n",
       " 'ay',\n",
       " 'az',\n",
       " 'sz_top',\n",
       " 'sz_bot',\n",
       " 'hit_distance_sc',\n",
       " 'launch_speed',\n",
       " 'launch_angle',\n",
       " 'effective_speed',\n",
       " 'release_spin_rate',\n",
       " 'release_extension',\n",
       " 'game_pk',\n",
       " 'fielder_2',\n",
       " 'fielder_3',\n",
       " 'fielder_4',\n",
       " 'fielder_5',\n",
       " 'fielder_6',\n",
       " 'fielder_7',\n",
       " 'fielder_8',\n",
       " 'fielder_9',\n",
       " 'release_pos_y',\n",
       " 'estimated_ba_using_speedangle',\n",
       " 'estimated_woba_using_speedangle',\n",
       " 'woba_value',\n",
       " 'woba_denom',\n",
       " 'babip_value',\n",
       " 'iso_value',\n",
       " 'launch_speed_angle',\n",
       " 'at_bat_number',\n",
       " 'pitch_number',\n",
       " 'pitch_name',\n",
       " 'home_score',\n",
       " 'away_score',\n",
       " 'bat_score',\n",
       " 'fld_score',\n",
       " 'post_away_score',\n",
       " 'post_home_score',\n",
       " 'post_bat_score',\n",
       " 'post_fld_score',\n",
       " 'if_fielding_alignment',\n",
       " 'of_fielding_alignment',\n",
       " 'spin_axis',\n",
       " 'delta_home_win_exp',\n",
       " 'delta_run_exp',\n",
       " 'bat_speed',\n",
       " 'swing_length',\n",
       " 'estimated_slg_using_speedangle',\n",
       " 'delta_pitcher_run_exp',\n",
       " 'hyper_speed',\n",
       " 'home_score_diff',\n",
       " 'bat_score_diff',\n",
       " 'home_win_exp',\n",
       " 'bat_win_exp',\n",
       " 'age_pit_legacy',\n",
       " 'age_bat_legacy',\n",
       " 'age_pit',\n",
       " 'age_bat',\n",
       " 'n_thruorder_pitcher',\n",
       " 'n_priorpa_thisgame_player_at_bat',\n",
       " 'pitcher_days_since_prev_game',\n",
       " 'batter_days_since_prev_game',\n",
       " 'pitcher_days_until_next_game',\n",
       " 'batter_days_until_next_game',\n",
       " 'api_break_z_with_gravity',\n",
       " 'api_break_x_arm',\n",
       " 'api_break_x_batter_in',\n",
       " 'arm_angle']"
      ]
     },
     "execution_count": 61,
     "metadata": {},
     "output_type": "execute_result"
    }
   ],
   "source": [
    "data.columns"
   ]
  },
  {
   "cell_type": "markdown",
   "metadata": {},
   "source": [
    "# Which Teams have the ABS review?\n",
    "ESPN Says it's these home teams: [link](https://www.espn.com/mlb/story/_/id/43911443/spring-training-games-feature-automated-ball-strike-challenge-system)\n"
   ]
  },
  {
   "cell_type": "code",
   "execution_count": 62,
   "metadata": {},
   "outputs": [],
   "source": [
    "AZ_home_teams = ['SEA', 'SD', 'CWS', 'LAD', 'KC', 'TEX', 'CIN', 'CLE', 'COL', 'AZ']\n",
    "FL_home_teams = ['TOR', 'DET', 'NYY', 'PIT', 'PHI', 'NYM', 'STL', 'MIA']\n",
    "ABS_home_teams = AZ_home_teams + FL_home_teams"
   ]
  },
  {
   "cell_type": "markdown",
   "metadata": {},
   "source": [
    "Filter Data to only games where relevant home teams exist"
   ]
  },
  {
   "cell_type": "code",
   "execution_count": 63,
   "metadata": {},
   "outputs": [],
   "source": [
    "abs_relevant_pitches = data.filter(\n",
    "    pl.col('home_team').is_in(ABS_home_teams)\n",
    ")"
   ]
  },
  {
   "cell_type": "code",
   "execution_count": 64,
   "metadata": {},
   "outputs": [
    {
     "data": {
      "text/plain": [
       "(7284, 113)"
      ]
     },
     "execution_count": 64,
     "metadata": {},
     "output_type": "execute_result"
    }
   ],
   "source": [
    "abs_relevant_pitches.shape"
   ]
  },
  {
   "cell_type": "markdown",
   "metadata": {},
   "source": [
    "Okay, that filtered out some pitches, but not a ton. Let's start by seeing if there's anything in these data that can help me determine if the pitch was challenged. "
   ]
  },
  {
   "cell_type": "code",
   "execution_count": 36,
   "metadata": {},
   "outputs": [
    {
     "name": "stdout",
     "output_type": "stream",
     "text": [
      "swinging_strike_blocked\n",
      "foul_tip\n",
      "missed_bunt\n",
      "swinging_strike\n",
      "blocked_ball\n",
      "ball\n",
      "hit_by_pitch\n",
      "foul\n",
      "called_strike\n",
      "hit_into_play\n",
      "foul_bunt\n"
     ]
    }
   ],
   "source": [
    "all_outcomes = abs_relevant_pitches.select('description').to_series().unique()\n",
    "for a in all_outcomes:\n",
    "    print(a)"
   ]
  },
  {
   "cell_type": "markdown",
   "metadata": {},
   "source": [
    "Sadly, there's no 'challenged' label here, but I can do some more filtering here. You can only challenge called strikes or balls. "
   ]
  },
  {
   "cell_type": "code",
   "execution_count": 39,
   "metadata": {},
   "outputs": [],
   "source": [
    "abs_relevant_pitches = abs_relevant_pitches.filter(\n",
    "    pl.col('description').is_in(['ball', 'called_strike'])\n",
    ")"
   ]
  },
  {
   "cell_type": "code",
   "execution_count": 42,
   "metadata": {},
   "outputs": [
    {
     "data": {
      "text/html": [
       "<div><style>\n",
       ".dataframe > thead > tr,\n",
       ".dataframe > tbody > tr {\n",
       "  text-align: right;\n",
       "  white-space: pre-wrap;\n",
       "}\n",
       "</style>\n",
       "<small>shape: (5, 113)</small><table border=\"1\" class=\"dataframe\"><thead><tr><th>pitch_type</th><th>game_date</th><th>release_speed</th><th>release_pos_x</th><th>release_pos_z</th><th>player_name</th><th>batter</th><th>pitcher</th><th>events</th><th>description</th><th>spin_dir</th><th>spin_rate_deprecated</th><th>break_angle_deprecated</th><th>break_length_deprecated</th><th>zone</th><th>des</th><th>game_type</th><th>stand</th><th>p_throws</th><th>home_team</th><th>away_team</th><th>type</th><th>hit_location</th><th>bb_type</th><th>balls</th><th>strikes</th><th>game_year</th><th>pfx_x</th><th>pfx_z</th><th>plate_x</th><th>plate_z</th><th>on_3b</th><th>on_2b</th><th>on_1b</th><th>outs_when_up</th><th>inning</th><th>inning_topbot</th><th>&hellip;</th><th>pitch_name</th><th>home_score</th><th>away_score</th><th>bat_score</th><th>fld_score</th><th>post_away_score</th><th>post_home_score</th><th>post_bat_score</th><th>post_fld_score</th><th>if_fielding_alignment</th><th>of_fielding_alignment</th><th>spin_axis</th><th>delta_home_win_exp</th><th>delta_run_exp</th><th>bat_speed</th><th>swing_length</th><th>estimated_slg_using_speedangle</th><th>delta_pitcher_run_exp</th><th>hyper_speed</th><th>home_score_diff</th><th>bat_score_diff</th><th>home_win_exp</th><th>bat_win_exp</th><th>age_pit_legacy</th><th>age_bat_legacy</th><th>age_pit</th><th>age_bat</th><th>n_thruorder_pitcher</th><th>n_priorpa_thisgame_player_at_bat</th><th>pitcher_days_since_prev_game</th><th>batter_days_since_prev_game</th><th>pitcher_days_until_next_game</th><th>batter_days_until_next_game</th><th>api_break_z_with_gravity</th><th>api_break_x_arm</th><th>api_break_x_batter_in</th><th>arm_angle</th></tr><tr><td>str</td><td>date</td><td>f64</td><td>f64</td><td>f64</td><td>str</td><td>i64</td><td>i64</td><td>str</td><td>str</td><td>i64</td><td>i64</td><td>i64</td><td>i64</td><td>i64</td><td>str</td><td>str</td><td>str</td><td>str</td><td>str</td><td>str</td><td>str</td><td>i64</td><td>str</td><td>i64</td><td>i64</td><td>i64</td><td>f64</td><td>f64</td><td>f64</td><td>f64</td><td>i64</td><td>i64</td><td>i64</td><td>i64</td><td>i64</td><td>str</td><td>&hellip;</td><td>str</td><td>i64</td><td>i64</td><td>i64</td><td>i64</td><td>i64</td><td>i64</td><td>i64</td><td>i64</td><td>str</td><td>str</td><td>i64</td><td>f64</td><td>i64</td><td>f64</td><td>f64</td><td>f64</td><td>i64</td><td>f64</td><td>i64</td><td>i64</td><td>f64</td><td>f64</td><td>i64</td><td>i64</td><td>i64</td><td>i64</td><td>i64</td><td>i64</td><td>i64</td><td>i64</td><td>i64</td><td>i64</td><td>f64</td><td>f64</td><td>f64</td><td>i64</td></tr></thead><tbody><tr><td>&quot;CH&quot;</td><td>2025-02-20</td><td>87.6</td><td>-1.79</td><td>6.03</td><td>&quot;Poteet, Cody&quot;</td><td>687221</td><td>547001</td><td>&quot;walk&quot;</td><td>&quot;ball&quot;</td><td>null</td><td>null</td><td>null</td><td>null</td><td>11</td><td>&quot;Dalton Rushing walks.&quot;</td><td>&quot;S&quot;</td><td>&quot;L&quot;</td><td>&quot;R&quot;</td><td>&quot;LAD&quot;</td><td>&quot;CHC&quot;</td><td>&quot;B&quot;</td><td>null</td><td>null</td><td>3</td><td>2</td><td>2025</td><td>-1.05</td><td>0.24</td><td>-2.39</td><td>4.3</td><td>676439</td><td>null</td><td>null</td><td>1</td><td>2</td><td>&quot;Bot&quot;</td><td>&hellip;</td><td>&quot;Changeup&quot;</td><td>3</td><td>0</td><td>3</td><td>0</td><td>0</td><td>3</td><td>3</td><td>0</td><td>&quot;Strategic&quot;</td><td>&quot;Standard&quot;</td><td>238</td><td>0.005</td><td>null</td><td>null</td><td>null</td><td>null</td><td>null</td><td>null</td><td>3</td><td>3</td><td>0.858</td><td>0.858</td><td>30</td><td>24</td><td>31</td><td>24</td><td>1</td><td>0</td><td>null</td><td>null</td><td>null</td><td>null</td><td>2.71</td><td>1.05</td><td>-1.05</td><td>null</td></tr><tr><td>&quot;CH&quot;</td><td>2025-02-20</td><td>88.4</td><td>-1.67</td><td>6.05</td><td>&quot;Poteet, Cody&quot;</td><td>687221</td><td>547001</td><td>null</td><td>&quot;ball&quot;</td><td>null</td><td>null</td><td>null</td><td>null</td><td>11</td><td>&quot;Dalton Rushing walks.&quot;</td><td>&quot;S&quot;</td><td>&quot;L&quot;</td><td>&quot;R&quot;</td><td>&quot;LAD&quot;</td><td>&quot;CHC&quot;</td><td>&quot;B&quot;</td><td>null</td><td>null</td><td>2</td><td>2</td><td>2025</td><td>-1.22</td><td>0.28</td><td>-2.76</td><td>3.53</td><td>676439</td><td>null</td><td>null</td><td>1</td><td>2</td><td>&quot;Bot&quot;</td><td>&hellip;</td><td>&quot;Changeup&quot;</td><td>3</td><td>0</td><td>3</td><td>0</td><td>0</td><td>3</td><td>3</td><td>0</td><td>&quot;Strategic&quot;</td><td>&quot;Standard&quot;</td><td>235</td><td>0.0</td><td>null</td><td>null</td><td>null</td><td>null</td><td>null</td><td>null</td><td>3</td><td>3</td><td>0.858</td><td>0.858</td><td>30</td><td>24</td><td>31</td><td>24</td><td>1</td><td>0</td><td>null</td><td>null</td><td>null</td><td>null</td><td>2.64</td><td>1.22</td><td>-1.22</td><td>null</td></tr><tr><td>&quot;FF&quot;</td><td>2025-02-20</td><td>94.8</td><td>-1.22</td><td>6.28</td><td>&quot;Poteet, Cody&quot;</td><td>687221</td><td>547001</td><td>null</td><td>&quot;ball&quot;</td><td>null</td><td>null</td><td>null</td><td>null</td><td>11</td><td>&quot;Dalton Rushing walks.&quot;</td><td>&quot;S&quot;</td><td>&quot;L&quot;</td><td>&quot;R&quot;</td><td>&quot;LAD&quot;</td><td>&quot;CHC&quot;</td><td>&quot;B&quot;</td><td>null</td><td>null</td><td>1</td><td>2</td><td>2025</td><td>-0.66</td><td>1.35</td><td>-0.13</td><td>4.67</td><td>676439</td><td>null</td><td>null</td><td>1</td><td>2</td><td>&quot;Bot&quot;</td><td>&hellip;</td><td>&quot;4-Seam Fastball&quot;</td><td>3</td><td>0</td><td>3</td><td>0</td><td>0</td><td>3</td><td>3</td><td>0</td><td>&quot;Strategic&quot;</td><td>&quot;Standard&quot;</td><td>218</td><td>0.0</td><td>null</td><td>null</td><td>null</td><td>null</td><td>null</td><td>null</td><td>3</td><td>3</td><td>0.858</td><td>0.858</td><td>30</td><td>24</td><td>31</td><td>24</td><td>1</td><td>0</td><td>null</td><td>null</td><td>null</td><td>null</td><td>1.2</td><td>0.66</td><td>-0.66</td><td>null</td></tr><tr><td>&quot;CH&quot;</td><td>2025-02-20</td><td>90.1</td><td>-1.6</td><td>6.03</td><td>&quot;Poteet, Cody&quot;</td><td>687221</td><td>547001</td><td>null</td><td>&quot;ball&quot;</td><td>null</td><td>null</td><td>null</td><td>null</td><td>14</td><td>&quot;Dalton Rushing walks.&quot;</td><td>&quot;S&quot;</td><td>&quot;L&quot;</td><td>&quot;R&quot;</td><td>&quot;LAD&quot;</td><td>&quot;CHC&quot;</td><td>&quot;B&quot;</td><td>null</td><td>null</td><td>0</td><td>2</td><td>2025</td><td>-1.06</td><td>0.35</td><td>1.1</td><td>0.09</td><td>623520</td><td>676439</td><td>null</td><td>1</td><td>2</td><td>&quot;Bot&quot;</td><td>&hellip;</td><td>&quot;Changeup&quot;</td><td>2</td><td>0</td><td>2</td><td>0</td><td>0</td><td>3</td><td>3</td><td>0</td><td>&quot;Strategic&quot;</td><td>&quot;Standard&quot;</td><td>245</td><td>0.044</td><td>null</td><td>null</td><td>null</td><td>null</td><td>null</td><td>null</td><td>2</td><td>2</td><td>0.814</td><td>0.814</td><td>30</td><td>24</td><td>31</td><td>24</td><td>1</td><td>0</td><td>null</td><td>null</td><td>null</td><td>null</td><td>2.47</td><td>1.06</td><td>-1.06</td><td>null</td></tr><tr><td>&quot;FF&quot;</td><td>2025-02-20</td><td>94.2</td><td>-1.34</td><td>6.33</td><td>&quot;Poteet, Cody&quot;</td><td>808975</td><td>547001</td><td>null</td><td>&quot;ball&quot;</td><td>null</td><td>null</td><td>null</td><td>null</td><td>11</td><td>&quot;Hyeseong Kim grounds out softl…</td><td>&quot;S&quot;</td><td>&quot;L&quot;</td><td>&quot;R&quot;</td><td>&quot;LAD&quot;</td><td>&quot;CHC&quot;</td><td>&quot;B&quot;</td><td>null</td><td>null</td><td>2</td><td>2</td><td>2025</td><td>-0.64</td><td>1.26</td><td>-0.84</td><td>3.8</td><td>623520</td><td>676439</td><td>null</td><td>0</td><td>2</td><td>&quot;Bot&quot;</td><td>&hellip;</td><td>&quot;4-Seam Fastball&quot;</td><td>2</td><td>0</td><td>2</td><td>0</td><td>0</td><td>2</td><td>2</td><td>0</td><td>&quot;Strategic&quot;</td><td>&quot;Standard&quot;</td><td>218</td><td>0.0</td><td>null</td><td>null</td><td>null</td><td>null</td><td>null</td><td>null</td><td>2</td><td>2</td><td>0.849</td><td>0.849</td><td>30</td><td>26</td><td>31</td><td>26</td><td>1</td><td>0</td><td>null</td><td>null</td><td>null</td><td>null</td><td>1.29</td><td>0.64</td><td>-0.64</td><td>null</td></tr></tbody></table></div>"
      ],
      "text/plain": [
       "shape: (5, 113)\n",
       "┌───────────┬───────────┬───────────┬───────────┬───┬───────────┬───────────┬───────────┬──────────┐\n",
       "│ pitch_typ ┆ game_date ┆ release_s ┆ release_p ┆ … ┆ api_break ┆ api_break ┆ api_break ┆ arm_angl │\n",
       "│ e         ┆ ---       ┆ peed      ┆ os_x      ┆   ┆ _z_with_g ┆ _x_arm    ┆ _x_batter ┆ e        │\n",
       "│ ---       ┆ date      ┆ ---       ┆ ---       ┆   ┆ ravity    ┆ ---       ┆ _in       ┆ ---      │\n",
       "│ str       ┆           ┆ f64       ┆ f64       ┆   ┆ ---       ┆ f64       ┆ ---       ┆ i64      │\n",
       "│           ┆           ┆           ┆           ┆   ┆ f64       ┆           ┆ f64       ┆          │\n",
       "╞═══════════╪═══════════╪═══════════╪═══════════╪═══╪═══════════╪═══════════╪═══════════╪══════════╡\n",
       "│ CH        ┆ 2025-02-2 ┆ 87.6      ┆ -1.79     ┆ … ┆ 2.71      ┆ 1.05      ┆ -1.05     ┆ null     │\n",
       "│           ┆ 0         ┆           ┆           ┆   ┆           ┆           ┆           ┆          │\n",
       "│ CH        ┆ 2025-02-2 ┆ 88.4      ┆ -1.67     ┆ … ┆ 2.64      ┆ 1.22      ┆ -1.22     ┆ null     │\n",
       "│           ┆ 0         ┆           ┆           ┆   ┆           ┆           ┆           ┆          │\n",
       "│ FF        ┆ 2025-02-2 ┆ 94.8      ┆ -1.22     ┆ … ┆ 1.2       ┆ 0.66      ┆ -0.66     ┆ null     │\n",
       "│           ┆ 0         ┆           ┆           ┆   ┆           ┆           ┆           ┆          │\n",
       "│ CH        ┆ 2025-02-2 ┆ 90.1      ┆ -1.6      ┆ … ┆ 2.47      ┆ 1.06      ┆ -1.06     ┆ null     │\n",
       "│           ┆ 0         ┆           ┆           ┆   ┆           ┆           ┆           ┆          │\n",
       "│ FF        ┆ 2025-02-2 ┆ 94.2      ┆ -1.34     ┆ … ┆ 1.29      ┆ 0.64      ┆ -0.64     ┆ null     │\n",
       "│           ┆ 0         ┆           ┆           ┆   ┆           ┆           ┆           ┆          │\n",
       "└───────────┴───────────┴───────────┴───────────┴───┴───────────┴───────────┴───────────┴──────────┘"
      ]
     },
     "execution_count": 42,
     "metadata": {},
     "output_type": "execute_result"
    }
   ],
   "source": [
    "abs_relevant_pitches.head()"
   ]
  },
  {
   "cell_type": "markdown",
   "metadata": {},
   "source": [
    "Here's a pretty good universe of pitches that could be challenged. Let's start by manually grabbing a few games with challenged pitches and go from there. \n",
    "\n",
    "The rules say that:\n",
    "- During the spring, each team will be given two challenges per game and will retain successful challenges.\n",
    "\n",
    "The Yankees are always in the news, so let's start with them. https://www.espn.com/mlb/story/_/id/43973088/new-york-yankees-use-abs-challenge-system-keep-inning-alive \n",
    "\n",
    "This article says that: \n",
    "- On Feb 22, 2025\n",
    "- The Yankees used an ABS challenge successfully\n",
    "- Batter: Everson Pereira\n",
    "- Away Team: New York Yankees\n",
    "- Home Team: Toronto Blue Jays\n",
    "- Top of the 6th inning, 2 outs, full count\n",
    "- Pitch: Last pitch of the AB, caused him to walk"
   ]
  },
  {
   "cell_type": "code",
   "execution_count": 68,
   "metadata": {},
   "outputs": [
    {
     "data": {
      "text/plain": [
       "0    677592\n",
       "Name: key_mlbam, dtype: int64"
      ]
     },
     "execution_count": 68,
     "metadata": {},
     "output_type": "execute_result"
    }
   ],
   "source": [
    "everson_pereira = pb.playerid_lookup('pereira', 'everson')\n",
    "everson_pereira.key_mlbam[0]"
   ]
  },
  {
   "cell_type": "code",
   "execution_count": 78,
   "metadata": {},
   "outputs": [],
   "source": [
    "pereira_challenge = abs_relevant_pitches.filter(\n",
    "    (pl.col('batter')==everson_pereira.key_mlbam[0]) &\n",
    "    (pl.col('game_date')==datetime.strptime(\"2025-02-22\", '%Y-%m-%d').date()) &\n",
    "    (pl.col('away_team')==\"NYY\") &\n",
    "    (pl.col('home_team')==\"TOR\") &\n",
    "    (pl.col('inning')==6)\n",
    ")\n",
    "\n",
    "# Get last pitch of AB\n",
    "pitch_challenged_pereira = pereira_challenge.filter(\n",
    "    pl.col('pitch_number')==pl.max('pitch_number')\n",
    ")"
   ]
  },
  {
   "cell_type": "code",
   "execution_count": 79,
   "metadata": {},
   "outputs": [
    {
     "data": {
      "text/html": [
       "<div><style>\n",
       ".dataframe > thead > tr,\n",
       ".dataframe > tbody > tr {\n",
       "  text-align: right;\n",
       "  white-space: pre-wrap;\n",
       "}\n",
       "</style>\n",
       "<small>shape: (6, 113)</small><table border=\"1\" class=\"dataframe\"><thead><tr><th>pitch_type</th><th>game_date</th><th>release_speed</th><th>release_pos_x</th><th>release_pos_z</th><th>player_name</th><th>batter</th><th>pitcher</th><th>events</th><th>description</th><th>spin_dir</th><th>spin_rate_deprecated</th><th>break_angle_deprecated</th><th>break_length_deprecated</th><th>zone</th><th>des</th><th>game_type</th><th>stand</th><th>p_throws</th><th>home_team</th><th>away_team</th><th>type</th><th>hit_location</th><th>bb_type</th><th>balls</th><th>strikes</th><th>game_year</th><th>pfx_x</th><th>pfx_z</th><th>plate_x</th><th>plate_z</th><th>on_3b</th><th>on_2b</th><th>on_1b</th><th>outs_when_up</th><th>inning</th><th>inning_topbot</th><th>&hellip;</th><th>pitch_name</th><th>home_score</th><th>away_score</th><th>bat_score</th><th>fld_score</th><th>post_away_score</th><th>post_home_score</th><th>post_bat_score</th><th>post_fld_score</th><th>if_fielding_alignment</th><th>of_fielding_alignment</th><th>spin_axis</th><th>delta_home_win_exp</th><th>delta_run_exp</th><th>bat_speed</th><th>swing_length</th><th>estimated_slg_using_speedangle</th><th>delta_pitcher_run_exp</th><th>hyper_speed</th><th>home_score_diff</th><th>bat_score_diff</th><th>home_win_exp</th><th>bat_win_exp</th><th>age_pit_legacy</th><th>age_bat_legacy</th><th>age_pit</th><th>age_bat</th><th>n_thruorder_pitcher</th><th>n_priorpa_thisgame_player_at_bat</th><th>pitcher_days_since_prev_game</th><th>batter_days_since_prev_game</th><th>pitcher_days_until_next_game</th><th>batter_days_until_next_game</th><th>api_break_z_with_gravity</th><th>api_break_x_arm</th><th>api_break_x_batter_in</th><th>arm_angle</th></tr><tr><td>str</td><td>date</td><td>f64</td><td>f64</td><td>f64</td><td>str</td><td>i64</td><td>i64</td><td>str</td><td>str</td><td>i64</td><td>i64</td><td>i64</td><td>i64</td><td>i64</td><td>str</td><td>str</td><td>str</td><td>str</td><td>str</td><td>str</td><td>str</td><td>i64</td><td>str</td><td>i64</td><td>i64</td><td>i64</td><td>f64</td><td>f64</td><td>f64</td><td>f64</td><td>i64</td><td>i64</td><td>i64</td><td>i64</td><td>i64</td><td>str</td><td>&hellip;</td><td>str</td><td>i64</td><td>i64</td><td>i64</td><td>i64</td><td>i64</td><td>i64</td><td>i64</td><td>i64</td><td>str</td><td>str</td><td>i64</td><td>f64</td><td>i64</td><td>f64</td><td>f64</td><td>f64</td><td>i64</td><td>f64</td><td>i64</td><td>i64</td><td>f64</td><td>f64</td><td>i64</td><td>i64</td><td>i64</td><td>i64</td><td>i64</td><td>i64</td><td>i64</td><td>i64</td><td>i64</td><td>i64</td><td>f64</td><td>f64</td><td>f64</td><td>i64</td></tr></thead><tbody><tr><td>&quot;FF&quot;</td><td>2025-02-22</td><td>93.1</td><td>-1.2</td><td>5.62</td><td>&quot;Pardinho, Eric&quot;</td><td>677592</td><td>672078</td><td>&quot;walk&quot;</td><td>&quot;ball&quot;</td><td>null</td><td>null</td><td>null</td><td>null</td><td>14</td><td>&quot;Everson Pereira walks.&quot;</td><td>&quot;S&quot;</td><td>&quot;R&quot;</td><td>&quot;R&quot;</td><td>&quot;TOR&quot;</td><td>&quot;NYY&quot;</td><td>&quot;B&quot;</td><td>null</td><td>null</td><td>3</td><td>2</td><td>2025</td><td>-0.67</td><td>1.61</td><td>0.84</td><td>1.63</td><td>null</td><td>null</td><td>null</td><td>2</td><td>6</td><td>&quot;Top&quot;</td><td>&hellip;</td><td>&quot;4-Seam Fastball&quot;</td><td>4</td><td>0</td><td>0</td><td>4</td><td>0</td><td>4</td><td>0</td><td>4</td><td>&quot;Standard&quot;</td><td>&quot;Standard&quot;</td><td>218</td><td>-0.008</td><td>null</td><td>null</td><td>null</td><td>null</td><td>null</td><td>null</td><td>4</td><td>-4</td><td>0.951</td><td>0.049</td><td>24</td><td>24</td><td>24</td><td>24</td><td>1</td><td>2</td><td>null</td><td>null</td><td>null</td><td>null</td><td>1.04</td><td>0.67</td><td>0.67</td><td>null</td></tr><tr><td>&quot;FS&quot;</td><td>2025-02-22</td><td>85.4</td><td>-1.34</td><td>5.62</td><td>&quot;Pardinho, Eric&quot;</td><td>677592</td><td>672078</td><td>null</td><td>&quot;ball&quot;</td><td>null</td><td>null</td><td>null</td><td>null</td><td>11</td><td>&quot;Everson Pereira walks.&quot;</td><td>&quot;S&quot;</td><td>&quot;R&quot;</td><td>&quot;R&quot;</td><td>&quot;TOR&quot;</td><td>&quot;NYY&quot;</td><td>&quot;B&quot;</td><td>null</td><td>null</td><td>2</td><td>2</td><td>2025</td><td>-1.19</td><td>-0.11</td><td>-0.99</td><td>4.71</td><td>null</td><td>null</td><td>null</td><td>2</td><td>6</td><td>&quot;Top&quot;</td><td>&hellip;</td><td>&quot;Split-Finger&quot;</td><td>4</td><td>0</td><td>0</td><td>4</td><td>0</td><td>4</td><td>0</td><td>4</td><td>&quot;Standard&quot;</td><td>&quot;Standard&quot;</td><td>239</td><td>0.0</td><td>null</td><td>null</td><td>null</td><td>null</td><td>null</td><td>null</td><td>4</td><td>-4</td><td>0.951</td><td>0.049</td><td>24</td><td>24</td><td>24</td><td>24</td><td>1</td><td>2</td><td>null</td><td>null</td><td>null</td><td>null</td><td>3.27</td><td>1.19</td><td>1.19</td><td>null</td></tr><tr><td>&quot;SL&quot;</td><td>2025-02-22</td><td>87.0</td><td>-1.34</td><td>5.61</td><td>&quot;Pardinho, Eric&quot;</td><td>677592</td><td>672078</td><td>null</td><td>&quot;called_strike&quot;</td><td>null</td><td>null</td><td>null</td><td>null</td><td>9</td><td>&quot;Everson Pereira walks.&quot;</td><td>&quot;S&quot;</td><td>&quot;R&quot;</td><td>&quot;R&quot;</td><td>&quot;TOR&quot;</td><td>&quot;NYY&quot;</td><td>&quot;S&quot;</td><td>null</td><td>null</td><td>2</td><td>1</td><td>2025</td><td>-0.53</td><td>0.46</td><td>0.72</td><td>1.66</td><td>null</td><td>null</td><td>null</td><td>2</td><td>6</td><td>&quot;Top&quot;</td><td>&hellip;</td><td>&quot;Slider&quot;</td><td>4</td><td>0</td><td>0</td><td>4</td><td>0</td><td>4</td><td>0</td><td>4</td><td>&quot;Standard&quot;</td><td>&quot;Standard&quot;</td><td>224</td><td>0.0</td><td>null</td><td>null</td><td>null</td><td>null</td><td>null</td><td>null</td><td>4</td><td>-4</td><td>0.951</td><td>0.049</td><td>24</td><td>24</td><td>24</td><td>24</td><td>1</td><td>2</td><td>null</td><td>null</td><td>null</td><td>null</td><td>2.55</td><td>0.53</td><td>0.53</td><td>null</td></tr><tr><td>&quot;SL&quot;</td><td>2025-02-22</td><td>86.8</td><td>-1.36</td><td>5.61</td><td>&quot;Pardinho, Eric&quot;</td><td>677592</td><td>672078</td><td>null</td><td>&quot;called_strike&quot;</td><td>null</td><td>null</td><td>null</td><td>null</td><td>9</td><td>&quot;Everson Pereira walks.&quot;</td><td>&quot;S&quot;</td><td>&quot;R&quot;</td><td>&quot;R&quot;</td><td>&quot;TOR&quot;</td><td>&quot;NYY&quot;</td><td>&quot;S&quot;</td><td>null</td><td>null</td><td>2</td><td>0</td><td>2025</td><td>-0.61</td><td>0.32</td><td>0.58</td><td>1.58</td><td>null</td><td>null</td><td>null</td><td>2</td><td>6</td><td>&quot;Top&quot;</td><td>&hellip;</td><td>&quot;Slider&quot;</td><td>4</td><td>0</td><td>0</td><td>4</td><td>0</td><td>4</td><td>0</td><td>4</td><td>&quot;Standard&quot;</td><td>&quot;Standard&quot;</td><td>232</td><td>0.0</td><td>null</td><td>null</td><td>null</td><td>null</td><td>null</td><td>null</td><td>4</td><td>-4</td><td>0.951</td><td>0.049</td><td>24</td><td>24</td><td>24</td><td>24</td><td>1</td><td>2</td><td>null</td><td>null</td><td>null</td><td>null</td><td>2.72</td><td>0.61</td><td>0.61</td><td>null</td></tr><tr><td>&quot;FF&quot;</td><td>2025-02-22</td><td>94.2</td><td>-1.2</td><td>5.69</td><td>&quot;Pardinho, Eric&quot;</td><td>677592</td><td>672078</td><td>null</td><td>&quot;ball&quot;</td><td>null</td><td>null</td><td>null</td><td>null</td><td>11</td><td>&quot;Everson Pereira walks.&quot;</td><td>&quot;S&quot;</td><td>&quot;R&quot;</td><td>&quot;R&quot;</td><td>&quot;TOR&quot;</td><td>&quot;NYY&quot;</td><td>&quot;B&quot;</td><td>null</td><td>null</td><td>1</td><td>0</td><td>2025</td><td>-0.58</td><td>1.55</td><td>-0.18</td><td>3.9</td><td>null</td><td>null</td><td>null</td><td>2</td><td>6</td><td>&quot;Top&quot;</td><td>&hellip;</td><td>&quot;4-Seam Fastball&quot;</td><td>4</td><td>0</td><td>0</td><td>4</td><td>0</td><td>4</td><td>0</td><td>4</td><td>&quot;Standard&quot;</td><td>&quot;Standard&quot;</td><td>217</td><td>0.0</td><td>null</td><td>null</td><td>null</td><td>null</td><td>null</td><td>null</td><td>4</td><td>-4</td><td>0.951</td><td>0.049</td><td>24</td><td>24</td><td>24</td><td>24</td><td>1</td><td>2</td><td>null</td><td>null</td><td>null</td><td>null</td><td>1.03</td><td>0.58</td><td>0.58</td><td>null</td></tr><tr><td>&quot;FF&quot;</td><td>2025-02-22</td><td>93.8</td><td>-1.12</td><td>5.71</td><td>&quot;Pardinho, Eric&quot;</td><td>677592</td><td>672078</td><td>null</td><td>&quot;ball&quot;</td><td>null</td><td>null</td><td>null</td><td>null</td><td>12</td><td>&quot;Everson Pereira walks.&quot;</td><td>&quot;S&quot;</td><td>&quot;R&quot;</td><td>&quot;R&quot;</td><td>&quot;TOR&quot;</td><td>&quot;NYY&quot;</td><td>&quot;B&quot;</td><td>null</td><td>null</td><td>0</td><td>0</td><td>2025</td><td>-0.69</td><td>1.61</td><td>0.86</td><td>4.18</td><td>null</td><td>null</td><td>null</td><td>2</td><td>6</td><td>&quot;Top&quot;</td><td>&hellip;</td><td>&quot;4-Seam Fastball&quot;</td><td>4</td><td>0</td><td>0</td><td>4</td><td>0</td><td>4</td><td>0</td><td>4</td><td>&quot;Standard&quot;</td><td>&quot;Standard&quot;</td><td>217</td><td>0.0</td><td>null</td><td>null</td><td>null</td><td>null</td><td>null</td><td>null</td><td>4</td><td>-4</td><td>0.951</td><td>0.049</td><td>24</td><td>24</td><td>24</td><td>24</td><td>1</td><td>2</td><td>null</td><td>null</td><td>null</td><td>null</td><td>1.0</td><td>0.69</td><td>0.69</td><td>null</td></tr></tbody></table></div>"
      ],
      "text/plain": [
       "shape: (6, 113)\n",
       "┌───────────┬───────────┬───────────┬───────────┬───┬───────────┬───────────┬───────────┬──────────┐\n",
       "│ pitch_typ ┆ game_date ┆ release_s ┆ release_p ┆ … ┆ api_break ┆ api_break ┆ api_break ┆ arm_angl │\n",
       "│ e         ┆ ---       ┆ peed      ┆ os_x      ┆   ┆ _z_with_g ┆ _x_arm    ┆ _x_batter ┆ e        │\n",
       "│ ---       ┆ date      ┆ ---       ┆ ---       ┆   ┆ ravity    ┆ ---       ┆ _in       ┆ ---      │\n",
       "│ str       ┆           ┆ f64       ┆ f64       ┆   ┆ ---       ┆ f64       ┆ ---       ┆ i64      │\n",
       "│           ┆           ┆           ┆           ┆   ┆ f64       ┆           ┆ f64       ┆          │\n",
       "╞═══════════╪═══════════╪═══════════╪═══════════╪═══╪═══════════╪═══════════╪═══════════╪══════════╡\n",
       "│ FF        ┆ 2025-02-2 ┆ 93.1      ┆ -1.2      ┆ … ┆ 1.04      ┆ 0.67      ┆ 0.67      ┆ null     │\n",
       "│           ┆ 2         ┆           ┆           ┆   ┆           ┆           ┆           ┆          │\n",
       "│ FS        ┆ 2025-02-2 ┆ 85.4      ┆ -1.34     ┆ … ┆ 3.27      ┆ 1.19      ┆ 1.19      ┆ null     │\n",
       "│           ┆ 2         ┆           ┆           ┆   ┆           ┆           ┆           ┆          │\n",
       "│ SL        ┆ 2025-02-2 ┆ 87.0      ┆ -1.34     ┆ … ┆ 2.55      ┆ 0.53      ┆ 0.53      ┆ null     │\n",
       "│           ┆ 2         ┆           ┆           ┆   ┆           ┆           ┆           ┆          │\n",
       "│ SL        ┆ 2025-02-2 ┆ 86.8      ┆ -1.36     ┆ … ┆ 2.72      ┆ 0.61      ┆ 0.61      ┆ null     │\n",
       "│           ┆ 2         ┆           ┆           ┆   ┆           ┆           ┆           ┆          │\n",
       "│ FF        ┆ 2025-02-2 ┆ 94.2      ┆ -1.2      ┆ … ┆ 1.03      ┆ 0.58      ┆ 0.58      ┆ null     │\n",
       "│           ┆ 2         ┆           ┆           ┆   ┆           ┆           ┆           ┆          │\n",
       "│ FF        ┆ 2025-02-2 ┆ 93.8      ┆ -1.12     ┆ … ┆ 1.0       ┆ 0.69      ┆ 0.69      ┆ null     │\n",
       "│           ┆ 2         ┆           ┆           ┆   ┆           ┆           ┆           ┆          │\n",
       "└───────────┴───────────┴───────────┴───────────┴───┴───────────┴───────────┴───────────┴──────────┘"
      ]
     },
     "execution_count": 79,
     "metadata": {},
     "output_type": "execute_result"
    }
   ],
   "source": [
    "pereira_challenge"
   ]
  },
  {
   "cell_type": "code",
   "execution_count": 80,
   "metadata": {},
   "outputs": [
    {
     "data": {
      "text/html": [
       "<div><style>\n",
       ".dataframe > thead > tr,\n",
       ".dataframe > tbody > tr {\n",
       "  text-align: right;\n",
       "  white-space: pre-wrap;\n",
       "}\n",
       "</style>\n",
       "<small>shape: (1, 113)</small><table border=\"1\" class=\"dataframe\"><thead><tr><th>pitch_type</th><th>game_date</th><th>release_speed</th><th>release_pos_x</th><th>release_pos_z</th><th>player_name</th><th>batter</th><th>pitcher</th><th>events</th><th>description</th><th>spin_dir</th><th>spin_rate_deprecated</th><th>break_angle_deprecated</th><th>break_length_deprecated</th><th>zone</th><th>des</th><th>game_type</th><th>stand</th><th>p_throws</th><th>home_team</th><th>away_team</th><th>type</th><th>hit_location</th><th>bb_type</th><th>balls</th><th>strikes</th><th>game_year</th><th>pfx_x</th><th>pfx_z</th><th>plate_x</th><th>plate_z</th><th>on_3b</th><th>on_2b</th><th>on_1b</th><th>outs_when_up</th><th>inning</th><th>inning_topbot</th><th>&hellip;</th><th>pitch_name</th><th>home_score</th><th>away_score</th><th>bat_score</th><th>fld_score</th><th>post_away_score</th><th>post_home_score</th><th>post_bat_score</th><th>post_fld_score</th><th>if_fielding_alignment</th><th>of_fielding_alignment</th><th>spin_axis</th><th>delta_home_win_exp</th><th>delta_run_exp</th><th>bat_speed</th><th>swing_length</th><th>estimated_slg_using_speedangle</th><th>delta_pitcher_run_exp</th><th>hyper_speed</th><th>home_score_diff</th><th>bat_score_diff</th><th>home_win_exp</th><th>bat_win_exp</th><th>age_pit_legacy</th><th>age_bat_legacy</th><th>age_pit</th><th>age_bat</th><th>n_thruorder_pitcher</th><th>n_priorpa_thisgame_player_at_bat</th><th>pitcher_days_since_prev_game</th><th>batter_days_since_prev_game</th><th>pitcher_days_until_next_game</th><th>batter_days_until_next_game</th><th>api_break_z_with_gravity</th><th>api_break_x_arm</th><th>api_break_x_batter_in</th><th>arm_angle</th></tr><tr><td>str</td><td>date</td><td>f64</td><td>f64</td><td>f64</td><td>str</td><td>i64</td><td>i64</td><td>str</td><td>str</td><td>i64</td><td>i64</td><td>i64</td><td>i64</td><td>i64</td><td>str</td><td>str</td><td>str</td><td>str</td><td>str</td><td>str</td><td>str</td><td>i64</td><td>str</td><td>i64</td><td>i64</td><td>i64</td><td>f64</td><td>f64</td><td>f64</td><td>f64</td><td>i64</td><td>i64</td><td>i64</td><td>i64</td><td>i64</td><td>str</td><td>&hellip;</td><td>str</td><td>i64</td><td>i64</td><td>i64</td><td>i64</td><td>i64</td><td>i64</td><td>i64</td><td>i64</td><td>str</td><td>str</td><td>i64</td><td>f64</td><td>i64</td><td>f64</td><td>f64</td><td>f64</td><td>i64</td><td>f64</td><td>i64</td><td>i64</td><td>f64</td><td>f64</td><td>i64</td><td>i64</td><td>i64</td><td>i64</td><td>i64</td><td>i64</td><td>i64</td><td>i64</td><td>i64</td><td>i64</td><td>f64</td><td>f64</td><td>f64</td><td>i64</td></tr></thead><tbody><tr><td>&quot;FF&quot;</td><td>2025-02-22</td><td>93.1</td><td>-1.2</td><td>5.62</td><td>&quot;Pardinho, Eric&quot;</td><td>677592</td><td>672078</td><td>&quot;walk&quot;</td><td>&quot;ball&quot;</td><td>null</td><td>null</td><td>null</td><td>null</td><td>14</td><td>&quot;Everson Pereira walks.&quot;</td><td>&quot;S&quot;</td><td>&quot;R&quot;</td><td>&quot;R&quot;</td><td>&quot;TOR&quot;</td><td>&quot;NYY&quot;</td><td>&quot;B&quot;</td><td>null</td><td>null</td><td>3</td><td>2</td><td>2025</td><td>-0.67</td><td>1.61</td><td>0.84</td><td>1.63</td><td>null</td><td>null</td><td>null</td><td>2</td><td>6</td><td>&quot;Top&quot;</td><td>&hellip;</td><td>&quot;4-Seam Fastball&quot;</td><td>4</td><td>0</td><td>0</td><td>4</td><td>0</td><td>4</td><td>0</td><td>4</td><td>&quot;Standard&quot;</td><td>&quot;Standard&quot;</td><td>218</td><td>-0.008</td><td>null</td><td>null</td><td>null</td><td>null</td><td>null</td><td>null</td><td>4</td><td>-4</td><td>0.951</td><td>0.049</td><td>24</td><td>24</td><td>24</td><td>24</td><td>1</td><td>2</td><td>null</td><td>null</td><td>null</td><td>null</td><td>1.04</td><td>0.67</td><td>0.67</td><td>null</td></tr></tbody></table></div>"
      ],
      "text/plain": [
       "shape: (1, 113)\n",
       "┌───────────┬───────────┬───────────┬───────────┬───┬───────────┬───────────┬───────────┬──────────┐\n",
       "│ pitch_typ ┆ game_date ┆ release_s ┆ release_p ┆ … ┆ api_break ┆ api_break ┆ api_break ┆ arm_angl │\n",
       "│ e         ┆ ---       ┆ peed      ┆ os_x      ┆   ┆ _z_with_g ┆ _x_arm    ┆ _x_batter ┆ e        │\n",
       "│ ---       ┆ date      ┆ ---       ┆ ---       ┆   ┆ ravity    ┆ ---       ┆ _in       ┆ ---      │\n",
       "│ str       ┆           ┆ f64       ┆ f64       ┆   ┆ ---       ┆ f64       ┆ ---       ┆ i64      │\n",
       "│           ┆           ┆           ┆           ┆   ┆ f64       ┆           ┆ f64       ┆          │\n",
       "╞═══════════╪═══════════╪═══════════╪═══════════╪═══╪═══════════╪═══════════╪═══════════╪══════════╡\n",
       "│ FF        ┆ 2025-02-2 ┆ 93.1      ┆ -1.2      ┆ … ┆ 1.04      ┆ 0.67      ┆ 0.67      ┆ null     │\n",
       "│           ┆ 2         ┆           ┆           ┆   ┆           ┆           ┆           ┆          │\n",
       "└───────────┴───────────┴───────────┴───────────┴───┴───────────┴───────────┴───────────┴──────────┘"
      ]
     },
     "execution_count": 80,
     "metadata": {},
     "output_type": "execute_result"
    }
   ],
   "source": [
    "pitch_challenged_pereira"
   ]
  },
  {
   "cell_type": "code",
   "execution_count": 90,
   "metadata": {},
   "outputs": [
    {
     "data": {
      "text/html": [
       "<div><style>\n",
       ".dataframe > thead > tr,\n",
       ".dataframe > tbody > tr {\n",
       "  text-align: right;\n",
       "  white-space: pre-wrap;\n",
       "}\n",
       "</style>\n",
       "<small>shape: (1, 113)</small><table border=\"1\" class=\"dataframe\"><thead><tr><th>pitch_type</th><th>game_date</th><th>release_speed</th><th>release_pos_x</th><th>release_pos_z</th><th>player_name</th><th>batter</th><th>pitcher</th><th>events</th><th>description</th><th>spin_dir</th><th>spin_rate_deprecated</th><th>break_angle_deprecated</th><th>break_length_deprecated</th><th>zone</th><th>des</th><th>game_type</th><th>stand</th><th>p_throws</th><th>home_team</th><th>away_team</th><th>type</th><th>hit_location</th><th>bb_type</th><th>balls</th><th>strikes</th><th>game_year</th><th>pfx_x</th><th>pfx_z</th><th>plate_x</th><th>plate_z</th><th>on_3b</th><th>on_2b</th><th>on_1b</th><th>outs_when_up</th><th>inning</th><th>inning_topbot</th><th>&hellip;</th><th>pitch_name</th><th>home_score</th><th>away_score</th><th>bat_score</th><th>fld_score</th><th>post_away_score</th><th>post_home_score</th><th>post_bat_score</th><th>post_fld_score</th><th>if_fielding_alignment</th><th>of_fielding_alignment</th><th>spin_axis</th><th>delta_home_win_exp</th><th>delta_run_exp</th><th>bat_speed</th><th>swing_length</th><th>estimated_slg_using_speedangle</th><th>delta_pitcher_run_exp</th><th>hyper_speed</th><th>home_score_diff</th><th>bat_score_diff</th><th>home_win_exp</th><th>bat_win_exp</th><th>age_pit_legacy</th><th>age_bat_legacy</th><th>age_pit</th><th>age_bat</th><th>n_thruorder_pitcher</th><th>n_priorpa_thisgame_player_at_bat</th><th>pitcher_days_since_prev_game</th><th>batter_days_since_prev_game</th><th>pitcher_days_until_next_game</th><th>batter_days_until_next_game</th><th>api_break_z_with_gravity</th><th>api_break_x_arm</th><th>api_break_x_batter_in</th><th>arm_angle</th></tr><tr><td>str</td><td>date</td><td>f64</td><td>f64</td><td>f64</td><td>str</td><td>i64</td><td>i64</td><td>str</td><td>str</td><td>i64</td><td>i64</td><td>i64</td><td>i64</td><td>i64</td><td>str</td><td>str</td><td>str</td><td>str</td><td>str</td><td>str</td><td>str</td><td>i64</td><td>str</td><td>i64</td><td>i64</td><td>i64</td><td>f64</td><td>f64</td><td>f64</td><td>f64</td><td>i64</td><td>i64</td><td>i64</td><td>i64</td><td>i64</td><td>str</td><td>&hellip;</td><td>str</td><td>i64</td><td>i64</td><td>i64</td><td>i64</td><td>i64</td><td>i64</td><td>i64</td><td>i64</td><td>str</td><td>str</td><td>i64</td><td>f64</td><td>i64</td><td>f64</td><td>f64</td><td>f64</td><td>i64</td><td>f64</td><td>i64</td><td>i64</td><td>f64</td><td>f64</td><td>i64</td><td>i64</td><td>i64</td><td>i64</td><td>i64</td><td>i64</td><td>i64</td><td>i64</td><td>i64</td><td>i64</td><td>f64</td><td>f64</td><td>f64</td><td>i64</td></tr></thead><tbody><tr><td>&quot;FF&quot;</td><td>2025-02-22</td><td>93.1</td><td>-1.2</td><td>5.62</td><td>&quot;Pardinho, Eric&quot;</td><td>677592</td><td>672078</td><td>&quot;walk&quot;</td><td>&quot;ball&quot;</td><td>null</td><td>null</td><td>null</td><td>null</td><td>14</td><td>&quot;Everson Pereira walks.&quot;</td><td>&quot;S&quot;</td><td>&quot;R&quot;</td><td>&quot;R&quot;</td><td>&quot;TOR&quot;</td><td>&quot;NYY&quot;</td><td>&quot;B&quot;</td><td>null</td><td>null</td><td>3</td><td>2</td><td>2025</td><td>-0.67</td><td>1.61</td><td>0.84</td><td>1.63</td><td>null</td><td>null</td><td>null</td><td>2</td><td>6</td><td>&quot;Top&quot;</td><td>&hellip;</td><td>&quot;4-Seam Fastball&quot;</td><td>4</td><td>0</td><td>0</td><td>4</td><td>0</td><td>4</td><td>0</td><td>4</td><td>&quot;Standard&quot;</td><td>&quot;Standard&quot;</td><td>218</td><td>-0.008</td><td>null</td><td>null</td><td>null</td><td>null</td><td>null</td><td>null</td><td>4</td><td>-4</td><td>0.951</td><td>0.049</td><td>24</td><td>24</td><td>24</td><td>24</td><td>1</td><td>2</td><td>null</td><td>null</td><td>null</td><td>null</td><td>1.04</td><td>0.67</td><td>0.67</td><td>null</td></tr></tbody></table></div>"
      ],
      "text/plain": [
       "shape: (1, 113)\n",
       "┌───────────┬───────────┬───────────┬───────────┬───┬───────────┬───────────┬───────────┬──────────┐\n",
       "│ pitch_typ ┆ game_date ┆ release_s ┆ release_p ┆ … ┆ api_break ┆ api_break ┆ api_break ┆ arm_angl │\n",
       "│ e         ┆ ---       ┆ peed      ┆ os_x      ┆   ┆ _z_with_g ┆ _x_arm    ┆ _x_batter ┆ e        │\n",
       "│ ---       ┆ date      ┆ ---       ┆ ---       ┆   ┆ ravity    ┆ ---       ┆ _in       ┆ ---      │\n",
       "│ str       ┆           ┆ f64       ┆ f64       ┆   ┆ ---       ┆ f64       ┆ ---       ┆ i64      │\n",
       "│           ┆           ┆           ┆           ┆   ┆ f64       ┆           ┆ f64       ┆          │\n",
       "╞═══════════╪═══════════╪═══════════╪═══════════╪═══╪═══════════╪═══════════╪═══════════╪══════════╡\n",
       "│ FF        ┆ 2025-02-2 ┆ 93.1      ┆ -1.2      ┆ … ┆ 1.04      ┆ 0.67      ┆ 0.67      ┆ null     │\n",
       "│           ┆ 2         ┆           ┆           ┆   ┆           ┆           ┆           ┆          │\n",
       "└───────────┴───────────┴───────────┴───────────┴───┴───────────┴───────────┴───────────┴──────────┘"
      ]
     },
     "execution_count": 90,
     "metadata": {},
     "output_type": "execute_result"
    }
   ],
   "source": [
    "pitch_challenged_pereira"
   ]
  },
  {
   "cell_type": "code",
   "execution_count": 93,
   "metadata": {},
   "outputs": [
    {
     "data": {
      "image/png": "[encoded data removed]",
      "text/plain": [
       "<Figure size 640x480 with 1 Axes>"
      ]
     },
     "metadata": {},
     "output_type": "display_data"
    }
   ],
   "source": [
    "import polars as pl\n",
    "import matplotlib.pyplot as plt\n",
    "\n",
    "# Assuming your DataFrame is named 'df' and has columns 'x' and 'y'\n",
    "plt.scatter(pitch_challenged_pereira[\"plate_x\"], pitch_challenged_pereira[\"plate_z\"])\n",
    "plt.xlabel(\"horizontal\")\n",
    "plt.ylabel(\"vertical\")\n",
    "plt.title(\"Scatter plot of x vs y\")\n",
    "plt.show()"
   ]
  },
  {
   "cell_type": "code",
   "execution_count": 98,
   "metadata": {},
   "outputs": [
    {
     "data": {
      "text/plain": [
       "(-2.0, 2.0)"
      ]
     },
     "execution_count": 98,
     "metadata": {},
     "output_type": "execute_result"
    },
    {
     "data": {
      "image/png": "[encoded data removed]",
      "text/plain": [
       "<Figure size 640x480 with 1 Axes>"
      ]
     },
     "metadata": {},
     "output_type": "display_data"
    }
   ],
   "source": [
    "#https://github.com/instant-replay-academy/MLB-PitchFx-Python/blob/master/GamedaySample.ipynb\n",
    "\n",
    "import matplotlib.pyplot as plt\n",
    "import matplotlib.patches as patches\n",
    "%matplotlib inline\n",
    "\n",
    "\"\"\"matplotlib.pyplot is a collection of command shell style functions that make matplotlib \n",
    "work like MATLAB. Each pyplot function makes some change to a figure: e.g., creates a figure, \n",
    "creates a plotting area in a figure, plots some lines in a plotting area, decorates the plot with labels, etc.\n",
    "Pyplot maintains state across calls.\"\"\"\n",
    "\n",
    "fig1 = plt.figure()\n",
    "ax1 = fig1.add_subplot(111, aspect='equal')\n",
    "\n",
    "platewidthInFeet = 17 / 12 # plate is 17 inches wide\n",
    "expandedPlateInFeet = 20 / 12 # add ball width (half on each side)\n",
    "szHeightInFeet = 3.5 - 1.5\n",
    "ballInFeet = 3 / 12\n",
    "halfBallInFeet = ballInFeet / 2\n",
    "\n",
    "# draw expanded zone: 3 inch ball (.25 ft) = 1.5 inches all the way around\n",
    "# ax1.add_patch(patches.Rectangle((expandedPlateInFeet/-2, 1.5 - halfBallInFeet), expandedPlateInFeet, szHeightInFeet + ballInFeet, color='lightblue'))\n",
    "\n",
    "# draw formal zone (plate only)\n",
    "ax1.add_patch(patches.Rectangle((platewidthInFeet/-2, 1.5), platewidthInFeet, szHeightInFeet))\n",
    "\n",
    "# dray my pitch\n",
    "ax1.scatter(pitch_challenged_pereira[\"plate_x\"], pitch_challenged_pereira[\"plate_z\"], color='red')\n",
    "\n",
    "plt.ylim(0, 5)\n",
    "plt.xlim(-2, 2)"
   ]
  },
  {
   "cell_type": "code",
   "execution_count": null,
   "metadata": {},
   "outputs": [],
   "source": []
  }
 ],
 "metadata": {
  "kernelspec": {
   "display_name": "Python 3 (ipykernel)",
   "language": "python",
   "name": "python3"
  },
  "language_info": {
   "codemirror_mode": {
    "name": "ipython",
    "version": 3
   },
   "file_extension": ".py",
   "mimetype": "text/x-python",
   "name": "python",
   "nbconvert_exporter": "python",
   "pygments_lexer": "ipython3",
   "version": "3.13.2"
  }
 },
 "nbformat": 4,
 "nbformat_minor": 4
}
