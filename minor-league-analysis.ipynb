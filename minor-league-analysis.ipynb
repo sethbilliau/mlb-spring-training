{
 "cells": [
  {
   "cell_type": "markdown",
   "metadata": {},
   "source": [
    "# Import Libraries"
   ]
  },
  {
   "cell_type": "code",
   "execution_count": 1,
   "metadata": {},
   "outputs": [],
   "source": [
    "import polars as pl"
   ]
  },
  {
   "cell_type": "markdown",
   "metadata": {},
   "source": [
    "# Load Data"
   ]
  },
  {
   "cell_type": "code",
   "execution_count": 3,
   "metadata": {},
   "outputs": [],
   "source": [
    "pbp = pl.read_csv('data/2024_9_aaa_pbp.csv')"
   ]
  },
  {
   "cell_type": "code",
   "execution_count": 6,
   "metadata": {},
   "outputs": [
    {
     "data": {
      "text/html": [
       "<div><style>\n",
       ".dataframe > thead > tr,\n",
       ".dataframe > tbody > tr {\n",
       "  text-align: right;\n",
       "  white-space: pre-wrap;\n",
       "}\n",
       "</style>\n",
       "<small>shape: (5, 103)</small><table border=\"1\" class=\"dataframe\"><thead><tr><th>play_start_datetime</th><th>play_end_datetime</th><th>pitch_type</th><th>pitch_name</th><th>game_date</th><th>release_speed</th><th>release_pos_x</th><th>release_pos_y</th><th>release_pos_z</th><th>player_name</th><th>batter</th><th>pitcher</th><th>events</th><th>description</th><th>spin_dir</th><th>spin_rate_deprecated</th><th>break_angle_deprecated</th><th>break_length_deprecated</th><th>zone</th><th>des</th><th>game_type</th><th>stand</th><th>p_throws</th><th>home_team</th><th>away_team</th><th>type</th><th>hit_location</th><th>bb_type</th><th>balls</th><th>strikes</th><th>pfx_x</th><th>pfx_z</th><th>plate_x</th><th>plate_z</th><th>on_3b</th><th>on_2b</th><th>on_1b</th><th>&hellip;</th><th>fielder_6</th><th>fielder_7</th><th>fielder_8</th><th>fielder_9</th><th>estimated_ba_using_speedangle</th><th>estimated_woba_using_speedangle</th><th>woba_value</th><th>woba_denom</th><th>babip_value</th><th>iso_value</th><th>launch_speed_angle</th><th>at_bat_number</th><th>pitch_number</th><th>home_score</th><th>away_score</th><th>bat_score</th><th>fld_score</th><th>post_away_score</th><th>post_home_score</th><th>post_bat_score</th><th>post_fld_score</th><th>if_fielding_alignment</th><th>of_fielding_alignment</th><th>spin_axis</th><th>delta_home_win_exp</th><th>delta_run_exp</th><th>game_month</th><th>game_day</th><th>game_year</th><th>league_id</th><th>league_name</th><th>league_level_id</th><th>league_level_name</th><th>away_team_org_id</th><th>away_team_org_name</th><th>home_team_org_id</th><th>home_team_org_name</th></tr><tr><td>str</td><td>str</td><td>str</td><td>str</td><td>str</td><td>f64</td><td>f64</td><td>f64</td><td>f64</td><td>str</td><td>i64</td><td>i64</td><td>str</td><td>str</td><td>f64</td><td>str</td><td>str</td><td>str</td><td>f64</td><td>str</td><td>str</td><td>str</td><td>str</td><td>str</td><td>str</td><td>str</td><td>f64</td><td>str</td><td>i64</td><td>i64</td><td>f64</td><td>f64</td><td>f64</td><td>f64</td><td>f64</td><td>f64</td><td>f64</td><td>&hellip;</td><td>i64</td><td>i64</td><td>i64</td><td>i64</td><td>str</td><td>str</td><td>str</td><td>str</td><td>str</td><td>str</td><td>str</td><td>i64</td><td>i64</td><td>i64</td><td>i64</td><td>i64</td><td>i64</td><td>i64</td><td>i64</td><td>i64</td><td>i64</td><td>str</td><td>str</td><td>f64</td><td>str</td><td>str</td><td>i64</td><td>i64</td><td>i64</td><td>i64</td><td>str</td><td>i64</td><td>str</td><td>i64</td><td>str</td><td>i64</td><td>str</td></tr></thead><tbody><tr><td>&quot;2024-09-01 17:07:03.093&quot;</td><td>&quot;2024-09-01 17:07:08.012&quot;</td><td>&quot;FF&quot;</td><td>&quot;Four-Seam Fastball&quot;</td><td>&quot;2024-09-01&quot;</td><td>90.2</td><td>3.371808</td><td>50.000903</td><td>5.283155</td><td>&quot;Jacob Lopez&quot;</td><td>672642</td><td>682052</td><td>null</td><td>&quot;Steward Berroa walks.&quot;</td><td>127.0</td><td>null</td><td>null</td><td>null</td><td>4.0</td><td>&quot;Steward Berroa walks.&quot;</td><td>&quot;R&quot;</td><td>&quot;R&quot;</td><td>&quot;L&quot;</td><td>&quot;DUR&quot;</td><td>&quot;BUF&quot;</td><td>&quot;F&quot;</td><td>null</td><td>null</td><td>0</td><td>1</td><td>9.317647</td><td>7.049699</td><td>-0.594899</td><td>2.084916</td><td>null</td><td>null</td><td>672642.0</td><td>&hellip;</td><td>678545</td><td>663968</td><td>670224</td><td>678010</td><td>null</td><td>null</td><td>null</td><td>null</td><td>null</td><td>null</td><td>null</td><td>0</td><td>1</td><td>0</td><td>0</td><td>0</td><td>0</td><td>0</td><td>0</td><td>0</td><td>0</td><td>null</td><td>null</td><td>127.0</td><td>null</td><td>null</td><td>9</td><td>1</td><td>2024</td><td>117</td><td>&quot;International League&quot;</td><td>11</td><td>&quot;Triple-A&quot;</td><td>141</td><td>&quot;Toronto Blue Jays&quot;</td><td>139</td><td>&quot;Tampa Bay Rays&quot;</td></tr><tr><td>&quot;2024-09-01 17:07:25.472&quot;</td><td>&quot;2024-09-01 17:07:29.046&quot;</td><td>&quot;FC&quot;</td><td>&quot;Cutter&quot;</td><td>&quot;2024-09-01&quot;</td><td>87.5</td><td>3.469588</td><td>50.003283</td><td>5.582611</td><td>&quot;Jacob Lopez&quot;</td><td>672642</td><td>682052</td><td>null</td><td>&quot;Steward Berroa walks.&quot;</td><td>162.0</td><td>null</td><td>null</td><td>null</td><td>12.0</td><td>&quot;Steward Berroa walks.&quot;</td><td>&quot;R&quot;</td><td>&quot;R&quot;</td><td>&quot;L&quot;</td><td>&quot;DUR&quot;</td><td>&quot;BUF&quot;</td><td>&quot;S&quot;</td><td>null</td><td>null</td><td>0</td><td>2</td><td>0.021562</td><td>4.775219</td><td>0.116185</td><td>3.32719</td><td>null</td><td>null</td><td>672642.0</td><td>&hellip;</td><td>678545</td><td>663968</td><td>670224</td><td>678010</td><td>null</td><td>null</td><td>null</td><td>null</td><td>null</td><td>null</td><td>null</td><td>0</td><td>2</td><td>0</td><td>0</td><td>0</td><td>0</td><td>0</td><td>0</td><td>0</td><td>0</td><td>null</td><td>null</td><td>162.0</td><td>null</td><td>null</td><td>9</td><td>1</td><td>2024</td><td>117</td><td>&quot;International League&quot;</td><td>11</td><td>&quot;Triple-A&quot;</td><td>141</td><td>&quot;Toronto Blue Jays&quot;</td><td>139</td><td>&quot;Tampa Bay Rays&quot;</td></tr><tr><td>&quot;2024-09-01 17:07:56.587&quot;</td><td>&quot;2024-09-01 17:08:00.140&quot;</td><td>&quot;SL&quot;</td><td>&quot;Slider&quot;</td><td>&quot;2024-09-01&quot;</td><td>76.8</td><td>3.660317</td><td>50.004987</td><td>5.145567</td><td>&quot;Jacob Lopez&quot;</td><td>672642</td><td>682052</td><td>null</td><td>&quot;Steward Berroa walks.&quot;</td><td>270.0</td><td>null</td><td>null</td><td>null</td><td>13.0</td><td>&quot;Steward Berroa walks.&quot;</td><td>&quot;R&quot;</td><td>&quot;R&quot;</td><td>&quot;L&quot;</td><td>&quot;DUR&quot;</td><td>&quot;BUF&quot;</td><td>&quot;B&quot;</td><td>null</td><td>null</td><td>1</td><td>2</td><td>-4.107323</td><td>0.476565</td><td>-0.294936</td><td>0.18301</td><td>null</td><td>null</td><td>672642.0</td><td>&hellip;</td><td>678545</td><td>663968</td><td>670224</td><td>678010</td><td>null</td><td>null</td><td>null</td><td>null</td><td>null</td><td>null</td><td>null</td><td>0</td><td>3</td><td>0</td><td>0</td><td>0</td><td>0</td><td>0</td><td>0</td><td>0</td><td>0</td><td>null</td><td>null</td><td>270.0</td><td>null</td><td>null</td><td>9</td><td>1</td><td>2024</td><td>117</td><td>&quot;International League&quot;</td><td>11</td><td>&quot;Triple-A&quot;</td><td>141</td><td>&quot;Toronto Blue Jays&quot;</td><td>139</td><td>&quot;Tampa Bay Rays&quot;</td></tr><tr><td>&quot;2024-09-01 17:08:17.386&quot;</td><td>&quot;2024-09-01 17:08:22.216&quot;</td><td>&quot;FF&quot;</td><td>&quot;Four-Seam Fastball&quot;</td><td>&quot;2024-09-01&quot;</td><td>90.7</td><td>3.31037</td><td>50.006308</td><td>5.476972</td><td>&quot;Jacob Lopez&quot;</td><td>672642</td><td>682052</td><td>null</td><td>&quot;Steward Berroa walks.&quot;</td><td>122.0</td><td>null</td><td>null</td><td>null</td><td>12.0</td><td>&quot;Steward Berroa walks.&quot;</td><td>&quot;R&quot;</td><td>&quot;R&quot;</td><td>&quot;L&quot;</td><td>&quot;DUR&quot;</td><td>&quot;BUF&quot;</td><td>&quot;B&quot;</td><td>null</td><td>null</td><td>2</td><td>2</td><td>8.003343</td><td>4.493381</td><td>0.277571</td><td>3.423279</td><td>null</td><td>null</td><td>672642.0</td><td>&hellip;</td><td>678545</td><td>663968</td><td>670224</td><td>678010</td><td>null</td><td>null</td><td>null</td><td>null</td><td>null</td><td>null</td><td>null</td><td>0</td><td>4</td><td>0</td><td>0</td><td>0</td><td>0</td><td>0</td><td>0</td><td>0</td><td>0</td><td>null</td><td>null</td><td>122.0</td><td>null</td><td>null</td><td>9</td><td>1</td><td>2024</td><td>117</td><td>&quot;International League&quot;</td><td>11</td><td>&quot;Triple-A&quot;</td><td>141</td><td>&quot;Toronto Blue Jays&quot;</td><td>139</td><td>&quot;Tampa Bay Rays&quot;</td></tr><tr><td>&quot;2024-09-01 17:08:33.400&quot;</td><td>&quot;2024-09-01 17:08:37.070&quot;</td><td>&quot;SL&quot;</td><td>&quot;Slider&quot;</td><td>&quot;2024-09-01&quot;</td><td>75.5</td><td>3.902736</td><td>50.005439</td><td>5.310993</td><td>&quot;Jacob Lopez&quot;</td><td>672642</td><td>682052</td><td>null</td><td>&quot;Steward Berroa walks.&quot;</td><td>284.0</td><td>null</td><td>null</td><td>null</td><td>14.0</td><td>&quot;Steward Berroa walks.&quot;</td><td>&quot;R&quot;</td><td>&quot;R&quot;</td><td>&quot;L&quot;</td><td>&quot;DUR&quot;</td><td>&quot;BUF&quot;</td><td>&quot;B&quot;</td><td>null</td><td>null</td><td>3</td><td>2</td><td>-7.764466</td><td>0.568018</td><td>1.486652</td><td>1.741694</td><td>null</td><td>null</td><td>672642.0</td><td>&hellip;</td><td>678545</td><td>663968</td><td>670224</td><td>678010</td><td>null</td><td>null</td><td>null</td><td>null</td><td>null</td><td>null</td><td>null</td><td>0</td><td>5</td><td>0</td><td>0</td><td>0</td><td>0</td><td>0</td><td>0</td><td>0</td><td>0</td><td>null</td><td>null</td><td>284.0</td><td>null</td><td>null</td><td>9</td><td>1</td><td>2024</td><td>117</td><td>&quot;International League&quot;</td><td>11</td><td>&quot;Triple-A&quot;</td><td>141</td><td>&quot;Toronto Blue Jays&quot;</td><td>139</td><td>&quot;Tampa Bay Rays&quot;</td></tr></tbody></table></div>"
      ],
      "text/plain": [
       "shape: (5, 103)\n",
       "┌───────────┬───────────┬───────────┬───────────┬───┬───────────┬───────────┬───────────┬──────────┐\n",
       "│ play_star ┆ play_end_ ┆ pitch_typ ┆ pitch_nam ┆ … ┆ away_team ┆ away_team ┆ home_team ┆ home_tea │\n",
       "│ t_datetim ┆ datetime  ┆ e         ┆ e         ┆   ┆ _org_id   ┆ _org_name ┆ _org_id   ┆ m_org_na │\n",
       "│ e         ┆ ---       ┆ ---       ┆ ---       ┆   ┆ ---       ┆ ---       ┆ ---       ┆ me       │\n",
       "│ ---       ┆ str       ┆ str       ┆ str       ┆   ┆ i64       ┆ str       ┆ i64       ┆ ---      │\n",
       "│ str       ┆           ┆           ┆           ┆   ┆           ┆           ┆           ┆ str      │\n",
       "╞═══════════╪═══════════╪═══════════╪═══════════╪═══╪═══════════╪═══════════╪═══════════╪══════════╡\n",
       "│ 2024-09-0 ┆ 2024-09-0 ┆ FF        ┆ Four-Seam ┆ … ┆ 141       ┆ Toronto   ┆ 139       ┆ Tampa    │\n",
       "│ 1 17:07:0 ┆ 1 17:07:0 ┆           ┆ Fastball  ┆   ┆           ┆ Blue Jays ┆           ┆ Bay Rays │\n",
       "│ 3.093     ┆ 8.012     ┆           ┆           ┆   ┆           ┆           ┆           ┆          │\n",
       "│ 2024-09-0 ┆ 2024-09-0 ┆ FC        ┆ Cutter    ┆ … ┆ 141       ┆ Toronto   ┆ 139       ┆ Tampa    │\n",
       "│ 1 17:07:2 ┆ 1 17:07:2 ┆           ┆           ┆   ┆           ┆ Blue Jays ┆           ┆ Bay Rays │\n",
       "│ 5.472     ┆ 9.046     ┆           ┆           ┆   ┆           ┆           ┆           ┆          │\n",
       "│ 2024-09-0 ┆ 2024-09-0 ┆ SL        ┆ Slider    ┆ … ┆ 141       ┆ Toronto   ┆ 139       ┆ Tampa    │\n",
       "│ 1 17:07:5 ┆ 1 17:08:0 ┆           ┆           ┆   ┆           ┆ Blue Jays ┆           ┆ Bay Rays │\n",
       "│ 6.587     ┆ 0.140     ┆           ┆           ┆   ┆           ┆           ┆           ┆          │\n",
       "│ 2024-09-0 ┆ 2024-09-0 ┆ FF        ┆ Four-Seam ┆ … ┆ 141       ┆ Toronto   ┆ 139       ┆ Tampa    │\n",
       "│ 1 17:08:1 ┆ 1 17:08:2 ┆           ┆ Fastball  ┆   ┆           ┆ Blue Jays ┆           ┆ Bay Rays │\n",
       "│ 7.386     ┆ 2.216     ┆           ┆           ┆   ┆           ┆           ┆           ┆          │\n",
       "│ 2024-09-0 ┆ 2024-09-0 ┆ SL        ┆ Slider    ┆ … ┆ 141       ┆ Toronto   ┆ 139       ┆ Tampa    │\n",
       "│ 1 17:08:3 ┆ 1 17:08:3 ┆           ┆           ┆   ┆           ┆ Blue Jays ┆           ┆ Bay Rays │\n",
       "│ 3.400     ┆ 7.070     ┆           ┆           ┆   ┆           ┆           ┆           ┆          │\n",
       "└───────────┴───────────┴───────────┴───────────┴───┴───────────┴───────────┴───────────┴──────────┘"
      ]
     },
     "execution_count": 6,
     "metadata": {},
     "output_type": "execute_result"
    }
   ],
   "source": [
    "pbp.head()"
   ]
  },
  {
   "cell_type": "markdown",
   "metadata": {},
   "source": [
    "# Filter to Pitches with Challenges"
   ]
  },
  {
   "cell_type": "code",
   "execution_count": 16,
   "metadata": {},
   "outputs": [],
   "source": [
    "ab_with_challenge = pbp.filter(pl.col('description').str.contains('challenge'))\n",
    "# last pitch of at bat: group by home team, away team, inning, top / bottom, at bat, and select last pitch \n",
    "group_cols = [\"home_team\", \"away_team\", \"game_date\", \"inning\", \"inning_top_bot\", \"at_bat_number\"]\n",
    "pitch_with_challenge = (\n",
    "    ab_with_challenge.sort(\"pitch_number\")\n",
    "    .group_by(group_cols)\n",
    "    .agg(pl.col(\"*\").last())\n",
    ")"
   ]
  },
  {
   "cell_type": "code",
   "execution_count": 17,
   "metadata": {},
   "outputs": [
    {
     "data": {
      "text/html": [
       "<div><style>\n",
       ".dataframe > thead > tr,\n",
       ".dataframe > tbody > tr {\n",
       "  text-align: right;\n",
       "  white-space: pre-wrap;\n",
       "}\n",
       "</style>\n",
       "<small>shape: (5, 103)</small><table border=\"1\" class=\"dataframe\"><thead><tr><th>home_team</th><th>away_team</th><th>game_date</th><th>inning</th><th>inning_top_bot</th><th>at_bat_number</th><th>play_start_datetime</th><th>play_end_datetime</th><th>pitch_type</th><th>pitch_name</th><th>release_speed</th><th>release_pos_x</th><th>release_pos_y</th><th>release_pos_z</th><th>player_name</th><th>batter</th><th>pitcher</th><th>events</th><th>description</th><th>spin_dir</th><th>spin_rate_deprecated</th><th>break_angle_deprecated</th><th>break_length_deprecated</th><th>zone</th><th>des</th><th>game_type</th><th>stand</th><th>p_throws</th><th>type</th><th>hit_location</th><th>bb_type</th><th>balls</th><th>strikes</th><th>pfx_x</th><th>pfx_z</th><th>plate_x</th><th>plate_z</th><th>&hellip;</th><th>fielder_5</th><th>fielder_6</th><th>fielder_7</th><th>fielder_8</th><th>fielder_9</th><th>estimated_ba_using_speedangle</th><th>estimated_woba_using_speedangle</th><th>woba_value</th><th>woba_denom</th><th>babip_value</th><th>iso_value</th><th>launch_speed_angle</th><th>pitch_number</th><th>home_score</th><th>away_score</th><th>bat_score</th><th>fld_score</th><th>post_away_score</th><th>post_home_score</th><th>post_bat_score</th><th>post_fld_score</th><th>if_fielding_alignment</th><th>of_fielding_alignment</th><th>spin_axis</th><th>delta_home_win_exp</th><th>delta_run_exp</th><th>game_month</th><th>game_day</th><th>game_year</th><th>league_id</th><th>league_name</th><th>league_level_id</th><th>league_level_name</th><th>away_team_org_id</th><th>away_team_org_name</th><th>home_team_org_id</th><th>home_team_org_name</th></tr><tr><td>str</td><td>str</td><td>str</td><td>i64</td><td>str</td><td>i64</td><td>str</td><td>str</td><td>str</td><td>str</td><td>f64</td><td>f64</td><td>f64</td><td>f64</td><td>str</td><td>i64</td><td>i64</td><td>str</td><td>str</td><td>f64</td><td>str</td><td>str</td><td>str</td><td>f64</td><td>str</td><td>str</td><td>str</td><td>str</td><td>str</td><td>f64</td><td>str</td><td>i64</td><td>i64</td><td>f64</td><td>f64</td><td>f64</td><td>f64</td><td>&hellip;</td><td>i64</td><td>i64</td><td>i64</td><td>i64</td><td>i64</td><td>str</td><td>str</td><td>str</td><td>str</td><td>str</td><td>str</td><td>str</td><td>i64</td><td>i64</td><td>i64</td><td>i64</td><td>i64</td><td>i64</td><td>i64</td><td>i64</td><td>i64</td><td>str</td><td>str</td><td>f64</td><td>str</td><td>str</td><td>i64</td><td>i64</td><td>i64</td><td>i64</td><td>str</td><td>i64</td><td>str</td><td>i64</td><td>str</td><td>i64</td><td>str</td></tr></thead><tbody><tr><td>&quot;SAC&quot;</td><td>&quot;SUG&quot;</td><td>&quot;2024-09-17&quot;</td><td>9</td><td>&quot;Top&quot;</td><td>69</td><td>&quot;2024-09-18 04:21:59.526&quot;</td><td>&quot;2024-09-18 04:22:16.536&quot;</td><td>&quot;SI&quot;</td><td>&quot;Sinker&quot;</td><td>97.6</td><td>-1.216051</td><td>50.000256</td><td>5.293622</td><td>&quot;Justin Garza&quot;</td><td>685744</td><td>621057</td><td>null</td><td>&quot;Space Cowboys challenged (pitc…</td><td>220.0</td><td>null</td><td>null</td><td>null</td><td>9.0</td><td>&quot;Space Cowboys challenged (pitc…</td><td>&quot;R&quot;</td><td>&quot;R&quot;</td><td>&quot;R&quot;</td><td>&quot;C&quot;</td><td>null</td><td>null</td><td>0</td><td>3</td><td>-5.389426</td><td>8.723485</td><td>0.454185</td><td>1.703726</td><td>&hellip;</td><td>681584</td><td>683766</td><td>666183</td><td>685133</td><td>682641</td><td>null</td><td>null</td><td>null</td><td>null</td><td>null</td><td>null</td><td>null</td><td>3</td><td>6</td><td>2</td><td>2</td><td>6</td><td>2</td><td>6</td><td>2</td><td>6</td><td>null</td><td>null</td><td>220.0</td><td>null</td><td>null</td><td>9</td><td>17</td><td>2024</td><td>112</td><td>&quot;Pacific Coast League&quot;</td><td>11</td><td>&quot;Triple-A&quot;</td><td>117</td><td>&quot;Houston Astros&quot;</td><td>137</td><td>&quot;San Francisco Giants&quot;</td></tr><tr><td>&quot;NAS&quot;</td><td>&quot;MEM&quot;</td><td>&quot;2024-09-11&quot;</td><td>7</td><td>&quot;Bot&quot;</td><td>59</td><td>&quot;2024-09-12 01:34:39.844&quot;</td><td>&quot;2024-09-12 01:35:06.854&quot;</td><td>&quot;FF&quot;</td><td>&quot;Four-Seam Fastball&quot;</td><td>94.8</td><td>-0.920117</td><td>50.004918</td><td>5.833522</td><td>&quot;Victor Santos&quot;</td><td>681962</td><td>673257</td><td>null</td><td>&quot;Sounds challenged (pitch resul…</td><td>228.0</td><td>null</td><td>null</td><td>null</td><td>12.0</td><td>&quot;Sounds challenged (pitch resul…</td><td>&quot;R&quot;</td><td>&quot;R&quot;</td><td>&quot;R&quot;</td><td>&quot;B&quot;</td><td>null</td><td>null</td><td>4</td><td>2</td><td>-4.530992</td><td>7.702041</td><td>0.815965</td><td>3.200612</td><td>&hellip;</td><td>693409</td><td>660614</td><td>663845</td><td>690443</td><td>689288</td><td>null</td><td>null</td><td>null</td><td>null</td><td>null</td><td>null</td><td>null</td><td>6</td><td>3</td><td>6</td><td>3</td><td>6</td><td>6</td><td>3</td><td>3</td><td>6</td><td>null</td><td>null</td><td>228.0</td><td>null</td><td>null</td><td>9</td><td>11</td><td>2024</td><td>117</td><td>&quot;International League&quot;</td><td>11</td><td>&quot;Triple-A&quot;</td><td>138</td><td>&quot;St. Louis Cardinals&quot;</td><td>158</td><td>&quot;Milwaukee Brewers&quot;</td></tr><tr><td>&quot;STP&quot;</td><td>&quot;IND&quot;</td><td>&quot;2024-09-17&quot;</td><td>1</td><td>&quot;Bot&quot;</td><td>5</td><td>&quot;2024-09-17 23:50:46.937&quot;</td><td>&quot;2024-09-17 23:51:13.966&quot;</td><td>&quot;FF&quot;</td><td>&quot;Four-Seam Fastball&quot;</td><td>96.4</td><td>-1.815072</td><td>50.003791</td><td>5.648918</td><td>&quot;Bubba Chandler&quot;</td><td>668885</td><td>696149</td><td>null</td><td>&quot;Saints challenged (pitch resul…</td><td>223.0</td><td>null</td><td>null</td><td>null</td><td>9.0</td><td>&quot;Saints challenged (pitch resul…</td><td>&quot;R&quot;</td><td>&quot;R&quot;</td><td>&quot;R&quot;</td><td>&quot;C&quot;</td><td>null</td><td>null</td><td>1</td><td>3</td><td>-7.695134</td><td>9.093659</td><td>0.514779</td><td>1.722274</td><td>&hellip;</td><td>682650</td><td>678894</td><td>669261</td><td>678225</td><td>641943</td><td>null</td><td>null</td><td>null</td><td>null</td><td>null</td><td>null</td><td>null</td><td>4</td><td>0</td><td>0</td><td>0</td><td>0</td><td>0</td><td>0</td><td>0</td><td>0</td><td>null</td><td>null</td><td>223.0</td><td>null</td><td>null</td><td>9</td><td>17</td><td>2024</td><td>117</td><td>&quot;International League&quot;</td><td>11</td><td>&quot;Triple-A&quot;</td><td>134</td><td>&quot;Pittsburgh Pirates&quot;</td><td>142</td><td>&quot;Minnesota Twins&quot;</td></tr><tr><td>&quot;SWB&quot;</td><td>&quot;LHV&quot;</td><td>&quot;2024-09-10&quot;</td><td>4</td><td>&quot;Bot&quot;</td><td>31</td><td>&quot;2024-09-10 23:44:52.259&quot;</td><td>&quot;2024-09-10 23:45:08.434&quot;</td><td>&quot;FC&quot;</td><td>&quot;Cutter&quot;</td><td>91.8</td><td>-1.792358</td><td>50.003551</td><td>5.781261</td><td>&quot;Kyle Tyler&quot;</td><td>666211</td><td>667725</td><td>null</td><td>&quot;IronPigs challenged (pitch res…</td><td>169.0</td><td>null</td><td>null</td><td>null</td><td>4.0</td><td>&quot;IronPigs challenged (pitch res…</td><td>&quot;R&quot;</td><td>&quot;L&quot;</td><td>&quot;R&quot;</td><td>&quot;C&quot;</td><td>null</td><td>null</td><td>2</td><td>3</td><td>3.351294</td><td>6.473475</td><td>-0.651987</td><td>2.349686</td><td>&hellip;</td><td>805249</td><td>664068</td><td>663714</td><td>663630</td><td>678926</td><td>null</td><td>null</td><td>null</td><td>null</td><td>null</td><td>null</td><td>null</td><td>5</td><td>0</td><td>1</td><td>0</td><td>1</td><td>1</td><td>0</td><td>0</td><td>1</td><td>null</td><td>null</td><td>169.0</td><td>null</td><td>null</td><td>9</td><td>10</td><td>2024</td><td>117</td><td>&quot;International League&quot;</td><td>11</td><td>&quot;Triple-A&quot;</td><td>143</td><td>&quot;Philadelphia Phillies&quot;</td><td>147</td><td>&quot;New York Yankees&quot;</td></tr><tr><td>&quot;ABQ&quot;</td><td>&quot;LV&quot;</td><td>&quot;2024-09-10&quot;</td><td>6</td><td>&quot;Top&quot;</td><td>51</td><td>&quot;2024-09-11 02:26:58.299&quot;</td><td>&quot;2024-09-11 02:27:25.320&quot;</td><td>&quot;FF&quot;</td><td>&quot;Four-Seam Fastball&quot;</td><td>93.1</td><td>-1.259197</td><td>50.004501</td><td>5.39134</td><td>&quot;Chance Adams&quot;</td><td>687231</td><td>664856</td><td>null</td><td>&quot;Aviators challenged (pitch res…</td><td>213.0</td><td>null</td><td>null</td><td>null</td><td>7.0</td><td>&quot;Aviators challenged (pitch res…</td><td>&quot;R&quot;</td><td>&quot;R&quot;</td><td>&quot;R&quot;</td><td>&quot;C&quot;</td><td>null</td><td>null</td><td>2</td><td>3</td><td>-0.928725</td><td>6.903083</td><td>-0.673426</td><td>1.737929</td><td>&hellip;</td><td>660707</td><td>675659</td><td>680683</td><td>691728</td><td>692585</td><td>null</td><td>null</td><td>null</td><td>null</td><td>null</td><td>null</td><td>null</td><td>5</td><td>2</td><td>3</td><td>3</td><td>2</td><td>3</td><td>2</td><td>3</td><td>2</td><td>null</td><td>null</td><td>213.0</td><td>null</td><td>null</td><td>9</td><td>10</td><td>2024</td><td>112</td><td>&quot;Pacific Coast League&quot;</td><td>11</td><td>&quot;Triple-A&quot;</td><td>133</td><td>&quot;Oakland Athletics&quot;</td><td>115</td><td>&quot;Colorado Rockies&quot;</td></tr></tbody></table></div>"
      ],
      "text/plain": [
       "shape: (5, 103)\n",
       "┌───────────┬───────────┬────────────┬────────┬───┬────────────┬───────────┬───────────┬───────────┐\n",
       "│ home_team ┆ away_team ┆ game_date  ┆ inning ┆ … ┆ away_team_ ┆ away_team ┆ home_team ┆ home_team │\n",
       "│ ---       ┆ ---       ┆ ---        ┆ ---    ┆   ┆ org_id     ┆ _org_name ┆ _org_id   ┆ _org_name │\n",
       "│ str       ┆ str       ┆ str        ┆ i64    ┆   ┆ ---        ┆ ---       ┆ ---       ┆ ---       │\n",
       "│           ┆           ┆            ┆        ┆   ┆ i64        ┆ str       ┆ i64       ┆ str       │\n",
       "╞═══════════╪═══════════╪════════════╪════════╪═══╪════════════╪═══════════╪═══════════╪═══════════╡\n",
       "│ SAC       ┆ SUG       ┆ 2024-09-17 ┆ 9      ┆ … ┆ 117        ┆ Houston   ┆ 137       ┆ San       │\n",
       "│           ┆           ┆            ┆        ┆   ┆            ┆ Astros    ┆           ┆ Francisco │\n",
       "│           ┆           ┆            ┆        ┆   ┆            ┆           ┆           ┆ Giants    │\n",
       "│ NAS       ┆ MEM       ┆ 2024-09-11 ┆ 7      ┆ … ┆ 138        ┆ St. Louis ┆ 158       ┆ Milwaukee │\n",
       "│           ┆           ┆            ┆        ┆   ┆            ┆ Cardinals ┆           ┆ Brewers   │\n",
       "│ STP       ┆ IND       ┆ 2024-09-17 ┆ 1      ┆ … ┆ 134        ┆ Pittsburg ┆ 142       ┆ Minnesota │\n",
       "│           ┆           ┆            ┆        ┆   ┆            ┆ h Pirates ┆           ┆ Twins     │\n",
       "│ SWB       ┆ LHV       ┆ 2024-09-10 ┆ 4      ┆ … ┆ 143        ┆ Philadelp ┆ 147       ┆ New York  │\n",
       "│           ┆           ┆            ┆        ┆   ┆            ┆ hia       ┆           ┆ Yankees   │\n",
       "│           ┆           ┆            ┆        ┆   ┆            ┆ Phillies  ┆           ┆           │\n",
       "│ ABQ       ┆ LV        ┆ 2024-09-10 ┆ 6      ┆ … ┆ 133        ┆ Oakland   ┆ 115       ┆ Colorado  │\n",
       "│           ┆           ┆            ┆        ┆   ┆            ┆ Athletics ┆           ┆ Rockies   │\n",
       "└───────────┴───────────┴────────────┴────────┴───┴────────────┴───────────┴───────────┴───────────┘"
      ]
     },
     "execution_count": 17,
     "metadata": {},
     "output_type": "execute_result"
    }
   ],
   "source": [
    "pitch_with_challenge.head()"
   ]
  },
  {
   "cell_type": "code",
   "execution_count": 33,
   "metadata": {},
   "outputs": [
    {
     "data": {
      "text/html": [
       "<div><style>\n",
       ".dataframe > thead > tr,\n",
       ".dataframe > tbody > tr {\n",
       "  text-align: right;\n",
       "  white-space: pre-wrap;\n",
       "}\n",
       "</style>\n",
       "<small>shape: (2, 1)</small><table border=\"1\" class=\"dataframe\"><thead><tr><th>challenge_successful</th></tr><tr><td>struct[2]</td></tr></thead><tbody><tr><td>{0,195}</td></tr><tr><td>{1,51}</td></tr></tbody></table></div>"
      ],
      "text/plain": [
       "shape: (2, 1)\n",
       "┌──────────────────────┐\n",
       "│ challenge_successful │\n",
       "│ ---                  │\n",
       "│ struct[2]            │\n",
       "╞══════════════════════╡\n",
       "│ {0,195}              │\n",
       "│ {1,51}               │\n",
       "└──────────────────────┘"
      ]
     },
     "execution_count": 33,
     "metadata": {},
     "output_type": "execute_result"
    }
   ],
   "source": [
    "# upheld vs overturned\n",
    "pitch_with_challenge = pitch_with_challenge.with_columns(\n",
    "    pl.when(pl.col('description').str.contains(r\"(?i)overturned\"))\n",
    "    .then(1)\n",
    "    .otherwise(0)\n",
    "    .alias('challenge_successful')\n",
    ")\n",
    "# in September 2024, 51 successful challenges and 195 unsuccessful challenges\n",
    "pitch_with_challenge.select(pl.col('challenge_successful').value_counts())"
   ]
  },
  {
   "cell_type": "code",
   "execution_count": 32,
   "metadata": {},
   "outputs": [
    {
     "data": {
      "text/html": [
       "<div><style>\n",
       ".dataframe > thead > tr,\n",
       ".dataframe > tbody > tr {\n",
       "  text-align: right;\n",
       "  white-space: pre-wrap;\n",
       "}\n",
       "</style>\n",
       "<small>shape: (246, 1)</small><table border=\"1\" class=\"dataframe\"><thead><tr><th>type</th></tr><tr><td>str</td></tr></thead><tbody><tr><td>&quot;C&quot;</td></tr><tr><td>&quot;B&quot;</td></tr><tr><td>&quot;C&quot;</td></tr><tr><td>&quot;C&quot;</td></tr><tr><td>&quot;C&quot;</td></tr><tr><td>&hellip;</td></tr><tr><td>&quot;B&quot;</td></tr><tr><td>&quot;B&quot;</td></tr><tr><td>&quot;C&quot;</td></tr><tr><td>&quot;B&quot;</td></tr><tr><td>&quot;B&quot;</td></tr></tbody></table></div>"
      ],
      "text/plain": [
       "shape: (246, 1)\n",
       "┌──────┐\n",
       "│ type │\n",
       "│ ---  │\n",
       "│ str  │\n",
       "╞══════╡\n",
       "│ C    │\n",
       "│ B    │\n",
       "│ C    │\n",
       "│ C    │\n",
       "│ C    │\n",
       "│ …    │\n",
       "│ B    │\n",
       "│ B    │\n",
       "│ C    │\n",
       "│ B    │\n",
       "│ B    │\n",
       "└──────┘"
      ]
     },
     "execution_count": 32,
     "metadata": {},
     "output_type": "execute_result"
    }
   ],
   "source": [
    "pitch_with_challenge.select(pl.col('type'))"
   ]
  },
  {
   "cell_type": "code",
   "execution_count": 37,
   "metadata": {},
   "outputs": [
    {
     "data": {
      "text/html": [
       "<div><style>\n",
       ".dataframe > thead > tr,\n",
       ".dataframe > tbody > tr {\n",
       "  text-align: right;\n",
       "  white-space: pre-wrap;\n",
       "}\n",
       "</style>\n",
       "<small>shape: (3, 1)</small><table border=\"1\" class=\"dataframe\"><thead><tr><th>challenge_by</th></tr><tr><td>struct[2]</td></tr></thead><tbody><tr><td>{0,33}</td></tr><tr><td>{null,169}</td></tr><tr><td>{1,44}</td></tr></tbody></table></div>"
      ],
      "text/plain": [
       "shape: (3, 1)\n",
       "┌──────────────┐\n",
       "│ challenge_by │\n",
       "│ ---          │\n",
       "│ struct[2]    │\n",
       "╞══════════════╡\n",
       "│ {0,33}       │\n",
       "│ {null,169}   │\n",
       "│ {1,44}       │\n",
       "└──────────────┘"
      ]
     },
     "execution_count": 37,
     "metadata": {},
     "output_type": "execute_result"
    }
   ],
   "source": [
    "# offensive vs. defensive challenge\n",
    "# if type = S and challenge successful = 1, defense (1)\n",
    "# if type = S and challenge successful = 0, offense (0)\n",
    "# if type = B and challenge successful = 1, offense\n",
    "# if type = B and challenge successful = 0, defense\n",
    "pitch_with_challenge = pitch_with_challenge.with_columns(\n",
    "    pl.when((pl.col(\"type\") == \"S\") & (pl.col(\"challenge_successful\") == 1))\n",
    "    .then(1)\n",
    "    .when((pl.col(\"type\") == \"S\") & (pl.col(\"challenge_successful\") == 0))\n",
    "    .then(0)\n",
    "    .when((pl.col(\"type\") == \"B\") & (pl.col(\"challenge_successful\") == 1))\n",
    "    .then(0)\n",
    "    .when((pl.col(\"type\") == \"B\") & (pl.col(\"challenge_successful\") == 0))\n",
    "    .then(1)\n",
    "    .alias(\"challenge_by\")\n",
    ")\n",
    "pitch_with_challenge.select(pl.col('challenge_by').value_counts())"
   ]
  }
 ],
 "metadata": {
  "kernelspec": {
   "display_name": "venv",
   "language": "python",
   "name": "python3"
  },
  "language_info": {
   "codemirror_mode": {
    "name": "ipython",
    "version": 3
   },
   "file_extension": ".py",
   "mimetype": "text/x-python",
   "name": "python",
   "nbconvert_exporter": "python",
   "pygments_lexer": "ipython3",
   "version": "3.13.0"
  }
 },
 "nbformat": 4,
 "nbformat_minor": 2
}
